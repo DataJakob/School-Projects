{
 "cells": [
  {
   "cell_type": "code",
   "execution_count": 3,
   "metadata": {},
   "outputs": [
    {
     "name": "stdout",
     "output_type": "stream",
     "text": [
      "Hello world\n"
     ]
    }
   ],
   "source": [
    "print('Hello world')"
   ]
  },
  {
   "cell_type": "code",
   "execution_count": 2,
   "metadata": {},
   "outputs": [],
   "source": [
    "import numpy as np \n",
    "import matplotlib.pyplot as plt"
   ]
  },
  {
   "cell_type": "code",
   "execution_count": null,
   "metadata": {},
   "outputs": [],
   "source": [
    "# S, K, risk, periods, rate_i, rate_dy, \n",
    "# option_type, exercise_style, "
   ]
  },
  {
   "cell_type": "code",
   "execution_count": null,
   "metadata": {},
   "outputs": [],
   "source": []
  },
  {
   "cell_type": "code",
   "execution_count": 117,
   "metadata": {},
   "outputs": [],
   "source": [
    "class BinPriMod:\n",
    "    def __init__(self, S, K, sigma, periods, h, rate_i, rate_dy,\n",
    "                 option_type, exercise_style, txt_shift):\n",
    "        self.spot = S\n",
    "        self.strike = K\n",
    "        self.risk = sigma\n",
    "        self.periods = periods\n",
    "        self.time_span = h\n",
    "        self.risk_free = rate_i\n",
    "        self.dividend_yield = rate_dy\n",
    "        self.option_type = option_type\n",
    "        self.exercise_style = exercise_style\n",
    "        self.period_length = self.periods / self.time_span\n",
    "        self.text_shift = txt_shift\n",
    "        self.values = None\n",
    "        self.prices = None\n",
    "\n",
    "\n",
    "    def help():\n",
    "        print('def __init__(self, S, K, sigma, periods, h, rate_i, rate_dy,option_type, exercise_style):')\n",
    "        print('\\n')\n",
    "        print('Commands:\\nup_and_down,\\nstorage_values,\\noption_price')\n",
    "\n",
    "    def up_and_down(self, spot, h):   \n",
    "        uS = spot*np.e**((self.risk_free - self.dividend_yield) * \n",
    "                              h + self.risk*np.sqrt(h)) \n",
    "        dS = spot*np.e**((self.risk_free -self.dividend_yield) * \n",
    "                              h - self.risk*np.sqrt(h))\n",
    "        return [uS, dS]\n",
    "\n",
    "    def storage_values(self):\n",
    "        storage = [[self.spot]]\n",
    "        for i in range(0, self.periods,1):\n",
    "            sub_storage = []\n",
    "            for j in range(0, len(storage[i]),2):   \n",
    "                sub_storage.append(np.array(self.up_and_down(storage[i][j],\n",
    "                                                             self.time_span)))\n",
    "            if (i+1)>=2:\n",
    "                if (i+1)%2== 0:\n",
    "                    sub_storage.append(np.reshape(self.up_and_down(storage[i][j+1],\n",
    "                                                                   self.time_span)[1],(1,)))\n",
    "            fixed = np.concatenate(sub_storage)\n",
    "            storage.append(np.round(fixed,3))\n",
    "        self.values = storage\n",
    "        return self.values \n",
    "\n",
    "\n",
    "    def option_price(self, \n",
    "                     up, down, high_optpri, low_optpri):\n",
    "        u = up/self.spot\n",
    "        d = down/self.spot\n",
    "        p = (np.e**((self.risk_free-self.dividend_yield)*self.time_span)-d)/(u-d)\n",
    "\n",
    "        opt_price = np.e**(-self.risk_free*self.time_span) * ((high_optpri*p)+(low_optpri*(1-p)))\n",
    "\n",
    "        if self.exercise_style == 'European':\n",
    "            opt_price = opt_price\n",
    "        elif self.exercise_style == 'American':\n",
    "            if self.option_type =='Put':\n",
    "                opt_price = max(opt_price, self.strike -self.spot)\n",
    "            else:\n",
    "                opt_price = max(opt_price, self.spot-self.strike)            \n",
    "        else:\n",
    "            print('State exercise style!!!')\n",
    "        return round(opt_price,3)\n",
    "    \n",
    "    def storage_prices(self):\n",
    "\n",
    "        latest_opt_pri = []\n",
    "        print(self.values)\n",
    "\n",
    "        if self.option_type=='Call':\n",
    "            array = np.where(self.values[self.periods]-self.strike>0,self.values[self.period_length]-self.strike,0)\n",
    "        elif self.option_type=='Put':\n",
    "            array = np.where(self.values[self.period_length]-self.strike<0,self.values[self.period_length]-self.strike,0)\n",
    "        else:\n",
    "            print('State option type!!!')\n",
    "        latest_opt_pri.append(abs(array))\n",
    "\n",
    "        for i in range(0, self.period_length, 1): #periods -1\n",
    "            sub_optpri_storage = []\n",
    "            for j in range(0,self.period_length-i,1):   #periods- 1\n",
    "                sub_optpri_storage.append(self.option_price(self,\n",
    "                                                            self.values[self.period_length][-j-1], \n",
    "                                                            self.values[self.period_length][-j-2],\n",
    "                                                            latest_opt_pri[i][-1-j], \n",
    "                                                            latest_opt_pri[i][-2-j]))\n",
    "            latest_opt_pri.append(np.flip(np.round(sub_optpri_storage,2)))\n",
    "        self.prices = np.flip(latest_opt_pri)\n",
    "    \n",
    "    \n",
    "\n",
    "    def plot_bin_tree(self):\n",
    "    \n",
    "\n",
    "        fig, ax = plt.subplots(figsize=(6,6))\n",
    "        ax.scatter(x=[0], y=[self.values[0][0]])\n",
    "        for i in range(0,int(self.period_length)+1,1):\n",
    "            ax.scatter(x=np.repeat((i)*self.time_span,i+1), y= self.values[i])\n",
    "            for j in range(0,i+1,1):\n",
    "                text_value = 'Value '+ str(self.values[i][j])\n",
    "                text_price = 'Price '+ str(self.prices[i][j])\n",
    "                ax.annotate(text_value, xy=(i*self.time_span, self.values[i][j]+self.text_shift))\n",
    "                ax.annotate(text_price, xy=(i*self.time_span, self.values[i][j]-self.text_shift))\n",
    "            ax.set_xlabel('Months')\n",
    "        ax.set_ylabel('Price')\n",
    "        plt.xlim(-2,self.periods+2*self.time_span)\n",
    "        plt.title('Binomial tree for '+self.exercise_style+' '+self.option_type+' option')\n",
    "        plt.show()\n",
    "\n"
   ]
  },
  {
   "cell_type": "code",
   "execution_count": 63,
   "metadata": {},
   "outputs": [
    {
     "name": "stdout",
     "output_type": "stream",
     "text": [
      "def __init__(self, S, K, sigma, periods, h, rate_i, rate_dy,option_type, exercise_style):\n",
      "\n",
      "\n",
      "Commands:\n",
      "up_and_down,\n",
      "storage_values,\n",
      "option_price\n"
     ]
    }
   ],
   "source": [
    "BinPriMod.help()"
   ]
  },
  {
   "cell_type": "code",
   "execution_count": 104,
   "metadata": {},
   "outputs": [
    {
     "data": {
      "text/plain": [
       "[[50],\n",
       " array([66.821, 36.672]),\n",
       " array([89.301, 49.01 , 26.897]),\n",
       " array([119.344,  65.498,  35.946,  19.728])]"
      ]
     },
     "execution_count": 104,
     "metadata": {},
     "output_type": "execute_result"
    }
   ],
   "source": [
    "boy = BinPriMod(50, 52, 0.3, 3, 1, 0.03, 0.04, 'Call', 'Put',3)\n",
    "boy.storage_values()"
   ]
  },
  {
   "cell_type": "code",
   "execution_count": 118,
   "metadata": {},
   "outputs": [
    {
     "name": "stdout",
     "output_type": "stream",
     "text": [
      "[[50], array([66.821, 36.672]), array([89.301, 49.01 , 26.897]), array([119.344,  65.498,  35.946,  19.728])]\n"
     ]
    },
    {
     "ename": "AttributeError",
     "evalue": "'BinPriMod' object has no attribute 'storage'",
     "output_type": "error",
     "traceback": [
      "\u001b[1;31m---------------------------------------------------------------------------\u001b[0m",
      "\u001b[1;31mAttributeError\u001b[0m                            Traceback (most recent call last)",
      "\u001b[1;32m~\\AppData\\Local\\Temp\\ipykernel_9764\\405216906.py\u001b[0m in \u001b[0;36m<module>\u001b[1;34m\u001b[0m\n\u001b[1;32m----> 1\u001b[1;33m \u001b[0mboy\u001b[0m\u001b[1;33m.\u001b[0m\u001b[0mstorage_prices\u001b[0m\u001b[1;33m(\u001b[0m\u001b[1;33m)\u001b[0m\u001b[1;33m\u001b[0m\u001b[1;33m\u001b[0m\u001b[0m\n\u001b[0m",
      "\u001b[1;32m~\\AppData\\Local\\Temp\\ipykernel_9764\\668353321.py\u001b[0m in \u001b[0;36mstorage_prices\u001b[1;34m(self)\u001b[0m\n\u001b[0;32m     71\u001b[0m \u001b[1;33m\u001b[0m\u001b[0m\n\u001b[0;32m     72\u001b[0m         \u001b[1;32mif\u001b[0m \u001b[0mself\u001b[0m\u001b[1;33m.\u001b[0m\u001b[0moption_type\u001b[0m\u001b[1;33m==\u001b[0m\u001b[1;34m'Call'\u001b[0m\u001b[1;33m:\u001b[0m\u001b[1;33m\u001b[0m\u001b[1;33m\u001b[0m\u001b[0m\n\u001b[1;32m---> 73\u001b[1;33m             \u001b[0marray\u001b[0m \u001b[1;33m=\u001b[0m \u001b[0mnp\u001b[0m\u001b[1;33m.\u001b[0m\u001b[0mwhere\u001b[0m\u001b[1;33m(\u001b[0m\u001b[0mself\u001b[0m\u001b[1;33m.\u001b[0m\u001b[0mstorage\u001b[0m\u001b[1;33m[\u001b[0m\u001b[0mself\u001b[0m\u001b[1;33m.\u001b[0m\u001b[0mperiods\u001b[0m\u001b[1;33m]\u001b[0m\u001b[1;33m-\u001b[0m\u001b[0mself\u001b[0m\u001b[1;33m.\u001b[0m\u001b[0mstrike\u001b[0m\u001b[1;33m>\u001b[0m\u001b[1;36m0\u001b[0m\u001b[1;33m,\u001b[0m\u001b[0mself\u001b[0m\u001b[1;33m.\u001b[0m\u001b[0mstorage\u001b[0m\u001b[1;33m[\u001b[0m\u001b[0mself\u001b[0m\u001b[1;33m.\u001b[0m\u001b[0mperiod_length\u001b[0m\u001b[1;33m]\u001b[0m\u001b[1;33m-\u001b[0m\u001b[0mself\u001b[0m\u001b[1;33m.\u001b[0m\u001b[0mstrike\u001b[0m\u001b[1;33m,\u001b[0m\u001b[1;36m0\u001b[0m\u001b[1;33m)\u001b[0m\u001b[1;33m\u001b[0m\u001b[1;33m\u001b[0m\u001b[0m\n\u001b[0m\u001b[0;32m     74\u001b[0m         \u001b[1;32melif\u001b[0m \u001b[0mself\u001b[0m\u001b[1;33m.\u001b[0m\u001b[0moption_type\u001b[0m\u001b[1;33m==\u001b[0m\u001b[1;34m'Put'\u001b[0m\u001b[1;33m:\u001b[0m\u001b[1;33m\u001b[0m\u001b[1;33m\u001b[0m\u001b[0m\n\u001b[0;32m     75\u001b[0m             \u001b[0marray\u001b[0m \u001b[1;33m=\u001b[0m \u001b[0mnp\u001b[0m\u001b[1;33m.\u001b[0m\u001b[0mwhere\u001b[0m\u001b[1;33m(\u001b[0m\u001b[0mself\u001b[0m\u001b[1;33m.\u001b[0m\u001b[0mstorage\u001b[0m\u001b[1;33m[\u001b[0m\u001b[0mself\u001b[0m\u001b[1;33m.\u001b[0m\u001b[0mperiod_length\u001b[0m\u001b[1;33m]\u001b[0m\u001b[1;33m-\u001b[0m\u001b[0mself\u001b[0m\u001b[1;33m.\u001b[0m\u001b[0mstrike\u001b[0m\u001b[1;33m<\u001b[0m\u001b[1;36m0\u001b[0m\u001b[1;33m,\u001b[0m\u001b[0mself\u001b[0m\u001b[1;33m.\u001b[0m\u001b[0mstorage\u001b[0m\u001b[1;33m[\u001b[0m\u001b[0mself\u001b[0m\u001b[1;33m.\u001b[0m\u001b[0mperiod_length\u001b[0m\u001b[1;33m]\u001b[0m\u001b[1;33m-\u001b[0m\u001b[0mself\u001b[0m\u001b[1;33m.\u001b[0m\u001b[0mstrike\u001b[0m\u001b[1;33m,\u001b[0m\u001b[1;36m0\u001b[0m\u001b[1;33m)\u001b[0m\u001b[1;33m\u001b[0m\u001b[1;33m\u001b[0m\u001b[0m\n",
      "\u001b[1;31mAttributeError\u001b[0m: 'BinPriMod' object has no attribute 'storage'"
     ]
    }
   ],
   "source": [
    "boy.storage_prices()"
   ]
  },
  {
   "cell_type": "code",
   "execution_count": null,
   "metadata": {},
   "outputs": [],
   "source": []
  }
 ],
 "metadata": {
  "kernelspec": {
   "display_name": "base",
   "language": "python",
   "name": "python3"
  },
  "language_info": {
   "codemirror_mode": {
    "name": "ipython",
    "version": 3
   },
   "file_extension": ".py",
   "mimetype": "text/x-python",
   "name": "python",
   "nbconvert_exporter": "python",
   "pygments_lexer": "ipython3",
   "version": "3.9.13"
  }
 },
 "nbformat": 4,
 "nbformat_minor": 2
}
