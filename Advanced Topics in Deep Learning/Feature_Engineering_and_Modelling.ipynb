{
 "cells": [
  {
   "cell_type": "markdown",
   "metadata": {},
   "source": [
    "<h1> Feature engineering <br>\n",
    "Modelling <br>\n",
    "and Evaluation</h2>\n",
    "<br>\n",
    "<br>\n",
    "<b> This is work in progress! </b> <p> Next up is making the pipeline more automated. Scaling the targets. And finetune  the  LSTM, which architeture should it have. How many lags, how many LSTM units, how many  layers, how many perceptrons, which activation functions, and which special layers to add to the architecture. \n",
    "<br>\n",
    "<br>\n",
    "Radical change: use NIBOR in stead of interest rate, because it is update daily and can give better results.\n",
    "<h4> Readying the forecast dataset </h4>\n",
    "Use Ohrnstein Uhlenbeck process to find Food_index price. Use SSB/NB to find forecasts for policy rate. Find some forecasts or eventually use OU-process to find the FX."
   ]
  },
  {
   "cell_type": "markdown",
   "metadata": {},
   "source": [
    "<!-- <ol>\n",
    "<li>Deterministic process</li>\n",
    "<li>Lagged variables</li>\n",
    "<li> Fourier</li>\n",
    "<li>Seasonal indicators (very important)</li>\n",
    "<li></li>\n",
    "<li></li>\n",
    "<li></li>\n",
    "</ol> -->"
   ]
  },
  {
   "cell_type": "markdown",
   "metadata": {},
   "source": [
    "<h1> 1. Getting started </h1>\n",
    "<h2> 1.1 Importing libraries </h2>"
   ]
  },
  {
   "cell_type": "code",
   "execution_count": 1,
   "metadata": {},
   "outputs": [],
   "source": [
    "import numpy as np\n",
    "import pandas as pd\n",
    "import matplotlib.pyplot as plt\n",
    "import seaborn as sns\n",
    "\n",
    "from sklearn.model_selection import train_test_split\n",
    "from sklearn.preprocessing import StandardScaler\n",
    "from sklearn.pipeline import Pipeline\n",
    "from sklearn.preprocessing import FunctionTransformer\n",
    "from sklearn.compose import ColumnTransformer\n",
    "\n",
    "\n",
    "\n",
    "import tensorflow as tf\n",
    "from tensorflow import keras\n",
    "from keras import Sequential, layers, Input, callbacks\n",
    "from keras.layers import Dense\n",
    "from keras.layers import LSTM\n",
    "from keras.layers import Activation\n",
    "\n",
    "from statsmodels.tsa.deterministic import DeterministicProcess\n",
    "from statsmodels.tsa.deterministic import  CalendarFourier"
   ]
  },
  {
   "cell_type": "markdown",
   "metadata": {},
   "source": [
    "<h2> 1.2 Downloading data </h2>"
   ]
  },
  {
   "cell_type": "code",
   "execution_count": 2,
   "metadata": {},
   "outputs": [],
   "source": [
    "df = pd.read_csv('Preprocessed_data.csv')\n",
    "df.index = pd.to_datetime(df['Date'], format='%Y-%m-%d')\n",
    "df.drop(['Date'], axis=1, inplace=True)"
   ]
  },
  {
   "cell_type": "markdown",
   "metadata": {},
   "source": [
    "<h2> 1.3 Splitting data in 3*2"
   ]
  },
  {
   "cell_type": "code",
   "execution_count": 3,
   "metadata": {},
   "outputs": [],
   "source": [
    "y = df['Salmon_exp_vol']\n",
    "X = df.loc[:,'FX_EURONOK':]\n",
    "\n",
    "X_train, X_eval, y_train, y_eval = train_test_split(X,y, \n",
    "                                                    test_size=0.2,\n",
    "                                                    shuffle=False)\n",
    "X_val, X_test, y_val, y_test = train_test_split(X_eval, y_eval, \n",
    "                                                test_size=0.5,\n",
    "                                                shuffle=False)"
   ]
  },
  {
   "cell_type": "code",
   "execution_count": 4,
   "metadata": {},
   "outputs": [],
   "source": [
    "def seasonal_indicators(X):\n",
    "    # weeks = [1,2,3,4,5,6,42,43,44,45,46,47,48,49,50,51,52]\n",
    "    weeks = np.linspace(1,52,52)\n",
    "    indicator_df = pd.DataFrame()\n",
    "    for ind_week in range(len(weeks)):\n",
    "        column = np.where(X.index.isocalendar().week==weeks[ind_week],1,0)\n",
    "        indicator_df['IndWeek'+str(weeks[ind_week])] = column\n",
    "    indicator_df.index = X.index\n",
    "    new_X = pd.concat([X, indicator_df],axis=1)\n",
    "    return new_X\n",
    "indicator_func = FunctionTransformer(func=seasonal_indicators)\n"
   ]
  },
  {
   "cell_type": "markdown",
   "metadata": {},
   "source": [
    "<h1> 2. Feature engineering </h1>"
   ]
  },
  {
   "cell_type": "markdown",
   "metadata": {},
   "source": [
    "<h2> 2.1 Manual imputing </h2>"
   ]
  },
  {
   "cell_type": "code",
   "execution_count": 5,
   "metadata": {},
   "outputs": [],
   "source": [
    "X_train['FX_EURONOK']['2002-10-14'] = 7.34\n",
    "X_train['FX_EURONOK']['2008-08-04'] = 7.9995\n",
    "X_train['FX_EURONOK']['2008-08-08'] = 7.9915\n",
    "X_train['FX_EURONOK']['2008-08-11'] = 7.9975\n",
    "X_train['FX_EURONOK']['2008-08-18'] = 7.9740"
   ]
  },
  {
   "cell_type": "markdown",
   "metadata": {},
   "source": [
    "<h2> 2.2 Time dummy and Fourier  </h2>"
   ]
  },
  {
   "cell_type": "code",
   "execution_count": 16,
   "metadata": {},
   "outputs": [],
   "source": [
    "def det_process(X, startValue=None):\n",
    "    # fourier0  =  CalendarFourier(freq='A',  order=3)\n",
    "    # fourier1  =  CalendarFourier(freq='6M',  order=3)\n",
    "    # fourier2  =  CalendarFourier(freq='Q',  order=3)\n",
    "\n",
    "    dp = DeterministicProcess(\n",
    "        index=X.index,\n",
    "        constant=True,\n",
    "        order=1,\n",
    "        seasonal=True,\n",
    "        # additional_terms=[fourier0,fourier1,fourier2],\n",
    "        drop=True\n",
    "    ) \n",
    "    dp = dp.in_sample()\n",
    "    dp['trend'] += startValue\n",
    "    new_X = pd.concat([X,dp], axis=1)\n",
    "    return new_X\n",
    "time_func = FunctionTransformer(func=det_process, \n",
    "                                kw_args={'startValue':None})\n"
   ]
  },
  {
   "cell_type": "markdown",
   "metadata": {},
   "source": [
    "<h2> 2.3  Column specific engineering </h2>\n",
    "<h3> 2.3.1 Log transformation </h3>"
   ]
  },
  {
   "cell_type": "code",
   "execution_count": 7,
   "metadata": {},
   "outputs": [],
   "source": [
    "def log_transformation(X):\n",
    "    X = np.log1p(X)\n",
    "    X = pd.DataFrame(X)\n",
    "    return X\n",
    "log_func = FunctionTransformer(func=log_transformation)"
   ]
  },
  {
   "cell_type": "markdown",
   "metadata": {},
   "source": [
    "<h3> 2.3.2 Lagging variables"
   ]
  },
  {
   "cell_type": "code",
   "execution_count": 8,
   "metadata": {},
   "outputs": [],
   "source": [
    "def lagged_func_org(X, target=None):\n",
    "    X_new =  pd.concat([target, X], axis=1)\n",
    "    # lags = [[1,2,3,4],[13],[1,5],[1,2,3,4]]\n",
    "    # shift_cols = ['Salmon_exp_vol', 'Interest_rate', 'Food_index', 'FX_EURONOK']\n",
    "    lags = [[1]]\n",
    "    shift_cols = ['Salmon_exp_vol']\n",
    "\n",
    "    sec_it = 0\n",
    "    lagged_df = pd.DataFrame()\n",
    "    for n_col in range(len(shift_cols)):\n",
    "        for n_lag  in range(len(lags[n_col])):\n",
    "            sec_it+=1\n",
    "            lagged_df[str(shift_cols[n_col]+\n",
    "                      '_lag'+\n",
    "                      str(lags[n_col][n_lag]))] = X_new[shift_cols[n_col]].shift(lags[n_col][n_lag])\n",
    "    ldf = pd.concat([X,lagged_df],axis=1).dropna()\n",
    "    return ldf\n",
    "\n",
    "lagged_func = FunctionTransformer(func=lagged_func_org, \n",
    "                                  kw_args={'target':None})"
   ]
  },
  {
   "cell_type": "markdown",
   "metadata": {},
   "source": [
    "<h2> 2.4  Z-scoring </h2>"
   ]
  },
  {
   "cell_type": "code",
   "execution_count": 9,
   "metadata": {},
   "outputs": [],
   "source": [
    "zScore_func = StandardScaler()\n",
    "zScoreTarget_func = StandardScaler()"
   ]
  },
  {
   "cell_type": "markdown",
   "metadata": {},
   "source": [
    "<h2> 2.5 Reshaping 2d->3d array"
   ]
  },
  {
   "cell_type": "code",
   "execution_count": 10,
   "metadata": {},
   "outputs": [],
   "source": [
    "def reshaper(X, timeSteps=None):\n",
    "    X = pd.DataFrame(X)\n",
    "    new_Xs = [np.array(X[timeSteps:])]\n",
    "    print(X.shape)\n",
    "\n",
    "    for i in range(1, timeSteps+1,1):\n",
    "        shift_X  = np.array(X.shift(i))\n",
    "        new_Xs.append(shift_X[timeSteps:])\n",
    "\n",
    "    X_reshaped = np.stack(new_Xs, axis=1)\n",
    "    return X_reshaped\n",
    "\n",
    "reshape_func = FunctionTransformer(func=reshaper, kw_args={'timeSteps':None})\n"
   ]
  },
  {
   "cell_type": "markdown",
   "metadata": {},
   "source": [
    "<h1> 3. LSTM model </h1>"
   ]
  },
  {
   "cell_type": "code",
   "execution_count": 28,
   "metadata": {},
   "outputs": [],
   "source": [
    "model = keras.Sequential([\n",
    "    layers.LSTM(200, input_shape=(14,109)),\n",
    "    layers.BatchNormalization(),\n",
    "    layers.Dropout(0.3),\n",
    "    layers.Dense(128, activation='relu'),\n",
    "    layers.BatchNormalization(),\n",
    "    layers.Dropout(0.3),\n",
    "    layers.Dense(32, activation='relu'),\n",
    "    layers.BatchNormalization(),\n",
    "    layers.Dropout(0.3),\n",
    "    layers.Dense(64, activation='gelu'),\n",
    "    layers.Dropout(0.3),\n",
    "    layers.Dense(350, activation='selu'),\n",
    "    layers.Dropout(0.3),\n",
    "    layers.Dense(16, activation='relu'),\n",
    "    layers.Dense(1)\n",
    "])\n",
    "model.compile(optimizer='adam',\n",
    "            #   loss=keras.losses.MeanSquaredError()\n",
    "              loss = 'mae'\n",
    "              )\n",
    "\n",
    "early_stopping = callbacks.EarlyStopping(\n",
    "    min_delta=0.001, \n",
    "    patience=30, \n",
    "    restore_best_weights=True,\n",
    ")"
   ]
  },
  {
   "cell_type": "markdown",
   "metadata": {},
   "source": [
    "<h1> 4.  Pipelining </h1>\n",
    "<h2> 4.1 Column specific pipeline </h2>"
   ]
  },
  {
   "cell_type": "code",
   "execution_count": 13,
   "metadata": {},
   "outputs": [],
   "source": [
    "engineering_func = ColumnTransformer(\n",
    "    transformers=[\n",
    "        ('loger', log_func, ['FX_EURONOK']),\n",
    "    ], remainder='passthrough')"
   ]
  },
  {
   "cell_type": "markdown",
   "metadata": {},
   "source": [
    "<h2> 4.2 Total pipeline </h2>"
   ]
  },
  {
   "cell_type": "code",
   "execution_count": 14,
   "metadata": {},
   "outputs": [],
   "source": [
    "X_val_corr = pd.concat([X_train[-15:],X_val])\n",
    "X_test_corr = pd.concat([X_val[-15:],X_test])"
   ]
  },
  {
   "cell_type": "code",
   "execution_count": 17,
   "metadata": {},
   "outputs": [
    {
     "name": "stdout",
     "output_type": "stream",
     "text": [
      "(959, 109)\n",
      "(119, 109)\n",
      "(119, 109)\n"
     ]
    }
   ],
   "source": [
    "pipe = Pipeline(steps=[\n",
    "    ('det', time_func),\n",
    "    ('ind', indicator_func),\n",
    "    ('lag', lagged_func),\n",
    "    ('Col_spec', engineering_func),\n",
    "    ('zScore_func', zScore_func),\n",
    "    ('res', reshape_func)\n",
    "    # ('lstm', model)\n",
    "])\n",
    "\n",
    "\n",
    "pipe.set_params(\n",
    "                det__kw_args={'startValue':0},\n",
    "                lag__kw_args={'target':y_train},\n",
    "                res__kw_args={'timeSteps':13}\n",
    "                )\n",
    "X_train_preprocessed  = pipe.fit_transform(X_train)\n",
    "\n",
    "pipe.set_params(det__kw_args={'startValue':960}, \n",
    "                lag__kw_args={'target':y_val},\n",
    "                res__kw_args={'timeSteps':13})\n",
    "X_val_preprocessed  = pipe.transform(X_val_corr)\n",
    "\n",
    "pipe.set_params(det__kw_args={'startValue':1080}, \n",
    "                lag__kw_args={'target': y_test},\n",
    "                res__kw_args={'timeSteps':13})\n",
    "X_test_preprocessed  = pipe.transform(X_test_corr)\n"
   ]
  },
  {
   "cell_type": "markdown",
   "metadata": {},
   "source": [
    "<h1> X. Rest are drafts.. </h1>"
   ]
  },
  {
   "cell_type": "code",
   "execution_count": 18,
   "metadata": {},
   "outputs": [],
   "source": [
    "target_scaler = StandardScaler()\n",
    "y_train_pre = target_scaler.fit_transform(np.array([y_train[14:]]).T)\n",
    "y_val_pre = target_scaler.transform(np.array([y_val[14:]]).T)\n",
    "y_test_pre = target_scaler.transform(np.array([y_test[14:]]).T)\n",
    "\n",
    "y_train_pre = y_train[14:]\n",
    "y_val_pre = y_val[14:]\n",
    "y_test_pre =y_test[14:]"
   ]
  },
  {
   "cell_type": "code",
   "execution_count": 24,
   "metadata": {},
   "outputs": [
    {
     "name": "stdout",
     "output_type": "stream",
     "text": [
      "Epoch 1/500\n",
      "\u001b[1m119/119\u001b[0m \u001b[32m━━━━━━━━━━━━━━━━━━━━\u001b[0m\u001b[37m\u001b[0m \u001b[1m5s\u001b[0m 9ms/step - loss: 11529.0762 - val_loss: 16026.8760\n",
      "Epoch 2/500\n",
      "\u001b[1m119/119\u001b[0m \u001b[32m━━━━━━━━━━━━━━━━━━━━\u001b[0m\u001b[37m\u001b[0m \u001b[1m1s\u001b[0m 7ms/step - loss: 6741.5332 - val_loss: 2497.1865\n",
      "Epoch 3/500\n",
      "\u001b[1m119/119\u001b[0m \u001b[32m━━━━━━━━━━━━━━━━━━━━\u001b[0m\u001b[37m\u001b[0m \u001b[1m1s\u001b[0m 7ms/step - loss: 3351.3496 - val_loss: 2143.0618\n",
      "Epoch 4/500\n",
      "\u001b[1m119/119\u001b[0m \u001b[32m━━━━━━━━━━━━━━━━━━━━\u001b[0m\u001b[37m\u001b[0m \u001b[1m1s\u001b[0m 7ms/step - loss: 2678.8442 - val_loss: 2177.6196\n",
      "Epoch 5/500\n",
      "\u001b[1m119/119\u001b[0m \u001b[32m━━━━━━━━━━━━━━━━━━━━\u001b[0m\u001b[37m\u001b[0m \u001b[1m2s\u001b[0m 12ms/step - loss: 2956.1252 - val_loss: 3053.9299\n",
      "Epoch 6/500\n",
      "\u001b[1m119/119\u001b[0m \u001b[32m━━━━━━━━━━━━━━━━━━━━\u001b[0m\u001b[37m\u001b[0m \u001b[1m2s\u001b[0m 19ms/step - loss: 2848.6326 - val_loss: 3070.4492\n",
      "Epoch 7/500\n",
      "\u001b[1m119/119\u001b[0m \u001b[32m━━━━━━━━━━━━━━━━━━━━\u001b[0m\u001b[37m\u001b[0m \u001b[1m3s\u001b[0m 21ms/step - loss: 2657.7078 - val_loss: 1935.8958\n",
      "Epoch 8/500\n",
      "\u001b[1m119/119\u001b[0m \u001b[32m━━━━━━━━━━━━━━━━━━━━\u001b[0m\u001b[37m\u001b[0m \u001b[1m3s\u001b[0m 22ms/step - loss: 2798.6675 - val_loss: 2660.0767\n",
      "Epoch 9/500\n",
      "\u001b[1m119/119\u001b[0m \u001b[32m━━━━━━━━━━━━━━━━━━━━\u001b[0m\u001b[37m\u001b[0m \u001b[1m4s\u001b[0m 30ms/step - loss: 2630.6399 - val_loss: 2400.4526\n",
      "Epoch 10/500\n",
      "\u001b[1m119/119\u001b[0m \u001b[32m━━━━━━━━━━━━━━━━━━━━\u001b[0m\u001b[37m\u001b[0m \u001b[1m4s\u001b[0m 30ms/step - loss: 2564.5830 - val_loss: 2296.7346\n",
      "Epoch 11/500\n",
      "\u001b[1m119/119\u001b[0m \u001b[32m━━━━━━━━━━━━━━━━━━━━\u001b[0m\u001b[37m\u001b[0m \u001b[1m3s\u001b[0m 26ms/step - loss: 2386.4800 - val_loss: 2992.8235\n",
      "Epoch 12/500\n",
      "\u001b[1m119/119\u001b[0m \u001b[32m━━━━━━━━━━━━━━━━━━━━\u001b[0m\u001b[37m\u001b[0m \u001b[1m3s\u001b[0m 25ms/step - loss: 2429.1526 - val_loss: 2525.8547\n",
      "Epoch 13/500\n",
      "\u001b[1m119/119\u001b[0m \u001b[32m━━━━━━━━━━━━━━━━━━━━\u001b[0m\u001b[37m\u001b[0m \u001b[1m3s\u001b[0m 25ms/step - loss: 2436.1733 - val_loss: 2955.8137\n",
      "Epoch 14/500\n",
      "\u001b[1m119/119\u001b[0m \u001b[32m━━━━━━━━━━━━━━━━━━━━\u001b[0m\u001b[37m\u001b[0m \u001b[1m4s\u001b[0m 29ms/step - loss: 2366.2109 - val_loss: 2924.5566\n",
      "Epoch 15/500\n",
      "\u001b[1m119/119\u001b[0m \u001b[32m━━━━━━━━━━━━━━━━━━━━\u001b[0m\u001b[37m\u001b[0m \u001b[1m4s\u001b[0m 31ms/step - loss: 2259.2234 - val_loss: 3591.9673\n",
      "Epoch 16/500\n",
      "\u001b[1m119/119\u001b[0m \u001b[32m━━━━━━━━━━━━━━━━━━━━\u001b[0m\u001b[37m\u001b[0m \u001b[1m4s\u001b[0m 33ms/step - loss: 2416.8601 - val_loss: 2734.3611\n",
      "Epoch 17/500\n",
      "\u001b[1m119/119\u001b[0m \u001b[32m━━━━━━━━━━━━━━━━━━━━\u001b[0m\u001b[37m\u001b[0m \u001b[1m4s\u001b[0m 31ms/step - loss: 2355.5210 - val_loss: 2448.2495\n",
      "Epoch 18/500\n",
      "\u001b[1m119/119\u001b[0m \u001b[32m━━━━━━━━━━━━━━━━━━━━\u001b[0m\u001b[37m\u001b[0m \u001b[1m4s\u001b[0m 31ms/step - loss: 2374.3909 - val_loss: 3346.8438\n",
      "Epoch 19/500\n",
      "\u001b[1m119/119\u001b[0m \u001b[32m━━━━━━━━━━━━━━━━━━━━\u001b[0m\u001b[37m\u001b[0m \u001b[1m4s\u001b[0m 32ms/step - loss: 2398.5791 - val_loss: 2408.8191\n",
      "Epoch 20/500\n",
      "\u001b[1m119/119\u001b[0m \u001b[32m━━━━━━━━━━━━━━━━━━━━\u001b[0m\u001b[37m\u001b[0m \u001b[1m4s\u001b[0m 31ms/step - loss: 2379.3005 - val_loss: 2452.1965\n",
      "Epoch 21/500\n",
      "\u001b[1m119/119\u001b[0m \u001b[32m━━━━━━━━━━━━━━━━━━━━\u001b[0m\u001b[37m\u001b[0m \u001b[1m4s\u001b[0m 31ms/step - loss: 2319.9822 - val_loss: 2391.2561\n",
      "Epoch 22/500\n",
      "\u001b[1m119/119\u001b[0m \u001b[32m━━━━━━━━━━━━━━━━━━━━\u001b[0m\u001b[37m\u001b[0m \u001b[1m7s\u001b[0m 59ms/step - loss: 2236.5664 - val_loss: 2195.0635\n",
      "Epoch 23/500\n",
      "\u001b[1m119/119\u001b[0m \u001b[32m━━━━━━━━━━━━━━━━━━━━\u001b[0m\u001b[37m\u001b[0m \u001b[1m5s\u001b[0m 42ms/step - loss: 2185.3818 - val_loss: 2639.9910\n",
      "Epoch 24/500\n",
      "\u001b[1m119/119\u001b[0m \u001b[32m━━━━━━━━━━━━━━━━━━━━\u001b[0m\u001b[37m\u001b[0m \u001b[1m4s\u001b[0m 30ms/step - loss: 2251.1633 - val_loss: 2713.2051\n",
      "Epoch 25/500\n",
      "\u001b[1m119/119\u001b[0m \u001b[32m━━━━━━━━━━━━━━━━━━━━\u001b[0m\u001b[37m\u001b[0m \u001b[1m4s\u001b[0m 32ms/step - loss: 2208.4221 - val_loss: 3298.5325\n",
      "Epoch 26/500\n",
      "\u001b[1m119/119\u001b[0m \u001b[32m━━━━━━━━━━━━━━━━━━━━\u001b[0m\u001b[37m\u001b[0m \u001b[1m3s\u001b[0m 29ms/step - loss: 2080.2107 - val_loss: 2408.0068\n",
      "Epoch 27/500\n",
      "\u001b[1m119/119\u001b[0m \u001b[32m━━━━━━━━━━━━━━━━━━━━\u001b[0m\u001b[37m\u001b[0m \u001b[1m4s\u001b[0m 30ms/step - loss: 2061.0906 - val_loss: 2478.7390\n",
      "Epoch 28/500\n",
      "\u001b[1m119/119\u001b[0m \u001b[32m━━━━━━━━━━━━━━━━━━━━\u001b[0m\u001b[37m\u001b[0m \u001b[1m4s\u001b[0m 31ms/step - loss: 2220.2869 - val_loss: 3142.9006\n",
      "Epoch 29/500\n",
      "\u001b[1m119/119\u001b[0m \u001b[32m━━━━━━━━━━━━━━━━━━━━\u001b[0m\u001b[37m\u001b[0m \u001b[1m8s\u001b[0m 65ms/step - loss: 2018.9275 - val_loss: 2362.2339\n",
      "Epoch 30/500\n",
      "\u001b[1m119/119\u001b[0m \u001b[32m━━━━━━━━━━━━━━━━━━━━\u001b[0m\u001b[37m\u001b[0m \u001b[1m7s\u001b[0m 60ms/step - loss: 2106.5225 - val_loss: 2676.7546\n",
      "Epoch 31/500\n",
      "\u001b[1m119/119\u001b[0m \u001b[32m━━━━━━━━━━━━━━━━━━━━\u001b[0m\u001b[37m\u001b[0m \u001b[1m8s\u001b[0m 62ms/step - loss: 2015.4414 - val_loss: 2624.3872\n",
      "Epoch 32/500\n",
      "\u001b[1m119/119\u001b[0m \u001b[32m━━━━━━━━━━━━━━━━━━━━\u001b[0m\u001b[37m\u001b[0m \u001b[1m7s\u001b[0m 58ms/step - loss: 2277.1355 - val_loss: 3360.1240\n",
      "Epoch 33/500\n",
      "\u001b[1m119/119\u001b[0m \u001b[32m━━━━━━━━━━━━━━━━━━━━\u001b[0m\u001b[37m\u001b[0m \u001b[1m7s\u001b[0m 60ms/step - loss: 1858.8838 - val_loss: 2595.9365\n",
      "Epoch 34/500\n",
      "\u001b[1m119/119\u001b[0m \u001b[32m━━━━━━━━━━━━━━━━━━━━\u001b[0m\u001b[37m\u001b[0m \u001b[1m7s\u001b[0m 55ms/step - loss: 2046.0013 - val_loss: 2547.1077\n",
      "Epoch 35/500\n",
      "\u001b[1m119/119\u001b[0m \u001b[32m━━━━━━━━━━━━━━━━━━━━\u001b[0m\u001b[37m\u001b[0m \u001b[1m7s\u001b[0m 57ms/step - loss: 2033.7399 - val_loss: 2269.8721\n",
      "Epoch 36/500\n",
      "\u001b[1m119/119\u001b[0m \u001b[32m━━━━━━━━━━━━━━━━━━━━\u001b[0m\u001b[37m\u001b[0m \u001b[1m10s\u001b[0m 50ms/step - loss: 2091.1169 - val_loss: 2312.1196\n",
      "Epoch 37/500\n",
      "\u001b[1m119/119\u001b[0m \u001b[32m━━━━━━━━━━━━━━━━━━━━\u001b[0m\u001b[37m\u001b[0m \u001b[1m6s\u001b[0m 52ms/step - loss: 2124.9731 - val_loss: 2363.2395\n",
      "\u001b[1m30/30\u001b[0m \u001b[32m━━━━━━━━━━━━━━━━━━━━\u001b[0m\u001b[37m\u001b[0m \u001b[1m4s\u001b[0m 72ms/step\n",
      "\u001b[1m4/4\u001b[0m \u001b[32m━━━━━━━━━━━━━━━━━━━━\u001b[0m\u001b[37m\u001b[0m \u001b[1m0s\u001b[0m 29ms/step\n",
      "\u001b[1m4/4\u001b[0m \u001b[32m━━━━━━━━━━━━━━━━━━━━\u001b[0m\u001b[37m\u001b[0m \u001b[1m0s\u001b[0m 24ms/step\n"
     ]
    }
   ],
   "source": [
    "model.fit(X_train_preprocessed,y_train_pre,\n",
    "          epochs=500, batch_size=8,\n",
    "          validation_data=[X_val_preprocessed, y_val_pre],\n",
    "          callbacks=early_stopping)\n",
    "\n",
    "\n",
    "train_pred = model.predict(X_train_preprocessed)\n",
    "val_pred = model.predict(X_val_preprocessed)\n",
    "test_pred = model.predict(X_test_preprocessed)"
   ]
  },
  {
   "cell_type": "code",
   "execution_count": 210,
   "metadata": {},
   "outputs": [],
   "source": [
    "# Good MAPE at un-scaled are: 15%\n",
    "#scaled: 1.25"
   ]
  },
  {
   "cell_type": "code",
   "execution_count": 25,
   "metadata": {},
   "outputs": [
    {
     "data": {
      "image/png": "[encoded data removed]",
      "text/plain": [
       "<Figure size 640x480 with 2 Axes>"
      ]
     },
     "metadata": {},
     "output_type": "display_data"
    }
   ],
   "source": [
    "fig,ax = plt.subplots(2)\n",
    "ax[0].plot(y_train, label='Train')\n",
    "ax[0].plot(y_val, label='Valid')\n",
    "ax[0].plot(y_test, label='Test')\n",
    "\n",
    "ax[1].plot(X_train.index[14:], train_pred, label='Train_pred')\n",
    "ax[1].set_xlim(10500,20000)\n",
    "ax[1].plot(X_val.index[14:], val_pred, label='Test_pred')\n",
    "ax[1].plot(X_test.index[14:], test_pred, label='Test_pred')\n",
    "\n",
    "plt.legend()\n",
    "plt.show()"
   ]
  },
  {
   "cell_type": "code",
   "execution_count": 212,
   "metadata": {},
   "outputs": [],
   "source": [
    "from sklearn.metrics import root_mean_squared_error as RMSE\n",
    "from sklearn.metrics import mean_absolute_percentage_error as MAPE\n",
    "from sklearn.metrics import mean_absolute_error as MAE\n"
   ]
  },
  {
   "cell_type": "code",
   "execution_count": 221,
   "metadata": {},
   "outputs": [
    {
     "data": {
      "text/plain": [
       "1134.736746725522"
      ]
     },
     "execution_count": 221,
     "metadata": {},
     "output_type": "execute_result"
    }
   ],
   "source": [
    "MAE(train_pred, y_train_pre)"
   ]
  },
  {
   "cell_type": "code",
   "execution_count": 214,
   "metadata": {},
   "outputs": [
    {
     "data": {
      "text/plain": [
       "'2.88 thousands'"
      ]
     },
     "execution_count": 214,
     "metadata": {},
     "output_type": "execute_result"
    }
   ],
   "source": [
    "str(X_train.size/1000)+ ' thousands'"
   ]
  },
  {
   "cell_type": "code",
   "execution_count": 215,
   "metadata": {},
   "outputs": [],
   "source": [
    "# pd.DataFrame(X_train_preprocessed)"
   ]
  },
  {
   "cell_type": "code",
   "execution_count": 216,
   "metadata": {},
   "outputs": [
    {
     "data": {
      "text/plain": [
       "'1.681988 million'"
      ]
     },
     "execution_count": 216,
     "metadata": {},
     "output_type": "execute_result"
    }
   ],
   "source": [
    "str(X_train_preprocessed.size/1000/1000) +' million'"
   ]
  }
 ],
 "metadata": {
  "kernelspec": {
   "display_name": "base",
   "language": "python",
   "name": "python3"
  },
  "language_info": {
   "codemirror_mode": {
    "name": "ipython",
    "version": 3
   },
   "file_extension": ".py",
   "mimetype": "text/x-python",
   "name": "python",
   "nbconvert_exporter": "python",
   "pygments_lexer": "ipython3",
   "version": "3.11.7"
  }
 },
 "nbformat": 4,
 "nbformat_minor": 2
}
