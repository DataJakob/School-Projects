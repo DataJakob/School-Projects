{
 "cells": [
  {
   "cell_type": "markdown",
   "metadata": {},
   "source": [
    "<h1> Feature engineering <br>\n",
    "Modelling <br>\n",
    "and Evaluation</h2>\n",
    "<br>\n",
    "<br>\n",
    "<b> This is work in progress! </b> <p> We need to add the deterministic process to the training data. We need to find out how to implement lagged variables, we need to discuss whether,we should use future values as well. "
   ]
  },
  {
   "cell_type": "markdown",
   "metadata": {},
   "source": [
    "<ol>\n",
    "<li>Deterministic process</li>\n",
    "<li>Lagged variables</li>\n",
    "<li> Fourier</li>\n",
    "<li>Seasonal indicators (very important)</li>\n",
    "<li></li>\n",
    "<li></li>\n",
    "<li></li>\n",
    "</ol>"
   ]
  },
  {
   "cell_type": "markdown",
   "metadata": {},
   "source": [
    "<h1> 1. Getting started </h1>\n",
    "<h2> 1.1 Importing libraries </h2>"
   ]
  },
  {
   "cell_type": "code",
   "execution_count": 312,
   "metadata": {},
   "outputs": [],
   "source": [
    "import numpy as np\n",
    "import pandas as pd\n",
    "import matplotlib.pyplot as plt\n",
    "import seaborn as sns\n",
    "\n",
    "from sklearn.model_selection import train_test_split\n",
    "from sklearn.preprocessing import StandardScaler\n",
    "from sklearn.pipeline import Pipeline\n",
    "from sklearn.preprocessing import FunctionTransformer\n",
    "from sklearn.compose import ColumnTransformer\n",
    "\n",
    "\n",
    "\n",
    "import tensorflow as tf\n",
    "from tensorflow import keras\n",
    "from keras import Sequential, layers, Input, callbacks\n",
    "from keras.layers import Dense\n",
    "from keras.layers import LSTM\n",
    "from keras.layers import Activation\n",
    "\n",
    "from statsmodels.tsa.deterministic import DeterministicProcess\n",
    "from statsmodels.tsa.deterministic import  CalendarFourier"
   ]
  },
  {
   "cell_type": "markdown",
   "metadata": {},
   "source": [
    "<h2> 1.2 Downloading data </h2>"
   ]
  },
  {
   "cell_type": "code",
   "execution_count": 313,
   "metadata": {},
   "outputs": [],
   "source": [
    "df = pd.read_csv('Preprocessed_data.csv')\n",
    "df.index = pd.to_datetime(df['Date'], format='%Y-%m-%d')\n",
    "df.drop(['Date'], axis=1, inplace=True)"
   ]
  },
  {
   "cell_type": "markdown",
   "metadata": {},
   "source": [
    "<h2> 1.3 Splitting data in 3*2"
   ]
  },
  {
   "cell_type": "code",
   "execution_count": 339,
   "metadata": {},
   "outputs": [],
   "source": [
    "y = df['Salmon_exp_vol']\n",
    "X = df.loc[:,'FX_EURONOK':]\n",
    "\n",
    "X_train, X_eval, y_train, y_eval = train_test_split(X,y, \n",
    "                                                    test_size=0.2,\n",
    "                                                    shuffle=False)\n",
    "X_val, X_test, y_val, y_test = train_test_split(X_eval, y_eval, \n",
    "                                                test_size=0.5,\n",
    "                                                shuffle=False)"
   ]
  },
  {
   "cell_type": "markdown",
   "metadata": {},
   "source": [
    "<h1> 2. Feature engineering </h1>"
   ]
  },
  {
   "cell_type": "markdown",
   "metadata": {},
   "source": [
    "<h2> 2.1 Manual imputing </h2>"
   ]
  },
  {
   "cell_type": "code",
   "execution_count": 315,
   "metadata": {},
   "outputs": [],
   "source": [
    "X_train['FX_EURONOK']['2002-10-14'] = 7.34\n",
    "X_train['FX_EURONOK']['2008-08-04'] = 7.9995\n",
    "X_train['FX_EURONOK']['2008-08-08'] = 7.9915\n",
    "X_train['FX_EURONOK']['2008-08-11'] = 7.9975\n",
    "X_train['FX_EURONOK']['2008-08-18'] = 7.9740"
   ]
  },
  {
   "cell_type": "markdown",
   "metadata": {},
   "source": [
    "<h2> 2.2 Time dummy and Fourier  </h2>"
   ]
  },
  {
   "cell_type": "code",
   "execution_count": 364,
   "metadata": {},
   "outputs": [],
   "source": [
    "def det_process(X):\n",
    "    fourier0  =  CalendarFourier(freq='A',  order=1)\n",
    "    fourier1  =  CalendarFourier(freq='6M',  order=1)\n",
    "    fourier2  =  CalendarFourier(freq='Q',  order=1)\n",
    "\n",
    "    dp = DeterministicProcess(\n",
    "        index=X.index,\n",
    "        constant=True,\n",
    "        order=1,\n",
    "        seasonal=True,\n",
    "        additional_terms=[fourier0,fourier1,fourier2],\n",
    "        drop=True\n",
    "    ) \n",
    "    dp = dp.in_sample()\n",
    "    new_X = pd.concat([X,dp], axis=1)\n",
    "    return new_X\n",
    "time_func = FunctionTransformer(func=det_process)\n"
   ]
  },
  {
   "cell_type": "markdown",
   "metadata": {},
   "source": [
    "<h2> 2.3  Column specific engineering </h2>\n",
    "<h3> 2.3.1 Log transformation </h3>"
   ]
  },
  {
   "cell_type": "code",
   "execution_count": 356,
   "metadata": {},
   "outputs": [],
   "source": [
    "def log_transformation(X):\n",
    "    X = np.log1p(X)\n",
    "    return X\n",
    "log_func = FunctionTransformer(func=log_transformation)"
   ]
  },
  {
   "cell_type": "markdown",
   "metadata": {},
   "source": [
    "<h3> 2.3.2 Lagging variables"
   ]
  },
  {
   "cell_type": "code",
   "execution_count": 389,
   "metadata": {},
   "outputs": [],
   "source": [
    "def lagged_func_org(X, target=None):\n",
    "    X =  pd.concat([target, X], axis=1)\n",
    "    lags = [[1,2,3,4],[13],[1,5],[1,2,3,4]]\n",
    "    shift_cols = ['Salmon_exp_vol', 'Interest_rate', 'Food_index', 'FX_EURONOK']\n",
    "\n",
    "    sec_it = 0\n",
    "    lagged_df = pd.DataFrame()\n",
    "    for n_col in range(len(shift_cols)):\n",
    "        for n_lag  in range(len(lags[n_col])):\n",
    "            sec_it+=1\n",
    "            lagged_df[str(shift_cols[n_col]+\n",
    "                      '_lag'+\n",
    "                      str(lags[n_col][n_lag]))] = X[shift_cols[n_col]].shift(lags[n_col][n_lag])\n",
    "    ldf = pd.concat([X,lagged_df],axis=1).dropna()\n",
    "    return ldf\n",
    "\n",
    "lagged_func = FunctionTransformer(func=lagged_func_org, \n",
    "                                  kw_args={'target':None})"
   ]
  },
  {
   "cell_type": "markdown",
   "metadata": {},
   "source": [
    "<h2> 2.4  Z-scoring </h2>"
   ]
  },
  {
   "cell_type": "code",
   "execution_count": 390,
   "metadata": {},
   "outputs": [],
   "source": [
    "zScore_func = StandardScaler()"
   ]
  },
  {
   "cell_type": "markdown",
   "metadata": {},
   "source": [
    "<h2> 2.5 Reshaping 2d->3d array"
   ]
  },
  {
   "cell_type": "code",
   "execution_count": 391,
   "metadata": {},
   "outputs": [],
   "source": [
    "def reshaper(X):\n",
    "    X_reshaped = X.reshape(X.shape[0], 1, X.shape[1])    \n",
    "    return   X_reshaped\n",
    "reshape_func = FunctionTransformer(func=reshaper)\n"
   ]
  },
  {
   "cell_type": "markdown",
   "metadata": {},
   "source": [
    "<h1> 3. LSTM model </h1>"
   ]
  },
  {
   "cell_type": "code",
   "execution_count": 372,
   "metadata": {},
   "outputs": [],
   "source": [
    "model = keras.Sequential([\n",
    "    layers.LSTM(2, input_shape=(1,74)),\n",
    "    layers.Dropout(0.1),\n",
    "    layers.Dense(12, activation='relu'),\n",
    "    layers.BatchNormalization(),\n",
    "    layers.Dropout(0.2),\n",
    "    layers.Dense(36, activation='relu'),\n",
    "    layers.Dense(1)\n",
    "])\n",
    "model.compile(optimizer='adam',\n",
    "              loss='mae')\n",
    "\n",
    "early_stopping = callbacks.EarlyStopping(\n",
    "    min_delta=0.01, # minimium amount of change to count as an improvement\n",
    "    patience=20, # how many epochs to wait before stopping\n",
    "    restore_best_weights=True,\n",
    ")"
   ]
  },
  {
   "cell_type": "markdown",
   "metadata": {},
   "source": [
    "<h1> 4.  Pipelining </h1>\n",
    "<h2> 4.1 Column specific pipeline </h2>"
   ]
  },
  {
   "cell_type": "code",
   "execution_count": 373,
   "metadata": {},
   "outputs": [],
   "source": [
    "engineering_func = ColumnTransformer(\n",
    "    transformers=[\n",
    "        ('loger', loger, log_cols)      \n",
    "], remainder='passthrough')"
   ]
  },
  {
   "cell_type": "markdown",
   "metadata": {},
   "source": [
    "<h2> 4.2 Total pipeline </h2>"
   ]
  },
  {
   "cell_type": "code",
   "execution_count": 324,
   "metadata": {},
   "outputs": [],
   "source": [
    "# y_train"
   ]
  },
  {
   "cell_type": "code",
   "execution_count": 392,
   "metadata": {},
   "outputs": [],
   "source": [
    "pipe = Pipeline(steps=[\n",
    "    ('det', time_func),\n",
    "    ('lag', lagged_func),\n",
    "    ('Col_spec', engineering_func),\n",
    "    ('norm', zScore_func),\n",
    "    ('res', reshape_func),\n",
    "    # ('lstm', model)\n",
    "])\n",
    "\n",
    "\n",
    "# pipe.fit(X_train, y_train, \n",
    "#         lstm__epochs=150, lstm__batch_size=50,\n",
    "#         lstm__validation_data=[X_val, y_val]\n",
    "#         )\n",
    "\n",
    "X_train_preprocessed = pipe.set_params(lag__kw_args={'target':y_train}).fit_transform(X_train)\n",
    "X_val_preprocessed = pipe.set_params(lag__kw_args={'target':y_val}).transform(X_val)\n",
    "X_test_preprocessed = pipe.set_params(lag__kw_args={'target':y_test}).transform(X_test)\n",
    "\n",
    "# pipe.set_params(lag__kw_args={'target':y_train})\n",
    "# X_train_preprocessed =pipe.fit(X_train,y_train)\n",
    "# pipe.transform(X_train)\n",
    "\n",
    "\n",
    "# pipe.set_params(lag__kw_args={'target':y_val})\n",
    "# X_val_preprocessed =pipe.transform(X_val)\n",
    "\n",
    "\n",
    "# pipe.set_params(lag__kw_args={'target':y_test})\n",
    "# X_test_preprocessed =pipe.transform(X_test)"
   ]
  },
  {
   "cell_type": "markdown",
   "metadata": {},
   "source": [
    "<h1> X. Rest are drafts.. </h1>"
   ]
  },
  {
   "cell_type": "code",
   "execution_count": 395,
   "metadata": {},
   "outputs": [],
   "source": [
    "y_train_pre = y_train[20:]\n",
    "y_val_pre = y_val[13:]\n",
    "y_test_pre = y_test[13:]"
   ]
  },
  {
   "cell_type": "code",
   "execution_count": 393,
   "metadata": {},
   "outputs": [
    {
     "data": {
      "text/plain": [
       "(120, 3)"
      ]
     },
     "execution_count": 393,
     "metadata": {},
     "output_type": "execute_result"
    }
   ],
   "source": [
    "X_val.shape"
   ]
  },
  {
   "cell_type": "code",
   "execution_count": 394,
   "metadata": {},
   "outputs": [
    {
     "data": {
      "text/plain": [
       "(107, 1, 74)"
      ]
     },
     "execution_count": 394,
     "metadata": {},
     "output_type": "execute_result"
    }
   ],
   "source": [
    "X_val_preprocessed.shape"
   ]
  },
  {
   "cell_type": "code",
   "execution_count": null,
   "metadata": {},
   "outputs": [],
   "source": [
    "#train= 16\n",
    "#val= 10\n",
    "#test=10"
   ]
  },
  {
   "cell_type": "code",
   "execution_count": 400,
   "metadata": {},
   "outputs": [
    {
     "name": "stdout",
     "output_type": "stream",
     "text": [
      "Epoch 1/500\n",
      "17/38 [============>.................] - ETA: 0s - loss: 2584.8198"
     ]
    },
    {
     "name": "stdout",
     "output_type": "stream",
     "text": [
      "38/38 [==============================] - 0s 5ms/step - loss: 2607.8938 - val_loss: 4217.9043\n",
      "Epoch 2/500\n",
      "38/38 [==============================] - 0s 4ms/step - loss: 2896.4873 - val_loss: 4121.7656\n",
      "Epoch 3/500\n",
      "38/38 [==============================] - 0s 3ms/step - loss: 2484.6692 - val_loss: 4348.5317\n",
      "Epoch 4/500\n",
      "38/38 [==============================] - 0s 4ms/step - loss: 2882.8430 - val_loss: 4398.8447\n",
      "Epoch 5/500\n",
      "38/38 [==============================] - 0s 4ms/step - loss: 2676.4382 - val_loss: 4118.3193\n",
      "Epoch 6/500\n",
      "38/38 [==============================] - 0s 5ms/step - loss: 2757.4663 - val_loss: 3915.2078\n",
      "Epoch 7/500\n",
      "38/38 [==============================] - 0s 4ms/step - loss: 2883.4214 - val_loss: 4271.8657\n",
      "Epoch 8/500\n",
      "38/38 [==============================] - 0s 3ms/step - loss: 2668.7327 - val_loss: 4127.6714\n",
      "Epoch 9/500\n",
      "38/38 [==============================] - 0s 5ms/step - loss: 2764.6387 - val_loss: 4177.8149\n",
      "Epoch 10/500\n",
      "38/38 [==============================] - 0s 3ms/step - loss: 2692.5208 - val_loss: 4441.4277\n",
      "Epoch 11/500\n",
      "38/38 [==============================] - 0s 3ms/step - loss: 2597.9412 - val_loss: 4289.5020\n",
      "Epoch 12/500\n",
      "38/38 [==============================] - 0s 3ms/step - loss: 2668.2476 - val_loss: 3987.8037\n",
      "Epoch 13/500\n",
      "38/38 [==============================] - 0s 3ms/step - loss: 2840.7112 - val_loss: 4155.7905\n",
      "Epoch 14/500\n",
      "38/38 [==============================] - 0s 4ms/step - loss: 2781.6499 - val_loss: 4012.3140\n",
      "Epoch 15/500\n",
      "38/38 [==============================] - 0s 3ms/step - loss: 2941.5037 - val_loss: 4605.7773\n",
      "Epoch 16/500\n",
      "38/38 [==============================] - 0s 3ms/step - loss: 2958.0535 - val_loss: 4161.2373\n",
      "Epoch 17/500\n",
      "38/38 [==============================] - 0s 3ms/step - loss: 2875.5396 - val_loss: 4046.7749\n",
      "Epoch 18/500\n",
      "38/38 [==============================] - 0s 3ms/step - loss: 2777.9502 - val_loss: 3991.0906\n",
      "Epoch 19/500\n",
      "38/38 [==============================] - 0s 4ms/step - loss: 2675.7803 - val_loss: 4357.7852\n",
      "Epoch 20/500\n",
      "38/38 [==============================] - 0s 3ms/step - loss: 2777.3845 - val_loss: 4242.2749\n",
      "Epoch 21/500\n",
      "38/38 [==============================] - 0s 3ms/step - loss: 2925.6221 - val_loss: 4283.5435\n",
      "Epoch 22/500\n",
      "38/38 [==============================] - 0s 3ms/step - loss: 2642.0969 - val_loss: 4464.2710\n",
      "Epoch 23/500\n",
      "38/38 [==============================] - 0s 5ms/step - loss: 2991.2083 - val_loss: 4378.1885\n",
      "Epoch 24/500\n",
      "38/38 [==============================] - 0s 3ms/step - loss: 2856.9666 - val_loss: 4086.7622\n",
      "Epoch 25/500\n",
      "38/38 [==============================] - 0s 3ms/step - loss: 2492.3308 - val_loss: 4004.5815\n",
      "Epoch 26/500\n",
      "38/38 [==============================] - 0s 3ms/step - loss: 2962.9016 - val_loss: 4110.9355\n",
      "30/30 [==============================] - 0s 3ms/step\n",
      "4/4 [==============================] - 0s 2ms/step\n",
      "4/4 [==============================] - 0s 2ms/step\n"
     ]
    }
   ],
   "source": [
    "model.fit(X_train_preprocessed,y_train_pre,\n",
    "          epochs=500, batch_size=25,\n",
    "          validation_data=[X_val_preprocessed, y_val_pre],\n",
    "          callbacks=early_stopping)\n",
    "train_pred = model.predict(X_train_preprocessed)\n",
    "val_pred = model.predict(X_val_preprocessed)\n",
    "test_pred = model.predict(X_test_preprocessed)"
   ]
  },
  {
   "cell_type": "code",
   "execution_count": null,
   "metadata": {},
   "outputs": [],
   "source": []
  },
  {
   "cell_type": "code",
   "execution_count": 401,
   "metadata": {},
   "outputs": [
    {
     "data": {
      "image/png": "[encoded data removed]",
      "text/plain": [
       "<Figure size 640x480 with 2 Axes>"
      ]
     },
     "metadata": {},
     "output_type": "display_data"
    }
   ],
   "source": [
    "fig,ax = plt.subplots(2)\n",
    "ax[0].plot(y_train, label='Train')\n",
    "ax[0].plot(y_val, label='Valid')\n",
    "ax[0].plot(y_test, label='Test')\n",
    "\n",
    "ax[1].plot(X_train.index[20:], train_pred, label='Train_pred')\n",
    "ax[1].set_xlim(10500,20000)\n",
    "ax[1].plot(X_val.index[13:], test_pred, label='Test_pred')\n",
    "ax[1].plot(X_test.index[13:], test_pred, label='Test_pred')\n",
    "\n",
    "plt.legend()\n",
    "plt.show()"
   ]
  },
  {
   "cell_type": "code",
   "execution_count": 385,
   "metadata": {},
   "outputs": [],
   "source": [
    "from sklearn.metrics import root_mean_squared_error as RMSE"
   ]
  },
  {
   "cell_type": "code",
   "execution_count": 388,
   "metadata": {},
   "outputs": [
    {
     "data": {
      "text/plain": [
       "1931.111898641818"
      ]
     },
     "execution_count": 388,
     "metadata": {},
     "output_type": "execute_result"
    }
   ],
   "source": [
    "RMSE(train_pred, y_train[17:])"
   ]
  },
  {
   "cell_type": "code",
   "execution_count": null,
   "metadata": {},
   "outputs": [],
   "source": [
    "from sklearn.model_selection import TimeSeriesSplit\n",
    "\n",
    "tscv = TimeSeriesSplit(n_splits=5)"
   ]
  },
  {
   "cell_type": "code",
   "execution_count": null,
   "metadata": {},
   "outputs": [
    {
     "data": {
      "text/plain": [
       "TimeSeriesSplit(gap=0, max_train_size=None, n_splits=5, test_size=None)"
      ]
     },
     "execution_count": 891,
     "metadata": {},
     "output_type": "execute_result"
    }
   ],
   "source": [
    "tscv"
   ]
  }
 ],
 "metadata": {
  "kernelspec": {
   "display_name": "base",
   "language": "python",
   "name": "python3"
  },
  "language_info": {
   "codemirror_mode": {
    "name": "ipython",
    "version": 3
   },
   "file_extension": ".py",
   "mimetype": "text/x-python",
   "name": "python",
   "nbconvert_exporter": "python",
   "pygments_lexer": "ipython3",
   "version": "3.9.13"
  }
 },
 "nbformat": 4,
 "nbformat_minor": 2
}
