{
 "cells": [
  {
   "cell_type": "markdown",
   "metadata": {},
   "source": [
    "<h1> Feature engineering <br>\n",
    "Modelling <br>\n",
    "and Evaluation</h2>\n",
    "<br>\n",
    "<br>\n",
    "<b> This is work in progress! </b> <p> We need to add the deterministic process to the training data. We need to find out how to implement lagged variables, we need to discuss whether,we should use future values as well. "
   ]
  },
  {
   "cell_type": "markdown",
   "metadata": {},
   "source": []
  },
  {
   "cell_type": "markdown",
   "metadata": {},
   "source": [
    "<ol>\n",
    "<li>Deterministic process</li>\n",
    "<li>Lagged variables</li>\n",
    "<li> Fourier</li>\n",
    "<li>Seasonal indicators (very important)</li>\n",
    "<li></li>\n",
    "<li></li>\n",
    "<li></li>\n",
    "</ol>"
   ]
  },
  {
   "cell_type": "code",
   "execution_count": 1004,
   "metadata": {},
   "outputs": [],
   "source": [
    "import numpy as np\n",
    "import pandas as pd\n",
    "import matplotlib.pyplot as plt\n",
    "import seaborn as sns\n",
    "\n",
    "from sklearn.model_selection import train_test_split\n",
    "from sklearn.preprocessing import StandardScaler\n",
    "from sklearn.pipeline import Pipeline\n",
    "from sklearn.preprocessing import FunctionTransformer\n",
    "from sklearn.compose import ColumnTransformer\n",
    "\n",
    "\n",
    "import tensorflow as tf\n",
    "from tensorflow import keras\n",
    "from keras import Sequential, layers, Input, callbacks\n",
    "from keras.layers import Dense\n",
    "from keras.layers import LSTM\n",
    "from keras.layers import Activation\n",
    "\n",
    "from statsmodels.tsa.deterministic import DeterministicProcess\n",
    "from statsmodels.tsa.deterministic import  CalendarFourier"
   ]
  },
  {
   "cell_type": "code",
   "execution_count": 898,
   "metadata": {},
   "outputs": [],
   "source": [
    "df = pd.read_csv('Preprocessed_data.csv')\n",
    "\n",
    "\n",
    "df.index = pd.to_datetime(df['Date'], format='%Y-%m-%d')\n",
    "df.drop(['Date', 'Salmon_exp_price'], axis=1, inplace=True)"
   ]
  },
  {
   "cell_type": "code",
   "execution_count": 954,
   "metadata": {},
   "outputs": [],
   "source": [
    "y = df['Salmon_exp_vol']\n",
    "X = df.loc[:,'FX_EURONOK':]\n",
    "\n",
    "X_train, X_eval, y_train, y_eval = train_test_split(X,y, \n",
    "                                                    test_size=0.2,\n",
    "                                                    shuffle=False)\n",
    "X_val, X_test, y_val, y_test = train_test_split(X_eval, y_eval, \n",
    "                                                test_size=0.5,\n",
    "                                                shuffle=False)"
   ]
  },
  {
   "cell_type": "code",
   "execution_count": 955,
   "metadata": {},
   "outputs": [],
   "source": [
    "X_train['FX_EURONOK']['2002-10-14'] = 7.34\n",
    "X_train['FX_EURONOK']['2008-08-04'] = 7.9995\n",
    "X_train['FX_EURONOK']['2008-08-08'] = 7.9915\n",
    "X_train['FX_EURONOK']['2008-08-11'] = 7.9975\n",
    "X_train['FX_EURONOK']['2008-08-18'] = 7.9740"
   ]
  },
  {
   "cell_type": "markdown",
   "metadata": {},
   "source": [
    "<h1> Trying"
   ]
  },
  {
   "cell_type": "code",
   "execution_count": null,
   "metadata": {},
   "outputs": [],
   "source": [
    "fourier  =  CalendarFourier(freq='A',  order=4)\n",
    "fourier  =  CalendarFourier(freq='A',  order=4)\n",
    "fourier  =  CalendarFourier(freq='A',  order=4)"
   ]
  },
  {
   "cell_type": "code",
   "execution_count": 1042,
   "metadata": {},
   "outputs": [],
   "source": [
    "def det_process(X):\n",
    "    fourier0  =  CalendarFourier(freq='A',  order=3)\n",
    "    fourier1  =  CalendarFourier(freq='6M',  order=3)\n",
    "    fourier2  =  CalendarFourier(freq='Q',  order=3)\n",
    "\n",
    "    dp = DeterministicProcess(\n",
    "        index=X.index,\n",
    "        constant=True,\n",
    "        order=1,\n",
    "        seasonal=True,\n",
    "        additional_terms=[fourier0,fourier1,fourier2],\n",
    "        drop=True\n",
    "    ) \n",
    "    dp = dp.in_sample()\n",
    "    new_X = pd.concat([X,dp], axis=1)\n",
    "    return new_X\n",
    "timeDummy = FunctionTransformer(func=det_process)\n",
    "\n",
    "\n",
    "def log_transformation(X):\n",
    "    X = np.log1p(X)\n",
    "    return X\n",
    "loger = FunctionTransformer(func=log_transformation)\n",
    "\n",
    "normalizer = StandardScaler()\n",
    "\n",
    "def reshaper(X):\n",
    "    X_reshaped = X.reshape(X.shape[0], 1, X.shape[1])    \n",
    "    return   X_reshaped\n",
    "reshape = FunctionTransformer(func=reshaper)\n",
    "log_cols = ['FX_EURONOK']\n",
    "\n",
    "from sklearn.compose import ColumnTransformer\n",
    "engineering = ColumnTransformer(\n",
    "    transformers=[\n",
    "        ('loger', loger, log_cols)      \n",
    "], remainder='passthrough')\n",
    "\n",
    "mod = keras.Sequential([\n",
    "    layers.LSTM(2, input_shape=(1,74)),\n",
    "    layers.Dropout(0.4),\n",
    "    layers.Dense(8, activation='relu'),\n",
    "    layers.BatchNormalization(),\n",
    "    layers.Dense(32, activation='relu'),\n",
    "    layers.Dense(1)\n",
    "])\n",
    "mod.compile(optimizer='adam',\n",
    "              loss='mae')\n",
    "\n",
    "early_stopping = callbacks.EarlyStopping(\n",
    "    min_delta=0.01, # minimium amount of change to count as an improvement\n",
    "    patience=20, # how many epochs to wait before stopping\n",
    "    restore_best_weights=True,\n",
    ")\n",
    "\n",
    "popo = Pipeline(steps=[\n",
    "    ('det', timeDummy),\n",
    "    ('Col_spec', engineering),\n",
    "    ('norm', normalizer),\n",
    "    ('res', reshape),\n",
    "    # ('lstm', model)\n",
    "])"
   ]
  },
  {
   "cell_type": "code",
   "execution_count": 1047,
   "metadata": {},
   "outputs": [],
   "source": [
    "X_train_preprocessed =popo.fit_transform(X_train)\n",
    "X_val_preprocessed = popo.transform(X_val)\n",
    "X_test_preprocessed = popo.transform(X_test)"
   ]
  },
  {
   "cell_type": "code",
   "execution_count": 1034,
   "metadata": {},
   "outputs": [
    {
     "data": {
      "text/plain": [
       "(960, 1, 74)"
      ]
     },
     "execution_count": 1034,
     "metadata": {},
     "output_type": "execute_result"
    }
   ],
   "source": [
    "X_train_preprocessed.shape"
   ]
  },
  {
   "cell_type": "code",
   "execution_count": 1048,
   "metadata": {},
   "outputs": [
    {
     "name": "stdout",
     "output_type": "stream",
     "text": [
      "Epoch 1/150\n",
      " 1/20 [>.............................] - ETA: 0s - loss: 2722.9722"
     ]
    },
    {
     "name": "stdout",
     "output_type": "stream",
     "text": [
      "20/20 [==============================] - 0s 5ms/step - loss: 3229.1489 - val_loss: 12199.6846\n",
      "Epoch 2/150\n",
      "20/20 [==============================] - 0s 4ms/step - loss: 3190.9553 - val_loss: 12099.3809\n",
      "Epoch 3/150\n",
      "20/20 [==============================] - 0s 4ms/step - loss: 3125.1697 - val_loss: 12128.4199\n",
      "Epoch 4/150\n",
      "20/20 [==============================] - 0s 3ms/step - loss: 3148.6514 - val_loss: 12103.2500\n",
      "Epoch 5/150\n",
      "20/20 [==============================] - 0s 3ms/step - loss: 3326.4993 - val_loss: 12171.7588\n",
      "Epoch 6/150\n",
      "20/20 [==============================] - 0s 3ms/step - loss: 2986.6489 - val_loss: 12204.5596\n",
      "Epoch 7/150\n",
      "20/20 [==============================] - 0s 4ms/step - loss: 3210.2556 - val_loss: 12297.5205\n",
      "Epoch 8/150\n",
      "20/20 [==============================] - 0s 3ms/step - loss: 3111.9221 - val_loss: 12462.1348\n",
      "Epoch 9/150\n",
      "20/20 [==============================] - 0s 3ms/step - loss: 3181.1567 - val_loss: 12460.1104\n",
      "Epoch 10/150\n",
      "20/20 [==============================] - 0s 8ms/step - loss: 2911.9294 - val_loss: 12394.2393\n",
      "Epoch 11/150\n",
      "20/20 [==============================] - 0s 4ms/step - loss: 2965.6782 - val_loss: 12414.3711\n",
      "Epoch 12/150\n",
      "20/20 [==============================] - 0s 4ms/step - loss: 3060.0767 - val_loss: 12439.5527\n",
      "Epoch 13/150\n",
      "20/20 [==============================] - 0s 3ms/step - loss: 3104.4341 - val_loss: 12437.2852\n",
      "Epoch 14/150\n",
      "20/20 [==============================] - 0s 4ms/step - loss: 2995.5156 - val_loss: 12494.4805\n",
      "Epoch 15/150\n",
      "20/20 [==============================] - 0s 4ms/step - loss: 2963.3635 - val_loss: 12389.4150\n",
      "Epoch 16/150\n",
      "20/20 [==============================] - 0s 4ms/step - loss: 3250.5510 - val_loss: 12418.5986\n",
      "Epoch 17/150\n",
      "20/20 [==============================] - 0s 4ms/step - loss: 2856.3940 - val_loss: 12444.8975\n",
      "Epoch 18/150\n",
      "20/20 [==============================] - 0s 4ms/step - loss: 2780.4778 - val_loss: 12509.6475\n",
      "Epoch 19/150\n",
      "20/20 [==============================] - 0s 4ms/step - loss: 2924.4358 - val_loss: 12458.3037\n",
      "Epoch 20/150\n",
      "20/20 [==============================] - 0s 3ms/step - loss: 3015.9480 - val_loss: 12413.5361\n",
      "Epoch 21/150\n",
      "20/20 [==============================] - 0s 3ms/step - loss: 2985.1770 - val_loss: 12439.4482\n",
      "Epoch 22/150\n",
      "20/20 [==============================] - 0s 4ms/step - loss: 2827.2373 - val_loss: 12404.0127\n",
      "Epoch 23/150\n",
      "20/20 [==============================] - 0s 3ms/step - loss: 2718.7983 - val_loss: 12395.2461\n",
      "Epoch 24/150\n",
      "20/20 [==============================] - 0s 4ms/step - loss: 2845.0444 - val_loss: 12403.7354\n",
      "Epoch 25/150\n",
      "20/20 [==============================] - 0s 4ms/step - loss: 2843.1306 - val_loss: 12425.0615\n",
      "Epoch 26/150\n",
      "20/20 [==============================] - 0s 4ms/step - loss: 2746.7183 - val_loss: 12341.5225\n",
      "Epoch 27/150\n",
      "20/20 [==============================] - 0s 4ms/step - loss: 2783.6375 - val_loss: 12391.9463\n",
      "Epoch 28/150\n",
      "20/20 [==============================] - 0s 4ms/step - loss: 2622.9666 - val_loss: 12409.8613\n",
      "Epoch 29/150\n",
      "20/20 [==============================] - 0s 3ms/step - loss: 2667.9487 - val_loss: 12449.9678\n",
      "Epoch 30/150\n",
      "20/20 [==============================] - 0s 3ms/step - loss: 2698.9336 - val_loss: 12479.2861\n",
      "Epoch 31/150\n",
      "20/20 [==============================] - 0s 4ms/step - loss: 2929.7419 - val_loss: 12448.4512\n",
      "Epoch 32/150\n",
      "20/20 [==============================] - 0s 4ms/step - loss: 2735.8394 - val_loss: 12457.5518\n",
      "Epoch 33/150\n",
      "20/20 [==============================] - 0s 4ms/step - loss: 2522.2419 - val_loss: 12413.5127\n",
      "Epoch 34/150\n",
      "20/20 [==============================] - 0s 7ms/step - loss: 2789.3936 - val_loss: 12427.1787\n",
      "Epoch 35/150\n",
      "20/20 [==============================] - 0s 4ms/step - loss: 2699.3567 - val_loss: 12402.8691\n",
      "Epoch 36/150\n",
      "20/20 [==============================] - 0s 3ms/step - loss: 2683.7227 - val_loss: 12380.5479\n",
      "Epoch 37/150\n",
      "20/20 [==============================] - 0s 3ms/step - loss: 2983.5959 - val_loss: 12338.4863\n",
      "Epoch 38/150\n",
      "20/20 [==============================] - 0s 4ms/step - loss: 2730.4287 - val_loss: 12345.9990\n",
      "Epoch 39/150\n",
      "20/20 [==============================] - 0s 4ms/step - loss: 2764.1462 - val_loss: 12433.6182\n",
      "Epoch 40/150\n",
      "20/20 [==============================] - 0s 4ms/step - loss: 2726.3679 - val_loss: 12446.9102\n",
      "Epoch 41/150\n",
      "20/20 [==============================] - 0s 4ms/step - loss: 2573.5525 - val_loss: 12518.5098\n",
      "Epoch 42/150\n",
      "20/20 [==============================] - 0s 4ms/step - loss: 2757.8091 - val_loss: 12545.1475\n",
      "Epoch 43/150\n",
      "20/20 [==============================] - 0s 4ms/step - loss: 2770.7310 - val_loss: 12549.4688\n",
      "Epoch 44/150\n",
      "20/20 [==============================] - 0s 4ms/step - loss: 2680.2751 - val_loss: 12476.3330\n",
      "Epoch 45/150\n",
      "20/20 [==============================] - 0s 3ms/step - loss: 2620.0271 - val_loss: 12552.7803\n",
      "Epoch 46/150\n",
      "20/20 [==============================] - 0s 3ms/step - loss: 2613.2742 - val_loss: 12696.5273\n",
      "Epoch 47/150\n",
      "20/20 [==============================] - 0s 4ms/step - loss: 2787.1631 - val_loss: 12614.4092\n",
      "Epoch 48/150\n",
      "20/20 [==============================] - 0s 3ms/step - loss: 2456.2644 - val_loss: 12567.6270\n",
      "Epoch 49/150\n",
      "20/20 [==============================] - 0s 3ms/step - loss: 2755.2161 - val_loss: 12530.3037\n",
      "Epoch 50/150\n",
      "20/20 [==============================] - 0s 4ms/step - loss: 2670.8511 - val_loss: 12481.0342\n",
      "Epoch 51/150\n",
      "20/20 [==============================] - 0s 3ms/step - loss: 2843.5735 - val_loss: 12497.9512\n",
      "Epoch 52/150\n",
      "20/20 [==============================] - 0s 2ms/step - loss: 2667.2856 - val_loss: 12489.1201\n",
      "Epoch 53/150\n",
      "20/20 [==============================] - 0s 4ms/step - loss: 2725.4919 - val_loss: 12506.3428\n",
      "Epoch 54/150\n",
      "20/20 [==============================] - 0s 4ms/step - loss: 2424.9229 - val_loss: 12452.9395\n",
      "Epoch 55/150\n",
      "20/20 [==============================] - 0s 3ms/step - loss: 2557.6687 - val_loss: 12417.5820\n",
      "Epoch 56/150\n",
      "20/20 [==============================] - 0s 4ms/step - loss: 2787.0518 - val_loss: 12352.9502\n",
      "Epoch 57/150\n",
      "20/20 [==============================] - 0s 4ms/step - loss: 2495.7063 - val_loss: 12434.1621\n",
      "Epoch 58/150\n",
      "20/20 [==============================] - 0s 3ms/step - loss: 2582.4983 - val_loss: 12416.9180\n",
      "Epoch 59/150\n",
      "20/20 [==============================] - 0s 3ms/step - loss: 2656.5110 - val_loss: 12484.0664\n",
      "Epoch 60/150\n",
      "20/20 [==============================] - 0s 3ms/step - loss: 2560.0088 - val_loss: 12526.2168\n",
      "Epoch 61/150\n",
      "20/20 [==============================] - 0s 3ms/step - loss: 2561.3196 - val_loss: 12419.7637\n",
      "Epoch 62/150\n",
      "20/20 [==============================] - 0s 3ms/step - loss: 2563.0620 - val_loss: 12518.6777\n",
      "Epoch 63/150\n",
      "20/20 [==============================] - 0s 5ms/step - loss: 2619.9561 - val_loss: 12532.8809\n",
      "Epoch 64/150\n",
      "20/20 [==============================] - 0s 5ms/step - loss: 2763.8447 - val_loss: 12484.3301\n",
      "Epoch 65/150\n",
      "20/20 [==============================] - 0s 3ms/step - loss: 2541.9221 - val_loss: 12557.0449\n",
      "Epoch 66/150\n",
      "20/20 [==============================] - 0s 3ms/step - loss: 2475.2222 - val_loss: 12614.5264\n",
      "Epoch 67/150\n",
      "20/20 [==============================] - 0s 4ms/step - loss: 2615.3704 - val_loss: 12584.5762\n",
      "Epoch 68/150\n",
      "20/20 [==============================] - 0s 4ms/step - loss: 2776.6636 - val_loss: 12516.8770\n",
      "Epoch 69/150\n",
      "20/20 [==============================] - 0s 4ms/step - loss: 2688.5964 - val_loss: 12488.6436\n",
      "Epoch 70/150\n",
      "20/20 [==============================] - 0s 3ms/step - loss: 2510.8171 - val_loss: 12492.2061\n",
      "Epoch 71/150\n",
      "20/20 [==============================] - 0s 3ms/step - loss: 2920.0857 - val_loss: 12432.7568\n",
      "Epoch 72/150\n",
      "20/20 [==============================] - 0s 3ms/step - loss: 2614.7854 - val_loss: 12436.9219\n",
      "Epoch 73/150\n",
      "20/20 [==============================] - 0s 4ms/step - loss: 2676.2327 - val_loss: 12429.7930\n",
      "Epoch 74/150\n",
      "20/20 [==============================] - 0s 4ms/step - loss: 2498.4502 - val_loss: 12413.1611\n",
      "Epoch 75/150\n",
      "20/20 [==============================] - 0s 3ms/step - loss: 2612.7070 - val_loss: 12436.9473\n",
      "Epoch 76/150\n",
      "20/20 [==============================] - 0s 3ms/step - loss: 2570.5747 - val_loss: 12477.2021\n",
      "Epoch 77/150\n",
      "20/20 [==============================] - 0s 4ms/step - loss: 2618.5054 - val_loss: 12453.5186\n",
      "Epoch 78/150\n",
      "20/20 [==============================] - 0s 3ms/step - loss: 2600.3777 - val_loss: 12413.8115\n",
      "Epoch 79/150\n",
      "20/20 [==============================] - 0s 3ms/step - loss: 2607.2144 - val_loss: 12441.2988\n",
      "Epoch 80/150\n",
      "20/20 [==============================] - 0s 3ms/step - loss: 2855.3303 - val_loss: 12401.9854\n",
      "Epoch 81/150\n",
      "20/20 [==============================] - 0s 4ms/step - loss: 2632.7322 - val_loss: 12509.2744\n",
      "Epoch 82/150\n",
      "20/20 [==============================] - 0s 4ms/step - loss: 2615.8696 - val_loss: 12599.2119\n",
      "Epoch 83/150\n",
      "20/20 [==============================] - 0s 3ms/step - loss: 2423.4868 - val_loss: 12630.7119\n",
      "Epoch 84/150\n",
      "20/20 [==============================] - 0s 3ms/step - loss: 2561.8511 - val_loss: 12552.2793\n",
      "Epoch 85/150\n",
      "20/20 [==============================] - 0s 3ms/step - loss: 2579.1956 - val_loss: 12599.9121\n",
      "Epoch 86/150\n",
      "20/20 [==============================] - 0s 3ms/step - loss: 2721.1587 - val_loss: 12589.4980\n",
      "Epoch 87/150\n",
      "20/20 [==============================] - 0s 3ms/step - loss: 2603.1819 - val_loss: 12635.9238\n",
      "Epoch 88/150\n",
      "20/20 [==============================] - 0s 3ms/step - loss: 2727.7122 - val_loss: 12638.4482\n",
      "Epoch 89/150\n",
      "20/20 [==============================] - 0s 3ms/step - loss: 2500.5005 - val_loss: 12662.9990\n",
      "Epoch 90/150\n",
      "20/20 [==============================] - 0s 3ms/step - loss: 2466.1584 - val_loss: 12660.0166\n",
      "Epoch 91/150\n",
      "20/20 [==============================] - 0s 3ms/step - loss: 2431.3252 - val_loss: 12738.4648\n",
      "Epoch 92/150\n",
      "20/20 [==============================] - 0s 6ms/step - loss: 2519.2810 - val_loss: 12747.0898\n",
      "Epoch 93/150\n",
      "20/20 [==============================] - 0s 3ms/step - loss: 2475.6331 - val_loss: 12742.3857\n",
      "Epoch 94/150\n",
      "20/20 [==============================] - 0s 4ms/step - loss: 2507.0933 - val_loss: 12687.0332\n",
      "Epoch 95/150\n",
      "20/20 [==============================] - 0s 3ms/step - loss: 2657.4387 - val_loss: 12609.9619\n",
      "Epoch 96/150\n",
      "20/20 [==============================] - 0s 3ms/step - loss: 2841.0593 - val_loss: 12586.3389\n",
      "Epoch 97/150\n",
      "20/20 [==============================] - 0s 3ms/step - loss: 2748.4624 - val_loss: 12543.4990\n",
      "Epoch 98/150\n",
      "20/20 [==============================] - 0s 3ms/step - loss: 2485.8940 - val_loss: 12554.2930\n",
      "Epoch 99/150\n",
      "20/20 [==============================] - 0s 3ms/step - loss: 2804.8345 - val_loss: 12562.7549\n",
      "Epoch 100/150\n",
      "20/20 [==============================] - 0s 3ms/step - loss: 2575.5510 - val_loss: 12503.4512\n",
      "Epoch 101/150\n",
      "20/20 [==============================] - 0s 3ms/step - loss: 2538.3403 - val_loss: 12566.1709\n",
      "Epoch 102/150\n",
      "20/20 [==============================] - 0s 3ms/step - loss: 2584.4250 - val_loss: 12578.4434\n",
      "Epoch 103/150\n",
      "20/20 [==============================] - 0s 3ms/step - loss: 2465.8875 - val_loss: 12577.3750\n",
      "Epoch 104/150\n",
      "20/20 [==============================] - 0s 3ms/step - loss: 2675.3210 - val_loss: 12546.3848\n",
      "Epoch 105/150\n",
      "20/20 [==============================] - 0s 3ms/step - loss: 2557.8044 - val_loss: 12520.4873\n",
      "Epoch 106/150\n",
      "20/20 [==============================] - 0s 3ms/step - loss: 2711.0107 - val_loss: 12518.9395\n",
      "Epoch 107/150\n",
      "20/20 [==============================] - 0s 3ms/step - loss: 2517.7344 - val_loss: 12539.3916\n",
      "Epoch 108/150\n",
      "20/20 [==============================] - 0s 3ms/step - loss: 2704.2644 - val_loss: 12466.4033\n",
      "Epoch 109/150\n",
      "20/20 [==============================] - 0s 4ms/step - loss: 2522.5139 - val_loss: 12535.6299\n",
      "Epoch 110/150\n",
      "20/20 [==============================] - 0s 3ms/step - loss: 2670.5872 - val_loss: 12525.0293\n",
      "Epoch 111/150\n",
      "20/20 [==============================] - 0s 3ms/step - loss: 2382.2485 - val_loss: 12440.4180\n",
      "Epoch 112/150\n",
      "20/20 [==============================] - 0s 3ms/step - loss: 2762.4255 - val_loss: 12552.0312\n",
      "Epoch 113/150\n",
      "20/20 [==============================] - 0s 3ms/step - loss: 2497.6880 - val_loss: 12529.1670\n",
      "Epoch 114/150\n",
      "20/20 [==============================] - 0s 3ms/step - loss: 2486.1707 - val_loss: 12508.5527\n",
      "Epoch 115/150\n",
      "20/20 [==============================] - 0s 3ms/step - loss: 2857.0388 - val_loss: 12556.1260\n",
      "Epoch 116/150\n",
      "20/20 [==============================] - 0s 3ms/step - loss: 2526.1848 - val_loss: 12566.9463\n",
      "Epoch 117/150\n",
      "20/20 [==============================] - 0s 3ms/step - loss: 2550.4084 - val_loss: 12547.3623\n",
      "Epoch 118/150\n",
      "20/20 [==============================] - 0s 3ms/step - loss: 2912.2073 - val_loss: 12539.0469\n",
      "Epoch 119/150\n",
      "20/20 [==============================] - 0s 3ms/step - loss: 2795.9421 - val_loss: 12557.4424\n",
      "Epoch 120/150\n",
      "20/20 [==============================] - 0s 4ms/step - loss: 2514.5603 - val_loss: 12531.4688\n",
      "Epoch 121/150\n",
      "20/20 [==============================] - 0s 5ms/step - loss: 2596.1318 - val_loss: 12543.3223\n",
      "Epoch 122/150\n",
      "20/20 [==============================] - 0s 3ms/step - loss: 2692.3655 - val_loss: 12581.7275\n",
      "Epoch 123/150\n",
      "20/20 [==============================] - 0s 3ms/step - loss: 2491.5347 - val_loss: 12611.6729\n",
      "Epoch 124/150\n",
      "20/20 [==============================] - 0s 3ms/step - loss: 2746.6487 - val_loss: 12634.9629\n",
      "Epoch 125/150\n",
      "20/20 [==============================] - 0s 3ms/step - loss: 2552.4976 - val_loss: 12564.0830\n",
      "Epoch 126/150\n",
      "20/20 [==============================] - 0s 3ms/step - loss: 2729.7002 - val_loss: 12478.5205\n",
      "Epoch 127/150\n",
      "20/20 [==============================] - 0s 3ms/step - loss: 2856.7812 - val_loss: 12442.5400\n",
      "Epoch 128/150\n",
      "20/20 [==============================] - 0s 3ms/step - loss: 2548.4375 - val_loss: 12452.7910\n",
      "Epoch 129/150\n",
      "20/20 [==============================] - 0s 3ms/step - loss: 2628.6526 - val_loss: 12430.0957\n",
      "Epoch 130/150\n",
      "20/20 [==============================] - 0s 3ms/step - loss: 2423.5596 - val_loss: 12477.7314\n",
      "Epoch 131/150\n",
      "20/20 [==============================] - 0s 3ms/step - loss: 2480.5007 - val_loss: 12510.4395\n",
      "Epoch 132/150\n",
      "20/20 [==============================] - 0s 3ms/step - loss: 2780.1460 - val_loss: 12509.8164\n",
      "Epoch 133/150\n",
      "20/20 [==============================] - 0s 3ms/step - loss: 2444.6633 - val_loss: 12581.3535\n",
      "Epoch 134/150\n",
      "20/20 [==============================] - 0s 3ms/step - loss: 2405.5647 - val_loss: 12540.7900\n",
      "Epoch 135/150\n",
      "20/20 [==============================] - 0s 3ms/step - loss: 2318.2722 - val_loss: 12483.4883\n",
      "Epoch 136/150\n",
      "20/20 [==============================] - 0s 3ms/step - loss: 2488.3081 - val_loss: 12543.1523\n",
      "Epoch 137/150\n",
      "20/20 [==============================] - 0s 3ms/step - loss: 2797.7786 - val_loss: 12589.9619\n",
      "Epoch 138/150\n",
      "20/20 [==============================] - 0s 3ms/step - loss: 2713.3547 - val_loss: 12618.2168\n",
      "Epoch 139/150\n",
      "20/20 [==============================] - 0s 3ms/step - loss: 2423.2549 - val_loss: 12545.0615\n",
      "Epoch 140/150\n",
      "20/20 [==============================] - 0s 3ms/step - loss: 2395.3162 - val_loss: 12413.2539\n",
      "Epoch 141/150\n",
      "20/20 [==============================] - 0s 3ms/step - loss: 2491.8699 - val_loss: 12316.4355\n",
      "Epoch 142/150\n",
      "20/20 [==============================] - 0s 3ms/step - loss: 2504.4900 - val_loss: 12289.1992\n",
      "Epoch 143/150\n",
      "20/20 [==============================] - 0s 3ms/step - loss: 2611.4507 - val_loss: 12352.9717\n",
      "Epoch 144/150\n",
      "20/20 [==============================] - 0s 3ms/step - loss: 2561.7134 - val_loss: 12429.5586\n",
      "Epoch 145/150\n",
      "20/20 [==============================] - 0s 3ms/step - loss: 2677.2649 - val_loss: 12453.0566\n",
      "Epoch 146/150\n",
      "20/20 [==============================] - 0s 3ms/step - loss: 2654.9800 - val_loss: 12461.3447\n",
      "Epoch 147/150\n",
      "20/20 [==============================] - 0s 5ms/step - loss: 2699.1340 - val_loss: 12480.1611\n",
      "Epoch 148/150\n",
      "20/20 [==============================] - 0s 3ms/step - loss: 2660.1150 - val_loss: 12466.2988\n",
      "Epoch 149/150\n",
      "20/20 [==============================] - 0s 3ms/step - loss: 2576.9534 - val_loss: 12460.3457\n",
      "Epoch 150/150\n",
      "20/20 [==============================] - 0s 3ms/step - loss: 3051.9561 - val_loss: 12449.0293\n"
     ]
    },
    {
     "data": {
      "text/plain": [
       "<keras.callbacks.History at 0x1b00df68160>"
      ]
     },
     "execution_count": 1048,
     "metadata": {},
     "output_type": "execute_result"
    }
   ],
   "source": [
    "mod.fit(X_train_preprocessed, y_train, \n",
    "          epochs=150, batch_size=50,\n",
    "          validation_data=[X_val_preprocessed, y_val]\n",
    "          )"
   ]
  },
  {
   "cell_type": "code",
   "execution_count": 1052,
   "metadata": {},
   "outputs": [
    {
     "name": "stdout",
     "output_type": "stream",
     "text": [
      "30/30 [==============================] - 0s 2ms/step\n"
     ]
    },
    {
     "name": "stdout",
     "output_type": "stream",
     "text": [
      "4/4 [==============================] - 0s 0s/step\n"
     ]
    },
    {
     "data": {
      "image/png": "[encoded data removed]",
      "text/plain": [
       "<Figure size 640x480 with 2 Axes>"
      ]
     },
     "metadata": {},
     "output_type": "display_data"
    }
   ],
   "source": [
    "train_pred = mod.predict(X_train_preprocessed)\n",
    "val_pred = mod.predict(X_test_preprocessed)\n",
    "# test_pred = mod.predict(X_test_preprocessed)\n",
    "\n",
    "\n",
    "fig,ax = plt.subplots(2)\n",
    "ax[0].plot(y_train, label='Train')\n",
    "ax[0].plot(y_val, label='Valid')\n",
    "ax[0].plot(y_test, label='Test')\n",
    "\n",
    "ax[1].plot(X_train.index, train_pred, label='Train_pred')\n",
    "ax[1].set_xlim(10500,20000)\n",
    "# ax[1].plot(X_val.index, test_pred, label='Test_pred')\n",
    "\n",
    "plt.legend()\n",
    "plt.show()"
   ]
  },
  {
   "cell_type": "code",
   "execution_count": 1028,
   "metadata": {},
   "outputs": [],
   "source": [
    "from sklearn.metrics import root_mean_squared_error as RMSE"
   ]
  },
  {
   "cell_type": "code",
   "execution_count": null,
   "metadata": {},
   "outputs": [],
   "source": []
  },
  {
   "cell_type": "code",
   "execution_count": 1031,
   "metadata": {},
   "outputs": [
    {
     "data": {
      "text/plain": [
       "4512.313952140112"
      ]
     },
     "execution_count": 1031,
     "metadata": {},
     "output_type": "execute_result"
    }
   ],
   "source": [
    "RMSE(train_pred, y_train)"
   ]
  },
  {
   "cell_type": "code",
   "execution_count": 879,
   "metadata": {},
   "outputs": [
    {
     "data": {
      "text/plain": [
       "[<matplotlib.lines.Line2D at 0x1afc0508b50>]"
      ]
     },
     "execution_count": 879,
     "metadata": {},
     "output_type": "execute_result"
    },
    {
     "data": {
      "image/png": "[encoded data removed]",
      "text/plain": [
       "<Figure size 640x480 with 1 Axes>"
      ]
     },
     "metadata": {},
     "output_type": "display_data"
    }
   ],
   "source": [
    "plt.plot(popp)"
   ]
  },
  {
   "cell_type": "code",
   "execution_count": 890,
   "metadata": {},
   "outputs": [],
   "source": [
    "from sklearn.model_selection import TimeSeriesSplit\n",
    "\n",
    "tscv = TimeSeriesSplit(n_splits=5)"
   ]
  },
  {
   "cell_type": "code",
   "execution_count": 891,
   "metadata": {},
   "outputs": [
    {
     "data": {
      "text/plain": [
       "TimeSeriesSplit(gap=0, max_train_size=None, n_splits=5, test_size=None)"
      ]
     },
     "execution_count": 891,
     "metadata": {},
     "output_type": "execute_result"
    }
   ],
   "source": [
    "tscv"
   ]
  }
 ],
 "metadata": {
  "kernelspec": {
   "display_name": "base",
   "language": "python",
   "name": "python3"
  },
  "language_info": {
   "codemirror_mode": {
    "name": "ipython",
    "version": 3
   },
   "file_extension": ".py",
   "mimetype": "text/x-python",
   "name": "python",
   "nbconvert_exporter": "python",
   "pygments_lexer": "ipython3",
   "version": "3.9.13"
  }
 },
 "nbformat": 4,
 "nbformat_minor": 2
}
