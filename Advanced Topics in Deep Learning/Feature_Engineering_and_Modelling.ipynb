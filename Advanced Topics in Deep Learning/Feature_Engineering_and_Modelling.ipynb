{
 "cells": [
  {
   "cell_type": "markdown",
   "metadata": {},
   "source": [
    "<h1> Feature engineering <br>\n",
    "Modelling <br>\n",
    "and Evaluation</h2>\n",
    "<br>\n",
    "<br>\n",
    "<b> This is work in progress! </b> <p> Next up is making the pipeline more automated. Scaling the targets. And finetune  the  LSTM, which architeture should it have. How many lags, how many LSTM units, how many  layers, how many perceptrons, which activation functions, and which special layers to add to the architecture. \n",
    "<br>\n",
    "<br>\n",
    "Radical change: use NIBOR in stead of interest rate, because it is update daily and can give better results.\n",
    "<h4> Readying the forecast dataset </h4>\n",
    "Use Ohrnstein Uhlenbeck process to find Food_index price. Use SSB/NB to find forecasts for policy rate. Find some forecasts or eventually use OU-process to find the FX."
   ]
  },
  {
   "cell_type": "markdown",
   "metadata": {},
   "source": [
    "<!-- <ol>\n",
    "<li>Deterministic process</li>\n",
    "<li>Lagged variables</li>\n",
    "<li> Fourier</li>\n",
    "<li>Seasonal indicators (very important)</li>\n",
    "<li></li>\n",
    "<li></li>\n",
    "<li></li>\n",
    "</ol> -->"
   ]
  },
  {
   "cell_type": "markdown",
   "metadata": {},
   "source": [
    "<h1> 1. Getting started </h1>\n",
    "<h2> 1.1 Importing libraries </h2>"
   ]
  },
  {
   "cell_type": "code",
   "execution_count": 2,
   "metadata": {},
   "outputs": [],
   "source": [
    "import numpy as np\n",
    "import pandas as pd\n",
    "import matplotlib.pyplot as plt\n",
    "import seaborn as sns\n",
    "\n",
    "from sklearn.model_selection import train_test_split\n",
    "from sklearn.preprocessing import StandardScaler\n",
    "from sklearn.pipeline import Pipeline\n",
    "from sklearn.preprocessing import FunctionTransformer\n",
    "from sklearn.compose import ColumnTransformer\n",
    "\n",
    "\n",
    "\n",
    "import tensorflow as tf\n",
    "from tensorflow import keras\n",
    "from keras import Sequential, layers, Input, callbacks\n",
    "from keras.layers import Dense\n",
    "from keras.layers import LSTM\n",
    "from keras.layers import Activation\n",
    "from keras.optimizers import RMSprop\n",
    "\n",
    "\n",
    "from statsmodels.tsa.deterministic import DeterministicProcess\n",
    "from statsmodels.tsa.deterministic import  CalendarFourier\n",
    "\n",
    "from sklearn.metrics import mean_absolute_percentage_error as MAPE"
   ]
  },
  {
   "cell_type": "markdown",
   "metadata": {},
   "source": [
    "<h2> 1.2 Downloading data </h2>"
   ]
  },
  {
   "cell_type": "code",
   "execution_count": 3,
   "metadata": {},
   "outputs": [],
   "source": [
    "df = pd.read_csv('Preprocessed_data.csv')\n",
    "df.index = pd.to_datetime(df['Date'], format='%Y-%m-%d')\n",
    "df.drop(['Date'], axis=1, inplace=True)"
   ]
  },
  {
   "cell_type": "markdown",
   "metadata": {},
   "source": [
    "<h2> 1.3 Splitting data in 3*2 </h2>\n",
    "<p> SPlitting data into train, test and validation with the following split: 70 | 15 |15."
   ]
  },
  {
   "cell_type": "code",
   "execution_count": 4,
   "metadata": {},
   "outputs": [],
   "source": [
    "y = df['Salmon_exp_vol']\n",
    "X = df.loc[:,'FX_EURONOK':]\n",
    "\n",
    "X_train, X_eval, y_train, y_eval = train_test_split(X,y, \n",
    "                                                    test_size=0.2,\n",
    "                                                    shuffle=False)\n",
    "X_val, X_test, y_val, y_test = train_test_split(X_eval, y_eval, \n",
    "                                                test_size=0.5,\n",
    "                                                shuffle=False)"
   ]
  },
  {
   "cell_type": "markdown",
   "metadata": {},
   "source": [
    "<h1> 2. Feature engineering </h1>"
   ]
  },
  {
   "cell_type": "markdown",
   "metadata": {},
   "source": [
    "<h2> 2.1 Manual imputing </h2>\n",
    "<p>  Manually fixing NaN, and wrongful observations from the dataset in the training data. </p>"
   ]
  },
  {
   "cell_type": "code",
   "execution_count": 5,
   "metadata": {},
   "outputs": [],
   "source": [
    "X_train['FX_EURONOK']['2002-10-14'] = 7.34\n",
    "X_train['FX_EURONOK']['2008-08-04'] = 7.9995\n",
    "X_train['FX_EURONOK']['2008-08-08'] = 7.9915\n",
    "X_train['FX_EURONOK']['2008-08-11'] = 7.9975\n",
    "X_train['FX_EURONOK']['2008-08-18'] = 7.9740"
   ]
  },
  {
   "cell_type": "markdown",
   "metadata": {},
   "source": [
    "<h2> 2.2 Time dummy and Fourier  </h2>\n",
    "<p> Creating a time dummy variable. Adding one new colum, where the value goes from 0 to the amount of observations. </p>"
   ]
  },
  {
   "cell_type": "code",
   "execution_count": 6,
   "metadata": {},
   "outputs": [],
   "source": [
    "def det_process(X, startValue=None):\n",
    "    # fourier0  =  CalendarFourier(freq='A',  order=3)\n",
    "    # fourier1  =  CalendarFourier(freq='6M',  order=3)\n",
    "    # fourier2  =  CalendarFourier(freq='Q',  order=3)\n",
    "\n",
    "    dp = DeterministicProcess(\n",
    "        index=X.index,\n",
    "        constant=True,\n",
    "        order=1,\n",
    "        seasonal=True,\n",
    "        # additional_terms=[fourier0,fourier1,fourier2],\n",
    "        drop=True\n",
    "    ) \n",
    "    dp = dp.in_sample()\n",
    "    dp['trend'] += startValue\n",
    "    new_X = pd.concat([X,dp], axis=1)\n",
    "    return new_X\n",
    "time_func = FunctionTransformer(func=det_process, \n",
    "                                kw_args={'startValue':None})\n"
   ]
  },
  {
   "cell_type": "markdown",
   "metadata": {},
   "source": [
    "<h2> 2.3  Column specific engineering </h2>\n",
    "<h3> 2.3.1 Log transformation </h3>\n",
    "<p> Function for log transformation. The FOREX column shows specific characeristics from the lognormal distribution. "
   ]
  },
  {
   "cell_type": "code",
   "execution_count": 7,
   "metadata": {},
   "outputs": [],
   "source": [
    "def log_transformation(X):\n",
    "    X = np.log1p(X)\n",
    "    X = pd.DataFrame(X)\n",
    "    return X\n",
    "log_func = FunctionTransformer(func=log_transformation)"
   ]
  },
  {
   "cell_type": "markdown",
   "metadata": {},
   "source": [
    "<h3> 2.3.2 Lagging variables </h3>\n",
    "<p> Creating a function that create specific lagged variables for the datasets. Not going to use this function </p>"
   ]
  },
  {
   "cell_type": "code",
   "execution_count": 8,
   "metadata": {},
   "outputs": [],
   "source": [
    "def lagged_func_org(X, target=None):\n",
    "    X_new =  pd.concat([target, X], axis=1)\n",
    "    # lags = [[1,2,3,4],[13],[1,5],[1,2,3,4]]\n",
    "    # shift_cols = ['Salmon_exp_vol', 'Interest_rate', 'Food_index', 'FX_EURONOK']\n",
    "    lags = [[1]]\n",
    "    shift_cols = ['Salmon_exp_vol']\n",
    "\n",
    "    sec_it = 0\n",
    "    lagged_df = pd.DataFrame()\n",
    "    for n_col in range(len(shift_cols)):\n",
    "        for n_lag  in range(len(lags[n_col])):\n",
    "            sec_it+=1\n",
    "            lagged_df[str(shift_cols[n_col]+\n",
    "                      '_lag'+\n",
    "                      str(lags[n_col][n_lag]))] = X_new[shift_cols[n_col]].shift(lags[n_col][n_lag])\n",
    "    ldf = pd.concat([X,lagged_df],axis=1).dropna()\n",
    "    return ldf\n",
    "\n",
    "lagged_func = FunctionTransformer(func=lagged_func_org, \n",
    "                                  kw_args={'target':None})"
   ]
  },
  {
   "cell_type": "markdown",
   "metadata": {},
   "source": [
    "<h2> 2.4  Z-scoring </h2>\n",
    "<p> Create functions for scaling the variables in a standardized way. </p>"
   ]
  },
  {
   "cell_type": "code",
   "execution_count": 9,
   "metadata": {},
   "outputs": [],
   "source": [
    "zScore_func = StandardScaler()\n",
    "zScoreTarget_func = StandardScaler()"
   ]
  },
  {
   "cell_type": "markdown",
   "metadata": {},
   "source": [
    "<h2> 2.6 Seasonal indicators </h2>\n",
    "<p> Creating dummy variables for each week in a year. So creating 52 new columns, on for each week. The values are 1 if the observations falls within that week, and zero if not. </p>"
   ]
  },
  {
   "cell_type": "code",
   "execution_count": 10,
   "metadata": {},
   "outputs": [],
   "source": [
    "def seasonal_indicators(X):\n",
    "    # weeks = [1,2,3,4,5,6,42,43,44,45,46,47,48,49,50,51,52]\n",
    "    weeks = np.linspace(1,52,52)\n",
    "    indicator_df = pd.DataFrame()\n",
    "    for ind_week in range(len(weeks)):\n",
    "        column = np.where(X.index.isocalendar().week==weeks[ind_week],1,0)\n",
    "        indicator_df['IndWeek'+str(weeks[ind_week])] = column\n",
    "    indicator_df.index = X.index\n",
    "    new_X = pd.concat([X, indicator_df],axis=1)\n",
    "    return new_X\n",
    "indicator_func = FunctionTransformer(func=seasonal_indicators)\n",
    "\n"
   ]
  },
  {
   "cell_type": "markdown",
   "metadata": {},
   "source": [
    "<h2> 2.5 Reshaping 2d->3d array </h2>\n",
    "Function for reshaping the dataset to include timesteps, and transform the data from being 2d to 3d </p>"
   ]
  },
  {
   "cell_type": "code",
   "execution_count": 121,
   "metadata": {},
   "outputs": [],
   "source": [
    "def reshaper(X, timeSteps=None):\n",
    "    X = pd.DataFrame(X)\n",
    "    new_Xs = [np.array(X[timeSteps:])]\n",
    "\n",
    "    for i in range(1, timeSteps+1,1):\n",
    "        shift_X  = np.array(X.shift(i))\n",
    "        new_Xs.append(shift_X[timeSteps:])\n",
    "    # for i in range(1,timeSteps+1,1):\n",
    "    #     shift_X  = np.array(X.shift(-i))\n",
    "    #     new_Xs.append(shift_X[timeSteps:])\n",
    "\n",
    "    X_reshaped = np.stack(new_Xs, axis=1)\n",
    "    print(X_reshaped.shape)\n",
    "    return X_reshaped\n",
    "\n",
    "reshape_func = FunctionTransformer(func=reshaper, kw_args={'timeSteps':None})"
   ]
  },
  {
   "cell_type": "code",
   "execution_count": 12,
   "metadata": {},
   "outputs": [],
   "source": [
    "# reshaper(df, 2)"
   ]
  },
  {
   "cell_type": "code",
   "execution_count": 13,
   "metadata": {},
   "outputs": [],
   "source": [
    "# df.shift(-1)"
   ]
  },
  {
   "cell_type": "code",
   "execution_count": 14,
   "metadata": {},
   "outputs": [
    {
     "data": {
      "text/html": [
       "<div>\n",
       "<style scoped>\n",
       "    .dataframe tbody tr th:only-of-type {\n",
       "        vertical-align: middle;\n",
       "    }\n",
       "\n",
       "    .dataframe tbody tr th {\n",
       "        vertical-align: top;\n",
       "    }\n",
       "\n",
       "    .dataframe thead th {\n",
       "        text-align: right;\n",
       "    }\n",
       "</style>\n",
       "<table border=\"1\" class=\"dataframe\">\n",
       "  <thead>\n",
       "    <tr style=\"text-align: right;\">\n",
       "      <th></th>\n",
       "      <th>Salmon_exp_vol</th>\n",
       "      <th>FX_EURONOK</th>\n",
       "      <th>Interest_rate</th>\n",
       "      <th>Food_index</th>\n",
       "    </tr>\n",
       "    <tr>\n",
       "      <th>Date</th>\n",
       "      <th></th>\n",
       "      <th></th>\n",
       "      <th></th>\n",
       "      <th></th>\n",
       "    </tr>\n",
       "  </thead>\n",
       "  <tbody>\n",
       "    <tr>\n",
       "      <th>2001-01-01</th>\n",
       "      <td>4089</td>\n",
       "      <td>8.2730</td>\n",
       "      <td>5.5</td>\n",
       "      <td>59.936571</td>\n",
       "    </tr>\n",
       "    <tr>\n",
       "      <th>2001-01-08</th>\n",
       "      <td>4959</td>\n",
       "      <td>8.2090</td>\n",
       "      <td>5.5</td>\n",
       "      <td>59.936571</td>\n",
       "    </tr>\n",
       "    <tr>\n",
       "      <th>2001-01-15</th>\n",
       "      <td>4610</td>\n",
       "      <td>8.2725</td>\n",
       "      <td>5.5</td>\n",
       "      <td>59.936571</td>\n",
       "    </tr>\n",
       "  </tbody>\n",
       "</table>\n",
       "</div>"
      ],
      "text/plain": [
       "            Salmon_exp_vol  FX_EURONOK  Interest_rate  Food_index\n",
       "Date                                                             \n",
       "2001-01-01            4089      8.2730            5.5   59.936571\n",
       "2001-01-08            4959      8.2090            5.5   59.936571\n",
       "2001-01-15            4610      8.2725            5.5   59.936571"
      ]
     },
     "execution_count": 14,
     "metadata": {},
     "output_type": "execute_result"
    }
   ],
   "source": [
    "df.head(3)"
   ]
  },
  {
   "cell_type": "markdown",
   "metadata": {},
   "source": [
    "<h1> 3. LSTM model </h1>"
   ]
  },
  {
   "cell_type": "code",
   "execution_count": 140,
   "metadata": {},
   "outputs": [],
   "source": [
    "np.random.seed(7)\n",
    "\n",
    "\n",
    "model = keras.Sequential([\n",
    "    layers.Input(shape=(14,109), name='input_layer'),\n",
    "    layers.LSTM(200, recurrent_dropout=0.5, return_sequences=True),\n",
    "    layers.LSTM(200, recurrent_dropout=0.3, return_sequences=True),\n",
    "    layers.LSTM(200, recurrent_dropout=0.3),\n",
    "    layers.BatchNormalization(),\n",
    "    layers.Dropout(0.5),\n",
    "    layers.Dense(128, activation='relu'),\n",
    "    layers.BatchNormalization(),\n",
    "    layers.Dropout(0.3),\n",
    "    layers.Dense(256, activation='relu'),\n",
    "    # layers.BatchNormalization(),\n",
    "    # layers.Dropout(0.5),\n",
    "    # layers.Dense(512, activation='gelu'),\n",
    "    # layers.Dropout(0.3),\n",
    "    # layers.Dense(256, activation='selu'),\n",
    "    # layers.Dropout(0.5),\n",
    "    # layers.Dense(128, activation='relu'),\n",
    "    layers.Dense(1)\n",
    "])\n",
    "\n",
    "\n",
    "optimizer = RMSprop(learning_rate=0.01)  # You can adjust the learning rate as needed\n",
    "model.compile(optimizer=optimizer,\n",
    "            #   loss=keras.losses.MeanSquaredError()\n",
    "              loss = 'mae'\n",
    "              )\n",
    "\n",
    "early_stopping = callbacks.EarlyStopping(\n",
    "    min_delta=0.001, \n",
    "    patience=15, \n",
    "    restore_best_weights=True,\n",
    ")"
   ]
  },
  {
   "cell_type": "markdown",
   "metadata": {},
   "source": [
    "<h1> 4.  Pipelining </h1>\n",
    "<h2> 4.1 Column specific pipeline </h2>"
   ]
  },
  {
   "cell_type": "code",
   "execution_count": 123,
   "metadata": {},
   "outputs": [],
   "source": [
    "engineering_func = ColumnTransformer(\n",
    "    transformers=[\n",
    "        ('loger', log_func, ['FX_EURONOK']),\n",
    "    ], remainder='passthrough')"
   ]
  },
  {
   "cell_type": "markdown",
   "metadata": {},
   "source": [
    "<h2> 4.2 Total pipeline </h2>"
   ]
  },
  {
   "cell_type": "code",
   "execution_count": 17,
   "metadata": {},
   "outputs": [],
   "source": [
    "X_val_corr = pd.concat([X_train[-15:],X_val])\n",
    "X_test_corr = pd.concat([X_val[-15:],X_test])"
   ]
  },
  {
   "cell_type": "code",
   "execution_count": 124,
   "metadata": {},
   "outputs": [
    {
     "name": "stdout",
     "output_type": "stream",
     "text": [
      "(946, 14, 109)\n",
      "(106, 14, 109)\n",
      "(106, 14, 109)\n"
     ]
    }
   ],
   "source": [
    "pipe = Pipeline(steps=[\n",
    "    ('det', time_func),\n",
    "    ('ind', indicator_func),\n",
    "    ('lag', lagged_func),\n",
    "    ('Col_spec', engineering_func),\n",
    "    ('zScore_func', zScore_func),\n",
    "    ('res', reshape_func)\n",
    "    # ('lstm', model)\n",
    "])\n",
    "\n",
    "\n",
    "pipe.set_params(\n",
    "                det__kw_args={'startValue':0},\n",
    "                lag__kw_args={'target':y_train},\n",
    "                res__kw_args={'timeSteps':13}\n",
    "                )\n",
    "X_train_preprocessed  = pipe.fit_transform(X_train)\n",
    "\n",
    "pipe.set_params(det__kw_args={'startValue':960}, \n",
    "                lag__kw_args={'target':y_val},\n",
    "                res__kw_args={'timeSteps':13})\n",
    "X_val_preprocessed  = pipe.transform(X_val_corr)\n",
    "\n",
    "pipe.set_params(det__kw_args={'startValue':1080}, \n",
    "                lag__kw_args={'target': y_test},\n",
    "                res__kw_args={'timeSteps':13})\n",
    "X_test_preprocessed  = pipe.transform(X_test_corr)\n"
   ]
  },
  {
   "cell_type": "markdown",
   "metadata": {},
   "source": [
    "<h1> X. Rest are drafts.. </h1>"
   ]
  },
  {
   "cell_type": "code",
   "execution_count": 161,
   "metadata": {},
   "outputs": [],
   "source": [
    "# target_scaler = StandardScaler()\n",
    "# y_train_pre = target_scaler.fit_transform(np.array([y_train[14:]]).T)\n",
    "# y_val_pre = target_scaler.transform(np.array([y_val[14:]]).T)\n",
    "# y_test_pre = target_scaler.transform(np.array([y_test[14:]]).T)\n",
    "\n",
    "y_train_pre = y_train[14:]\n",
    "y_val_pre = y_val[14:]\n",
    "y_test_pre =y_test[14:]"
   ]
  },
  {
   "cell_type": "code",
   "execution_count": null,
   "metadata": {},
   "outputs": [],
   "source": []
  },
  {
   "cell_type": "code",
   "execution_count": 162,
   "metadata": {},
   "outputs": [
    {
     "name": "stdout",
     "output_type": "stream",
     "text": [
      "\u001b[1m13/13\u001b[0m \u001b[32m━━━━━━━━━━━━━━━━━━━━\u001b[0m\u001b[37m\u001b[0m \u001b[1m0s\u001b[0m 15ms/step\n",
      "\u001b[1m13/13\u001b[0m \u001b[32m━━━━━━━━━━━━━━━━━━━━\u001b[0m\u001b[37m\u001b[0m \u001b[1m0s\u001b[0m 17ms/step\n",
      "\u001b[1m9/9\u001b[0m \u001b[32m━━━━━━━━━━━━━━━━━━━━\u001b[0m\u001b[37m\u001b[0m \u001b[1m0s\u001b[0m 12ms/step\n"
     ]
    }
   ],
   "source": [
    "def rolling_window_cross_val(model, metric):\n",
    "    X = np.concatenate((X_train_preprocessed,X_val_preprocessed),axis=0)\n",
    "    y = np.concatenate((y_train_pre,y_val_pre),axis=0)\n",
    "\n",
    "\n",
    "    scores = []\n",
    "    for i in range(0,3,1):\n",
    "        sel_X = X[int(i*0.316*X.shape[0]):int((i+1)*0.316*X.shape[0])]\n",
    "        sel_y = y[int(i*0.316*y.shape[0]):int((i+1)*0.316*y.shape[0])]\n",
    "\n",
    "        sel_X_test = X[int(i*(0.316+0.05)*X.shape[0]):int((i+1)*(0.316+0.05)*X.shape[0])]\n",
    "        sel_y_test = y[int(i*(0.316+0.05)*y.shape[0]):int((i+1)*(0.316+0.05)*y.shape[0])]\n",
    "    \n",
    "        model.fit(sel_X,sel_y,\n",
    "                epochs=500, batch_size=60,\n",
    "                validation_data=[sel_X_test, sel_y_test],\n",
    "                callbacks=early_stopping, verbose=False)        \n",
    "        pred = model.predict(sel_X_test)\n",
    "        score = metric(pred, sel_y_test)\n",
    "        scores.append(score)\n",
    "    \n",
    "    return [np.mean(scores),model]\n",
    "\n",
    "cv_result = rolling_window_cross_val(model,  MAE)\n"
   ]
  },
  {
   "cell_type": "code",
   "execution_count": 164,
   "metadata": {},
   "outputs": [
    {
     "data": {
      "text/plain": [
       "[12826.386700954594, <Sequential name=sequential_3, built=True>]"
      ]
     },
     "execution_count": 164,
     "metadata": {},
     "output_type": "execute_result"
    }
   ],
   "source": [
    "cv_result"
   ]
  },
  {
   "cell_type": "code",
   "execution_count": 152,
   "metadata": {},
   "outputs": [],
   "source": [
    "# model.fit(X_train_preprocessed,y_train_pre,\n",
    "#           epochs=500, batch_size=60,\n",
    "#           validation_data=[X_val_preprocessed, y_val_pre],\n",
    "#           callbacks=early_stopping)\n",
    "\n",
    "\n",
    "# train_pred = model.predict(X_train_preprocessed)\n",
    "# val_pred = model.predict(X_val_preprocessed)\n",
    "# test_pred = model.predict(X_test_preprocessed)"
   ]
  },
  {
   "cell_type": "code",
   "execution_count": 24,
   "metadata": {},
   "outputs": [
    {
     "data": {
      "image/png": "[encoded data removed]",
      "text/plain": [
       "<Figure size 640x480 with 2 Axes>"
      ]
     },
     "metadata": {},
     "output_type": "display_data"
    }
   ],
   "source": [
    "fig,ax = plt.subplots(2)\n",
    "ax[0].plot(y_train, label='Train')\n",
    "ax[0].plot(y_val, label='Valid')\n",
    "ax[0].plot(y_test, label='Test')\n",
    "ax[0].set_ylim(0,25000)\n",
    "\n",
    "ax[1].plot(X_train.index[14:], train_pred, label='Train_pred')\n",
    "ax[1].set_xlim(10500,20000)\n",
    "ax[1].plot(X_val.index[14:], val_pred, label='Test_pred')\n",
    "ax[1].plot(X_test.index[14:], test_pred, label='Test_pred')\n",
    "ax[1].set_ylim(0,25000)\n",
    "\n",
    "plt.legend()\n",
    "plt.show()"
   ]
  },
  {
   "cell_type": "code",
   "execution_count": 25,
   "metadata": {},
   "outputs": [],
   "source": [
    "# from sklearn.metrics import root_mean_squared_error as RMSE\n",
    "# from sklearn.metrics import mean_absolute_percentage_error as \n",
    "from sklearn.metrics import mean_absolute_error as MAE\n"
   ]
  },
  {
   "cell_type": "code",
   "execution_count": 26,
   "metadata": {},
   "outputs": [
    {
     "data": {
      "text/plain": [
       "4167.853499108087"
      ]
     },
     "execution_count": 26,
     "metadata": {},
     "output_type": "execute_result"
    }
   ],
   "source": [
    "MAE(train_pred, y_train_pre)"
   ]
  },
  {
   "cell_type": "code",
   "execution_count": 27,
   "metadata": {},
   "outputs": [
    {
     "data": {
      "text/plain": [
       "0.11623931623931624"
      ]
     },
     "execution_count": 27,
     "metadata": {},
     "output_type": "execute_result"
    }
   ],
   "source": [
    "1360/11700"
   ]
  },
  {
   "cell_type": "code",
   "execution_count": 28,
   "metadata": {},
   "outputs": [
    {
     "data": {
      "text/plain": [
       "(946, 1)"
      ]
     },
     "execution_count": 28,
     "metadata": {},
     "output_type": "execute_result"
    }
   ],
   "source": [
    "train_pred.shape"
   ]
  },
  {
   "cell_type": "code",
   "execution_count": 29,
   "metadata": {},
   "outputs": [
    {
     "data": {
      "text/plain": [
       "array([148.99230769])"
      ]
     },
     "execution_count": 29,
     "metadata": {},
     "output_type": "execute_result"
    }
   ],
   "source": [
    "(sum(y_train_pre)-sum(train_pred))/ (52*20)"
   ]
  },
  {
   "cell_type": "code",
   "execution_count": 30,
   "metadata": {},
   "outputs": [
    {
     "data": {
      "text/plain": [
       "'2.88 thousands'"
      ]
     },
     "execution_count": 30,
     "metadata": {},
     "output_type": "execute_result"
    }
   ],
   "source": [
    "str(X_train.size/1000)+ ' thousands'"
   ]
  },
  {
   "cell_type": "code",
   "execution_count": 31,
   "metadata": {},
   "outputs": [],
   "source": [
    "# pd.DataFrame(X_train_preprocessed)"
   ]
  },
  {
   "cell_type": "code",
   "execution_count": 32,
   "metadata": {},
   "outputs": [
    {
     "data": {
      "text/plain": [
       "'2.784078 million'"
      ]
     },
     "execution_count": 32,
     "metadata": {},
     "output_type": "execute_result"
    }
   ],
   "source": [
    "str(X_train_preprocessed.size/1000/1000) +' million'"
   ]
  }
 ],
 "metadata": {
  "kernelspec": {
   "display_name": "base",
   "language": "python",
   "name": "python3"
  },
  "language_info": {
   "codemirror_mode": {
    "name": "ipython",
    "version": 3
   },
   "file_extension": ".py",
   "mimetype": "text/x-python",
   "name": "python",
   "nbconvert_exporter": "python",
   "pygments_lexer": "ipython3",
   "version": "3.11.7"
  }
 },
 "nbformat": 4,
 "nbformat_minor": 2
}
