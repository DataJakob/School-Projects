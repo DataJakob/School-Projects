{
 "cells": [
  {
   "cell_type": "code",
   "execution_count": 3,
   "metadata": {},
   "outputs": [],
   "source": [
    "import numpy as np\n",
    "import pandas as pd\n",
    "import matplotlib.pyplot as plt\n",
    "\n",
    "from sklearn.model_selection import train_test_split"
   ]
  },
  {
   "cell_type": "code",
   "execution_count": 9,
   "metadata": {},
   "outputs": [],
   "source": [
    "df = pd.read_csv('Preprocessed_data.csv')\n",
    "\n",
    "\n",
    "df.index = pd.to_datetime(df['Date'], format='%Y-%m-%d')\n",
    "df.drop(['Date', 'Salmon_exp_price'], axis=1, inplace=True)"
   ]
  },
  {
   "cell_type": "code",
   "execution_count": 14,
   "metadata": {},
   "outputs": [
    {
     "data": {
      "text/html": [
       "<div>\n",
       "<style scoped>\n",
       "    .dataframe tbody tr th:only-of-type {\n",
       "        vertical-align: middle;\n",
       "    }\n",
       "\n",
       "    .dataframe tbody tr th {\n",
       "        vertical-align: top;\n",
       "    }\n",
       "\n",
       "    .dataframe thead th {\n",
       "        text-align: right;\n",
       "    }\n",
       "</style>\n",
       "<table border=\"1\" class=\"dataframe\">\n",
       "  <thead>\n",
       "    <tr style=\"text-align: right;\">\n",
       "      <th></th>\n",
       "      <th>Salmon_exp_vol</th>\n",
       "      <th>FX_EURONOK</th>\n",
       "      <th>Interest_rate</th>\n",
       "      <th>Food_index</th>\n",
       "    </tr>\n",
       "    <tr>\n",
       "      <th>Date</th>\n",
       "      <th></th>\n",
       "      <th></th>\n",
       "      <th></th>\n",
       "      <th></th>\n",
       "    </tr>\n",
       "  </thead>\n",
       "  <tbody>\n",
       "    <tr>\n",
       "      <th>2001-01-01</th>\n",
       "      <td>4089</td>\n",
       "      <td>8.27300</td>\n",
       "      <td>5.50</td>\n",
       "      <td>59.936571</td>\n",
       "    </tr>\n",
       "    <tr>\n",
       "      <th>2001-01-08</th>\n",
       "      <td>4959</td>\n",
       "      <td>8.20900</td>\n",
       "      <td>5.50</td>\n",
       "      <td>59.936571</td>\n",
       "    </tr>\n",
       "    <tr>\n",
       "      <th>2001-01-15</th>\n",
       "      <td>4610</td>\n",
       "      <td>8.27250</td>\n",
       "      <td>5.50</td>\n",
       "      <td>59.936571</td>\n",
       "    </tr>\n",
       "    <tr>\n",
       "      <th>2001-01-22</th>\n",
       "      <td>4470</td>\n",
       "      <td>8.20700</td>\n",
       "      <td>5.50</td>\n",
       "      <td>59.936571</td>\n",
       "    </tr>\n",
       "    <tr>\n",
       "      <th>2001-01-29</th>\n",
       "      <td>4523</td>\n",
       "      <td>8.19600</td>\n",
       "      <td>5.50</td>\n",
       "      <td>59.936571</td>\n",
       "    </tr>\n",
       "    <tr>\n",
       "      <th>...</th>\n",
       "      <td>...</td>\n",
       "      <td>...</td>\n",
       "      <td>...</td>\n",
       "      <td>...</td>\n",
       "    </tr>\n",
       "    <tr>\n",
       "      <th>2023-11-27</th>\n",
       "      <td>22910</td>\n",
       "      <td>11.61061</td>\n",
       "      <td>2.25</td>\n",
       "      <td>114.626222</td>\n",
       "    </tr>\n",
       "    <tr>\n",
       "      <th>2023-12-04</th>\n",
       "      <td>22243</td>\n",
       "      <td>11.73763</td>\n",
       "      <td>2.50</td>\n",
       "      <td>112.403991</td>\n",
       "    </tr>\n",
       "    <tr>\n",
       "      <th>2023-12-11</th>\n",
       "      <td>24551</td>\n",
       "      <td>11.42400</td>\n",
       "      <td>2.50</td>\n",
       "      <td>112.403991</td>\n",
       "    </tr>\n",
       "    <tr>\n",
       "      <th>2023-12-18</th>\n",
       "      <td>18480</td>\n",
       "      <td>11.23379</td>\n",
       "      <td>2.50</td>\n",
       "      <td>112.403991</td>\n",
       "    </tr>\n",
       "    <tr>\n",
       "      <th>2023-12-25</th>\n",
       "      <td>10440</td>\n",
       "      <td>11.22391</td>\n",
       "      <td>2.50</td>\n",
       "      <td>112.403991</td>\n",
       "    </tr>\n",
       "  </tbody>\n",
       "</table>\n",
       "<p>1200 rows × 4 columns</p>\n",
       "</div>"
      ],
      "text/plain": [
       "            Salmon_exp_vol  FX_EURONOK  Interest_rate  Food_index\n",
       "Date                                                             \n",
       "2001-01-01            4089     8.27300           5.50   59.936571\n",
       "2001-01-08            4959     8.20900           5.50   59.936571\n",
       "2001-01-15            4610     8.27250           5.50   59.936571\n",
       "2001-01-22            4470     8.20700           5.50   59.936571\n",
       "2001-01-29            4523     8.19600           5.50   59.936571\n",
       "...                    ...         ...            ...         ...\n",
       "2023-11-27           22910    11.61061           2.25  114.626222\n",
       "2023-12-04           22243    11.73763           2.50  112.403991\n",
       "2023-12-11           24551    11.42400           2.50  112.403991\n",
       "2023-12-18           18480    11.23379           2.50  112.403991\n",
       "2023-12-25           10440    11.22391           2.50  112.403991\n",
       "\n",
       "[1200 rows x 4 columns]"
      ]
     },
     "execution_count": 14,
     "metadata": {},
     "output_type": "execute_result"
    }
   ],
   "source": [
    "df"
   ]
  },
  {
   "cell_type": "code",
   "execution_count": 27,
   "metadata": {},
   "outputs": [],
   "source": [
    "y = df['Salmon_exp_vol']\n",
    "X = df.loc[:,'FX_EURONOK':]"
   ]
  },
  {
   "cell_type": "code",
   "execution_count": 29,
   "metadata": {},
   "outputs": [],
   "source": [
    "X_train, X_test, y_train, y_test = train_test_split(X,y, \n",
    "                                                    test_size=0.2,\n",
    "                                                    shuffle=False)"
   ]
  },
  {
   "cell_type": "code",
   "execution_count": 44,
   "metadata": {},
   "outputs": [],
   "source": [
    "# Manual change in FX column\n",
    "X_train['FX_EURONOK']['2002-10-14'] = 7.34\n",
    "\n",
    "\n",
    "# Log transform  the FX columns\n",
    "def log_transform(X_train, X_test):\n",
    "    X_train = np.log(X_train)\n",
    "    X_test = np.log(X_test)\n",
    "    return X_train, X_test"
   ]
  }
 ],
 "metadata": {
  "kernelspec": {
   "display_name": "base",
   "language": "python",
   "name": "python3"
  },
  "language_info": {
   "codemirror_mode": {
    "name": "ipython",
    "version": 3
   },
   "file_extension": ".py",
   "mimetype": "text/x-python",
   "name": "python",
   "nbconvert_exporter": "python",
   "pygments_lexer": "ipython3",
   "version": "3.9.13"
  }
 },
 "nbformat": 4,
 "nbformat_minor": 2
}
