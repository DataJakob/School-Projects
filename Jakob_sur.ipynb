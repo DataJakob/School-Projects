{
 "cells": [
  {
   "cell_type": "code",
   "execution_count": 2,
   "id": "3d1b3462-3ccd-422b-b824-2e007441da98",
   "metadata": {},
   "outputs": [
    {
     "name": "stdout",
     "output_type": "stream",
     "text": [
      "Note: you may need to restart the kernel to use updated packages.\n"
     ]
    },
    {
     "name": "stderr",
     "output_type": "stream",
     "text": [
      "ERROR: Could not find a version that satisfies the requirement cv2 (from versions: none)\n",
      "ERROR: No matching distribution found for cv2\n"
     ]
    }
   ],
   "source": [
    "%pip install cv2"
   ]
  },
  {
   "cell_type": "code",
   "execution_count": 1,
   "id": "913b431f",
   "metadata": {},
   "outputs": [
    {
     "ename": "ModuleNotFoundError",
     "evalue": "No module named 'cv2'",
     "output_type": "error",
     "traceback": [
      "\u001b[1;31m---------------------------------------------------------------------------\u001b[0m",
      "\u001b[1;31mModuleNotFoundError\u001b[0m                       Traceback (most recent call last)",
      "Cell \u001b[1;32mIn[1], line 1\u001b[0m\n\u001b[1;32m----> 1\u001b[0m \u001b[38;5;28;01mimport\u001b[39;00m \u001b[38;5;21;01mcv2\u001b[39;00m\n\u001b[0;32m      2\u001b[0m \u001b[38;5;28;01mimport\u001b[39;00m \u001b[38;5;21;01mnumpy\u001b[39;00m \u001b[38;5;28;01mas\u001b[39;00m \u001b[38;5;21;01mnp\u001b[39;00m\n\u001b[0;32m      3\u001b[0m \u001b[38;5;28;01mimport\u001b[39;00m \u001b[38;5;21;01mrequests\u001b[39;00m\n",
      "\u001b[1;31mModuleNotFoundError\u001b[0m: No module named 'cv2'"
     ]
    }
   ],
   "source": [
    "import cv2\n",
    "import numpy as np\n",
    "import requests\n",
    "import imutils \n",
    "import urllib.request\n",
    "import ssl\n",
    "\n",
    "import matplotlib.pyplot as plt\n",
    "from ultralytics import YOLO\n",
    "from PIL import Image"
   ]
  },
  {
   "cell_type": "code",
   "execution_count": null,
   "id": "6ca7896c",
   "metadata": {},
   "outputs": [],
   "source": [
    "model = YOLO('yolov8n.pt')\n",
    "\n",
    "def detection(frame):\n",
    "    result_predictions = model.predict(source = frame, imgsz=(416))\n",
    "    plot = result_predictions[0].plot()\n",
    "    plot = cv2.cvtColor(plot, cv2.COLOR_BGR2RGB)\n",
    "\n",
    "    return plot\n",
    "    "
   ]
  },
  {
   "cell_type": "code",
   "execution_count": 4,
   "id": "8ef2da86",
   "metadata": {},
   "outputs": [],
   "source": [
    "# model = YOLO('yolov8n.pt')\n",
    "\n",
    "# def detection(frame):\n",
    "#     result_predictions = model.predict(source = frame, imgsz=(416))\n",
    "#     plot = result_predictions[0].plot()\n",
    "#     plot = cv2.cvtColor(plot, cv2.COLOR_BGR2RGB)\n",
    "\n",
    "#     return display(Image.fromarray(plot))\n",
    "    "
   ]
  },
  {
   "cell_type": "code",
   "execution_count": 5,
   "id": "b302ef10",
   "metadata": {},
   "outputs": [],
   "source": [
    "# url = 'https://77.17.162.244:8080/shot.jpg'\n",
    "# ssl._create_default_https_context = ssl._create_unverified_context\n",
    "\n",
    "# width = 640\n",
    "# height = 400\n",
    "\n",
    "# while True:\n",
    "#     # Fetch the image from the URL\n",
    "#     img_resp = urllib.request.urlopen(url)\n",
    "#     img_arr = np.array(bytearray(img_resp.read()), dtype=np.uint8)\n",
    "    \n",
    "#     # Decode the image array\n",
    "#     frame = cv2.imdecode(img_arr, -1)\n",
    "#     frame = cv2.resize(frame, (width, height))\n",
    "\n",
    "#     # Display the image\n",
    "#     cv2.imshow('Frame', detection(frame))\n",
    "    \n",
    "#     # Check for the 'ESC' key to exit\n",
    "#     if cv2.waitKey(1) == 27:\n",
    "#         break\n",
    "\n",
    "# cv2.destroyAllWindows()"
   ]
  }
 ],
 "metadata": {
  "kernelspec": {
   "display_name": "Python 3 (ipykernel)",
   "language": "python",
   "name": "python3"
  },
  "language_info": {
   "codemirror_mode": {
    "name": "ipython",
    "version": 3
   },
   "file_extension": ".py",
   "mimetype": "text/x-python",
   "name": "python",
   "nbconvert_exporter": "python",
   "pygments_lexer": "ipython3",
   "version": "3.11.7"
  }
 },
 "nbformat": 4,
 "nbformat_minor": 5
}
