{
 "cells": [
  {
   "cell_type": "markdown",
   "metadata": {},
   "source": [
    "<h1>Implied volatility, task 1"
   ]
  },
  {
   "cell_type": "code",
   "execution_count": 64,
   "metadata": {},
   "outputs": [],
   "source": [
    "import numpy as np\n",
    "import scipy.stats as st\n",
    "from scipy.optimize import root_scalar as RS\n",
    "\n",
    "class BlaSchMet:\n",
    "    def __init__(self, S, K, T, rf, div_y, option_type):\n",
    "        self.spot = S\n",
    "        self.strike = K\n",
    "        self.total_time = T\n",
    "        self.risk_free = rf\n",
    "        self.dividend_yield = div_y\n",
    "        self.option_type = option_type\n",
    "        self.volatility = None\n",
    "        self.find_price = None\n",
    "        self.option_price = None\n",
    "        self.d1 = None\n",
    "        self.d2 = None\n",
    "        self.x =  None\n",
    "\n",
    "    \n",
    "    def set_goal(self, find_price=None, vol=None, find_vol=None, price=None):\n",
    "        \n",
    "        if find_price==True:\n",
    "            self.find_price = True\n",
    "            self.volatility = vol\n",
    "        elif find_vol == True:\n",
    "            self.find_vol = True\n",
    "            self.option_price = price\n",
    "        else: \n",
    "            print('*State desired goal')\n",
    "    \n",
    "\n",
    "    def d1_func(self,post=None):\n",
    "        part1 = np.log(self.spot/self.strike)\n",
    "        part2 = (self.risk_free-self.dividend_yield+(1/2)*self.volatility**2)*self.total_time\n",
    "        part3 = self.volatility*np.sqrt(self.total_time)\n",
    "        d1 =  (part1+part2) / part3\n",
    "        self.d1 = d1\n",
    "        if post == True:\n",
    "            return self.d1\n",
    "\n",
    "    def d2_func(self, d1, post=None):\n",
    "        d2 = d1 - self.volatility*np.sqrt(self.total_time)\n",
    "        self.d2 = d2\n",
    "        if post==True:\n",
    "            return self.d2\n",
    "\n",
    "    def call_black_scholes(self,x=None, *args):\n",
    "        if self.x != None:\n",
    "            self.volatility = x\n",
    "        part1 = self.spot*np.e**(-self.dividend_yield*self.total_time)*st.norm.cdf(self.d1_func(post=True))\n",
    "        part2 = self.strike * np.e**(-self.risk_free*self.total_time)*st.norm.cdf(self.d2_func(self.d1,post=True))\n",
    "        call_price = part1-part2\n",
    "        disc_strike = self.strike*np.e**(-self.risk_free*self.total_time)\n",
    "        disc_spot = self.spot*np.e**(-self.dividend_yield*self.total_time)\n",
    "        if self.option_type=='Call':\n",
    "            price = call_price\n",
    "            if self.find_price==True:\n",
    "                return price\n",
    "            if self.find_vol==True:\n",
    "                return price-self.option_price\n",
    "            \n",
    "        elif self.option_type=='Put':\n",
    "            price = call_price+disc_strike-disc_spot\n",
    "            if self.find_price==True:\n",
    "                return price\n",
    "            if self.find_vol==True:\n",
    "                return price-self.option_price\n",
    "        else:\n",
    "            print('*State option_type')\n",
    "    \n",
    "\n",
    "\n",
    "    def find_imp_vol(self, x_guess=None):\n",
    "        self.x = x_guess\n",
    "        self.volatility = self.x\n",
    "        result = RS(self.call_black_scholes, args=(self.option_price,), x0=x_guess, bracket=[0.0001, 1])\n",
    "        return round(result.root,3)\n",
    "    \n",
    "\n",
    "    def vega_calc(self):\n",
    "        part1 = 1/100 \n",
    "        part2 = self.spot * np.e**(-self.dividend_yield*self.total_time) * np.sqrt(self.total_time)\n",
    "        part3 = (np.e**((-self.d1_func(post=True)**2)/2))/(np.sqrt(2*np.pi))\n",
    "        result = part1 * part2 *part3\n",
    "        return result"
   ]
  },
  {
   "cell_type": "code",
   "execution_count": 65,
   "metadata": {},
   "outputs": [
    {
     "data": {
      "text/plain": [
       "1.5213695369141487"
      ]
     },
     "execution_count": 65,
     "metadata": {},
     "output_type": "execute_result"
    }
   ],
   "source": [
    "myMethod0 = BlaSchMet(200,210,3,0.05,0.01, 'Put')\n",
    "myMethod0.set_goal(find_price=True, vol=0.12, find_vol=False, price=0)\n",
    "myMethod0.call_black_scholes()\n",
    "myMethod0.vega_calc()"
   ]
  },
  {
   "cell_type": "code",
   "execution_count": 56,
   "metadata": {},
   "outputs": [
    {
     "data": {
      "text/plain": [
       "0.12"
      ]
     },
     "execution_count": 56,
     "metadata": {},
     "output_type": "execute_result"
    }
   ],
   "source": [
    "myMethod1 = BlaSchMet(200,210,3,0.05,0.01, 'Put')\n",
    "myMethod1.set_goal(find_price=False, vol=0, find_vol=True, price=9.74)\n",
    "myMethod1.find_imp_vol(x_guess=0.0001)"
   ]
  }
 ],
 "metadata": {
  "kernelspec": {
   "display_name": "base",
   "language": "python",
   "name": "python3"
  },
  "language_info": {
   "codemirror_mode": {
    "name": "ipython",
    "version": 3
   },
   "file_extension": ".py",
   "mimetype": "text/x-python",
   "name": "python",
   "nbconvert_exporter": "python",
   "pygments_lexer": "ipython3",
   "version": "3.9.13"
  }
 },
 "nbformat": 4,
 "nbformat_minor": 2
}
