{
 "cells": [
  {
   "cell_type": "markdown",
   "metadata": {},
   "source": [
    "<h1> Feature engineering <br>\n",
    "Modelling <br>\n",
    "and Evaluation</h2>\n",
    "<br>\n",
    "<br>\n",
    "<b> This is work in progress! </b> <p> We need to add the deterministic process to the training data. We need to find out how to implement lagged variables, we need to discuss whether,we should use future values as well. "
   ]
  },
  {
   "cell_type": "markdown",
   "metadata": {},
   "source": []
  },
  {
   "cell_type": "markdown",
   "metadata": {},
   "source": [
    "<ol>\n",
    "<li>Deterministic process</li>\n",
    "<li>Lagged variables</li>\n",
    "<li> Fourier</li>\n",
    "<li>Seasonal indicators (very important)</li>\n",
    "<li></li>\n",
    "<li></li>\n",
    "<li></li>\n",
    "</ol>"
   ]
  },
  {
   "cell_type": "markdown",
   "metadata": {},
   "source": [
    "<h1> 1. Getting started </h1>\n",
    "<h2> 1.1 Importing libraries </h2>"
   ]
  },
  {
   "cell_type": "code",
   "execution_count": 1,
   "metadata": {},
   "outputs": [],
   "source": [
    "import numpy as np\n",
    "import pandas as pd\n",
    "import matplotlib.pyplot as plt\n",
    "import seaborn as sns\n",
    "\n",
    "from sklearn.model_selection import train_test_split\n",
    "from sklearn.preprocessing import StandardScaler\n",
    "from sklearn.pipeline import Pipeline\n",
    "from sklearn.preprocessing import FunctionTransformer\n",
    "from sklearn.compose import \n",
    "from sklearn.compose import ColumnTransformer\n",
    "\n",
    "\n",
    "\n",
    "import tensorflow as tf\n",
    "from tensorflow import keras\n",
    "from keras import Sequential, layers, Input, callbacks\n",
    "from keras.layers import Dense\n",
    "from keras.layers import LSTM\n",
    "from keras.layers import Activation\n",
    "\n",
    "from statsmodels.tsa.deterministic import DeterministicProcess\n",
    "from statsmodels.tsa.deterministic import  CalendarFourier"
   ]
  },
  {
   "cell_type": "markdown",
   "metadata": {},
   "source": [
    "<h2> 1.2 Downloading data </h2>"
   ]
  },
  {
   "cell_type": "code",
   "execution_count": 2,
   "metadata": {},
   "outputs": [],
   "source": [
    "df = pd.read_csv('Preprocessed_data.csv')\n",
    "\n",
    "\n",
    "df.index = pd.to_datetime(df['Date'], format='%Y-%m-%d')\n",
    "df.drop(['Date', 'Salmon_exp_price'], axis=1, inplace=True)"
   ]
  },
  {
   "cell_type": "markdown",
   "metadata": {},
   "source": [
    "<h2> 1.3 Splitting data in 3*2"
   ]
  },
  {
   "cell_type": "code",
   "execution_count": 3,
   "metadata": {},
   "outputs": [],
   "source": [
    "y = df['Salmon_exp_vol']\n",
    "X = df.loc[:,'FX_EURONOK':]\n",
    "\n",
    "X_train, X_eval, y_train, y_eval = train_test_split(X,y, \n",
    "                                                    test_size=0.2,\n",
    "                                                    shuffle=False)\n",
    "X_val, X_test, y_val, y_test = train_test_split(X_eval, y_eval, \n",
    "                                                test_size=0.5,\n",
    "                                                shuffle=False)"
   ]
  },
  {
   "cell_type": "markdown",
   "metadata": {},
   "source": [
    "<h1> 2. Feature engineering </h1>"
   ]
  },
  {
   "cell_type": "markdown",
   "metadata": {},
   "source": [
    "<h2> 2.1 Manual imputing </h2>"
   ]
  },
  {
   "cell_type": "code",
   "execution_count": 45,
   "metadata": {},
   "outputs": [],
   "source": [
    "X_train['FX_EURONOK']['2002-10-14'] = 7.34\n",
    "X_train['FX_EURONOK']['2008-08-04'] = 7.9995\n",
    "X_train['FX_EURONOK']['2008-08-08'] = 7.9915\n",
    "X_train['FX_EURONOK']['2008-08-11'] = 7.9975\n",
    "X_train['FX_EURONOK']['2008-08-18'] = 7.9740"
   ]
  },
  {
   "cell_type": "markdown",
   "metadata": {},
   "source": [
    "<h2> 2.2 Time dummy and Fourier  </h2>"
   ]
  },
  {
   "cell_type": "code",
   "execution_count": null,
   "metadata": {},
   "outputs": [],
   "source": [
    "def det_process(X):\n",
    "    fourier0  =  CalendarFourier(freq='A',  order=3)\n",
    "    fourier1  =  CalendarFourier(freq='6M',  order=3)\n",
    "    fourier2  =  CalendarFourier(freq='Q',  order=3)\n",
    "\n",
    "    dp = DeterministicProcess(\n",
    "        index=X.index,\n",
    "        constant=True,\n",
    "        order=1,\n",
    "        seasonal=True,\n",
    "        additional_terms=[fourier0,fourier1,fourier2],\n",
    "        drop=True\n",
    "    ) \n",
    "    dp = dp.in_sample()\n",
    "    new_X = pd.concat([X,dp], axis=1)\n",
    "    return new_X\n",
    "timeDummy = FunctionTransformer(func=det_process)\n"
   ]
  },
  {
   "cell_type": "markdown",
   "metadata": {},
   "source": [
    "<h2> 2.3  Column specific engineering </h2>\n",
    "<h3> 2.3.1 Log transformation </h3>"
   ]
  },
  {
   "cell_type": "code",
   "execution_count": null,
   "metadata": {},
   "outputs": [],
   "source": [
    "def log_transformation(X):\n",
    "    X = np.log1p(X)\n",
    "    return X\n",
    "loger = FunctionTransformer(func=log_transformation)"
   ]
  },
  {
   "cell_type": "markdown",
   "metadata": {},
   "source": [
    "<h3> 2.3.2 Lagging variables"
   ]
  },
  {
   "cell_type": "code",
   "execution_count": null,
   "metadata": {},
   "outputs": [],
   "source": [
    "shift_cols = ['Salmon_exp_vol', 'Interest_rate', 'Food_index']\n",
    "\n",
    "def lagged_var(X):\n",
    "    lags = [[1,2,3,4],[10],[1,5]]\n",
    "    shift_cols = ['Salmon_exp_vol', 'Interest_rate', 'Food_index']\n",
    "\n",
    "    lagged_df = pd.DataFrame()\n",
    "    for n_col in range(0, len(shift_cols),1):\n",
    "        for n_lag  in range(0,len(lags[n_col]),1):\n",
    "            # print(lags[n_col][0])\n",
    "            lagged_df[shift_cols[n_col]+\n",
    "                      '_lag'+\n",
    "                      str(lags[n_col][n_lag])] = X[shift_cols[n_col]].shift(lags[n_col][n_lag])\n",
    "    return pd.concat([X,lagged_df],axis=1)\n",
    "lagged_var(df)"
   ]
  },
  {
   "cell_type": "markdown",
   "metadata": {},
   "source": [
    "<h2> 2.4  Z-scoring </h2>"
   ]
  },
  {
   "cell_type": "code",
   "execution_count": 46,
   "metadata": {},
   "outputs": [],
   "source": [
    "z_scores = StandardScaler()"
   ]
  },
  {
   "cell_type": "markdown",
   "metadata": {},
   "source": [
    "<h2> 2.5 Reshaping 2d->3d array"
   ]
  },
  {
   "cell_type": "code",
   "execution_count": 47,
   "metadata": {},
   "outputs": [],
   "source": [
    "def reshaper(X):\n",
    "    X_reshaped = X.reshape(X.shape[0], 1, X.shape[1])    \n",
    "    return   X_reshaped\n",
    "reshape = FunctionTransformer(func=reshaper)\n",
    "log_cols = ['FX_EURONOK']"
   ]
  },
  {
   "cell_type": "markdown",
   "metadata": {},
   "source": [
    "<h1> 3. LSTM model </h1>"
   ]
  },
  {
   "cell_type": "code",
   "execution_count": null,
   "metadata": {},
   "outputs": [],
   "source": [
    "model = keras.Sequential([\n",
    "    layers.LSTM(2, input_shape=(1,74)),\n",
    "    layers.Dropout(0.4),\n",
    "    layers.Dense(8, activation='relu'),\n",
    "    layers.BatchNormalization(),\n",
    "    layers.Dense(32, activation='relu'),\n",
    "    layers.Dense(1)\n",
    "])\n",
    "model.compile(optimizer='adam',\n",
    "              loss='mae')\n",
    "\n",
    "early_stopping = callbacks.EarlyStopping(\n",
    "    min_delta=0.01, # minimium amount of change to count as an improvement\n",
    "    patience=20, # how many epochs to wait before stopping\n",
    "    restore_best_weights=True,\n",
    ")"
   ]
  },
  {
   "cell_type": "markdown",
   "metadata": {},
   "source": [
    "<h1> 4.  Pipelining </h1>\n",
    "<h2> 4.1 Column specific pipeline </h2>"
   ]
  },
  {
   "cell_type": "code",
   "execution_count": null,
   "metadata": {},
   "outputs": [],
   "source": [
    "engineering = ColumnTransformer(\n",
    "    transformers=[\n",
    "        ('loger', loger, log_cols)      \n",
    "], remainder='passthrough')"
   ]
  },
  {
   "cell_type": "markdown",
   "metadata": {},
   "source": [
    "<h2> 4.2 Total pipeline </h2>"
   ]
  },
  {
   "cell_type": "code",
   "execution_count": null,
   "metadata": {},
   "outputs": [],
   "source": [
    "pipe = Pipeline(steps=[\n",
    "    ('det', timeDummy),\n",
    "    ('Col_spec', engineering),\n",
    "    ('norm', z_scores),\n",
    "    ('res', reshape),\n",
    "    ('lstm', model)\n",
    "])\n",
    "\n",
    "pipe.fit(X_train_preprocessed, y_train, \n",
    "          epochs=150, batch_size=50,\n",
    "          validation_data=[X_val_preprocessed, y_val]\n",
    "          )"
   ]
  },
  {
   "cell_type": "markdown",
   "metadata": {},
   "source": [
    "<h1> X. Rest are drafts.. </h1>"
   ]
  },
  {
   "cell_type": "code",
   "execution_count": 10,
   "metadata": {},
   "outputs": [],
   "source": [
    "X_train_preprocessed =popo.fit_transform(X_train)\n",
    "X_val_preprocessed = popo.transform(X_val)\n",
    "X_test_preprocessed = popo.transform(X_test)"
   ]
  },
  {
   "cell_type": "code",
   "execution_count": 11,
   "metadata": {},
   "outputs": [
    {
     "data": {
      "text/plain": [
       "(960, 1, 74)"
      ]
     },
     "execution_count": 11,
     "metadata": {},
     "output_type": "execute_result"
    }
   ],
   "source": [
    "X_train_preprocessed.shape"
   ]
  },
  {
   "cell_type": "code",
   "execution_count": 12,
   "metadata": {},
   "outputs": [
    {
     "name": "stdout",
     "output_type": "stream",
     "text": [
      "Epoch 1/150\n",
      "20/20 [==============================] - 2s 21ms/step - loss: 11604.8926 - val_loss: 18467.9551\n",
      "Epoch 2/150\n",
      "20/20 [==============================] - 0s 3ms/step - loss: 11604.4336 - val_loss: 18467.7949\n",
      "Epoch 3/150\n",
      "20/20 [==============================] - 0s 3ms/step - loss: 11603.8320 - val_loss: 18467.5938\n",
      "Epoch 4/150\n",
      "20/20 [==============================] - 0s 3ms/step - loss: 11603.1299 - val_loss: 18467.3223\n",
      "Epoch 5/150\n",
      "20/20 [==============================] - 0s 4ms/step - loss: 11602.1475 - val_loss: 18466.9629\n",
      "Epoch 6/150\n",
      "20/20 [==============================] - 0s 4ms/step - loss: 11600.8857 - val_loss: 18466.4590\n",
      "Epoch 7/150\n",
      "20/20 [==============================] - 0s 4ms/step - loss: 11599.4102 - val_loss: 18465.7617\n",
      "Epoch 8/150\n",
      "20/20 [==============================] - 0s 4ms/step - loss: 11597.3662 - val_loss: 18464.7520\n",
      "Epoch 9/150\n",
      "20/20 [==============================] - 0s 3ms/step - loss: 11595.0352 - val_loss: 18463.3965\n",
      "Epoch 10/150\n",
      "20/20 [==============================] - 0s 3ms/step - loss: 11592.4072 - val_loss: 18461.6309\n",
      "Epoch 11/150\n",
      "20/20 [==============================] - 0s 3ms/step - loss: 11589.0820 - val_loss: 18459.3750\n",
      "Epoch 12/150\n",
      "20/20 [==============================] - 0s 3ms/step - loss: 11584.9482 - val_loss: 18456.5020\n",
      "Epoch 13/150\n",
      "20/20 [==============================] - 0s 4ms/step - loss: 11580.6758 - val_loss: 18452.8867\n",
      "Epoch 14/150\n",
      "20/20 [==============================] - 0s 3ms/step - loss: 11575.4561 - val_loss: 18448.4180\n",
      "Epoch 15/150\n",
      "20/20 [==============================] - 0s 3ms/step - loss: 11569.2676 - val_loss: 18443.2129\n",
      "Epoch 16/150\n",
      "20/20 [==============================] - 0s 2ms/step - loss: 11562.5430 - val_loss: 18437.2246\n",
      "Epoch 17/150\n",
      "20/20 [==============================] - 0s 2ms/step - loss: 11554.8145 - val_loss: 18430.4688\n",
      "Epoch 18/150\n",
      "20/20 [==============================] - 0s 3ms/step - loss: 11546.4785 - val_loss: 18422.8633\n",
      "Epoch 19/150\n",
      "20/20 [==============================] - 0s 2ms/step - loss: 11536.3994 - val_loss: 18414.0957\n",
      "Epoch 20/150\n",
      "20/20 [==============================] - 0s 2ms/step - loss: 11525.1582 - val_loss: 18403.9180\n",
      "Epoch 21/150\n",
      "20/20 [==============================] - 0s 2ms/step - loss: 11513.3340 - val_loss: 18393.2266\n",
      "Epoch 22/150\n",
      "20/20 [==============================] - 0s 2ms/step - loss: 11500.1416 - val_loss: 18381.2949\n",
      "Epoch 23/150\n",
      "20/20 [==============================] - 0s 3ms/step - loss: 11485.6045 - val_loss: 18368.0000\n",
      "Epoch 24/150\n",
      "20/20 [==============================] - 0s 2ms/step - loss: 11470.2080 - val_loss: 18353.9863\n",
      "Epoch 25/150\n",
      "20/20 [==============================] - 0s 2ms/step - loss: 11452.7646 - val_loss: 18338.0664\n",
      "Epoch 26/150\n",
      "20/20 [==============================] - 0s 2ms/step - loss: 11434.7666 - val_loss: 18320.8379\n",
      "Epoch 27/150\n",
      "20/20 [==============================] - 0s 2ms/step - loss: 11415.8379 - val_loss: 18303.1543\n",
      "Epoch 28/150\n",
      "20/20 [==============================] - 0s 2ms/step - loss: 11392.7910 - val_loss: 18284.3320\n",
      "Epoch 29/150\n",
      "20/20 [==============================] - 0s 3ms/step - loss: 11369.5889 - val_loss: 18265.4824\n",
      "Epoch 30/150\n",
      "20/20 [==============================] - 0s 3ms/step - loss: 11345.1152 - val_loss: 18246.9668\n",
      "Epoch 31/150\n",
      "20/20 [==============================] - 0s 4ms/step - loss: 11321.7539 - val_loss: 18226.4824\n",
      "Epoch 32/150\n",
      "20/20 [==============================] - 0s 2ms/step - loss: 11291.8594 - val_loss: 18206.5742\n",
      "Epoch 33/150\n",
      "20/20 [==============================] - 0s 3ms/step - loss: 11264.2881 - val_loss: 18184.5586\n",
      "Epoch 34/150\n",
      "20/20 [==============================] - 0s 2ms/step - loss: 11233.1211 - val_loss: 18162.0332\n",
      "Epoch 35/150\n",
      "20/20 [==============================] - 0s 2ms/step - loss: 11199.6299 - val_loss: 18136.6758\n",
      "Epoch 36/150\n",
      "20/20 [==============================] - 0s 3ms/step - loss: 11165.0000 - val_loss: 18110.8359\n",
      "Epoch 37/150\n",
      "20/20 [==============================] - 0s 2ms/step - loss: 11132.9307 - val_loss: 18082.2285\n",
      "Epoch 38/150\n",
      "20/20 [==============================] - 0s 3ms/step - loss: 11095.2783 - val_loss: 18053.2578\n",
      "Epoch 39/150\n",
      "20/20 [==============================] - 0s 2ms/step - loss: 11055.1348 - val_loss: 18024.4492\n",
      "Epoch 40/150\n",
      "20/20 [==============================] - 0s 3ms/step - loss: 11017.3301 - val_loss: 17991.6934\n",
      "Epoch 41/150\n",
      "20/20 [==============================] - 0s 3ms/step - loss: 10968.7305 - val_loss: 17958.1777\n",
      "Epoch 42/150\n",
      "20/20 [==============================] - 0s 3ms/step - loss: 10927.0176 - val_loss: 17928.3711\n",
      "Epoch 43/150\n",
      "20/20 [==============================] - 0s 2ms/step - loss: 10882.5166 - val_loss: 17904.0625\n",
      "Epoch 44/150\n",
      "20/20 [==============================] - 0s 2ms/step - loss: 10829.8916 - val_loss: 17868.9902\n",
      "Epoch 45/150\n",
      "20/20 [==============================] - 0s 2ms/step - loss: 10785.4932 - val_loss: 17830.6582\n",
      "Epoch 46/150\n",
      "20/20 [==============================] - 0s 2ms/step - loss: 10734.5312 - val_loss: 17789.4180\n",
      "Epoch 47/150\n",
      "20/20 [==============================] - 0s 2ms/step - loss: 10674.6699 - val_loss: 17748.4199\n",
      "Epoch 48/150\n",
      "20/20 [==============================] - 0s 2ms/step - loss: 10618.2969 - val_loss: 17705.8047\n",
      "Epoch 49/150\n",
      "20/20 [==============================] - 0s 3ms/step - loss: 10559.9229 - val_loss: 17657.2285\n",
      "Epoch 50/150\n",
      "20/20 [==============================] - 0s 2ms/step - loss: 10501.5000 - val_loss: 17605.5078\n",
      "Epoch 51/150\n",
      "20/20 [==============================] - 0s 3ms/step - loss: 10432.5498 - val_loss: 17555.6250\n",
      "Epoch 52/150\n",
      "20/20 [==============================] - 0s 3ms/step - loss: 10381.5225 - val_loss: 17503.5664\n",
      "Epoch 53/150\n",
      "20/20 [==============================] - 0s 3ms/step - loss: 10313.5166 - val_loss: 17451.0410\n",
      "Epoch 54/150\n",
      "20/20 [==============================] - 0s 2ms/step - loss: 10245.3730 - val_loss: 17391.7852\n",
      "Epoch 55/150\n",
      "20/20 [==============================] - 0s 2ms/step - loss: 10172.2129 - val_loss: 17330.2715\n",
      "Epoch 56/150\n",
      "20/20 [==============================] - 0s 2ms/step - loss: 10097.2939 - val_loss: 17279.9062\n",
      "Epoch 57/150\n",
      "20/20 [==============================] - 0s 3ms/step - loss: 10013.2275 - val_loss: 17225.7441\n",
      "Epoch 58/150\n",
      "20/20 [==============================] - 0s 3ms/step - loss: 9933.7998 - val_loss: 17171.2949\n",
      "Epoch 59/150\n",
      "20/20 [==============================] - 0s 4ms/step - loss: 9862.6631 - val_loss: 17116.7539\n",
      "Epoch 60/150\n",
      "20/20 [==============================] - 0s 3ms/step - loss: 9781.7305 - val_loss: 17061.9180\n",
      "Epoch 61/150\n",
      "20/20 [==============================] - 0s 3ms/step - loss: 9693.7969 - val_loss: 16992.7871\n",
      "Epoch 62/150\n",
      "20/20 [==============================] - 0s 2ms/step - loss: 9579.3311 - val_loss: 16941.5293\n",
      "Epoch 63/150\n",
      "20/20 [==============================] - 0s 2ms/step - loss: 9510.3867 - val_loss: 16872.7070\n",
      "Epoch 64/150\n",
      "20/20 [==============================] - 0s 4ms/step - loss: 9419.7793 - val_loss: 16798.1152\n",
      "Epoch 65/150\n",
      "20/20 [==============================] - 0s 3ms/step - loss: 9323.2490 - val_loss: 16732.6309\n",
      "Epoch 66/150\n",
      "20/20 [==============================] - 0s 3ms/step - loss: 9250.1914 - val_loss: 16679.1016\n",
      "Epoch 67/150\n",
      "20/20 [==============================] - 0s 2ms/step - loss: 9135.8682 - val_loss: 16602.0293\n",
      "Epoch 68/150\n",
      "20/20 [==============================] - 0s 3ms/step - loss: 9009.5518 - val_loss: 16515.3965\n",
      "Epoch 69/150\n",
      "20/20 [==============================] - 0s 3ms/step - loss: 8941.9248 - val_loss: 16423.2520\n",
      "Epoch 70/150\n",
      "20/20 [==============================] - 0s 2ms/step - loss: 8825.5840 - val_loss: 16351.8643\n",
      "Epoch 71/150\n",
      "20/20 [==============================] - 0s 2ms/step - loss: 8725.0928 - val_loss: 16257.8662\n",
      "Epoch 72/150\n",
      "20/20 [==============================] - 0s 3ms/step - loss: 8613.4844 - val_loss: 16183.5254\n",
      "Epoch 73/150\n",
      "20/20 [==============================] - 0s 2ms/step - loss: 8456.9043 - val_loss: 16125.2832\n",
      "Epoch 74/150\n",
      "20/20 [==============================] - 0s 3ms/step - loss: 8396.9443 - val_loss: 16037.7627\n",
      "Epoch 75/150\n",
      "20/20 [==============================] - 0s 3ms/step - loss: 8302.9316 - val_loss: 15953.1660\n",
      "Epoch 76/150\n",
      "20/20 [==============================] - 0s 3ms/step - loss: 8162.9229 - val_loss: 15841.5752\n",
      "Epoch 77/150\n",
      "20/20 [==============================] - 0s 2ms/step - loss: 8039.8521 - val_loss: 15705.9395\n",
      "Epoch 78/150\n",
      "20/20 [==============================] - 0s 2ms/step - loss: 7945.8735 - val_loss: 15610.8857\n",
      "Epoch 79/150\n",
      "20/20 [==============================] - 0s 2ms/step - loss: 7802.7456 - val_loss: 15544.0312\n",
      "Epoch 80/150\n",
      "20/20 [==============================] - 0s 2ms/step - loss: 7721.7192 - val_loss: 15437.5615\n",
      "Epoch 81/150\n",
      "20/20 [==============================] - 0s 2ms/step - loss: 7577.1484 - val_loss: 15353.6006\n",
      "Epoch 82/150\n",
      "20/20 [==============================] - 0s 4ms/step - loss: 7503.6426 - val_loss: 15264.2061\n",
      "Epoch 83/150\n",
      "20/20 [==============================] - 0s 2ms/step - loss: 7381.1255 - val_loss: 15136.2881\n",
      "Epoch 84/150\n",
      "20/20 [==============================] - 0s 2ms/step - loss: 7309.6304 - val_loss: 14980.9688\n",
      "Epoch 85/150\n",
      "20/20 [==============================] - 0s 2ms/step - loss: 7184.8530 - val_loss: 14909.6357\n",
      "Epoch 86/150\n",
      "20/20 [==============================] - 0s 3ms/step - loss: 7066.4448 - val_loss: 14820.1084\n",
      "Epoch 87/150\n",
      "20/20 [==============================] - 0s 3ms/step - loss: 7030.0581 - val_loss: 14696.0898\n",
      "Epoch 88/150\n",
      "20/20 [==============================] - 0s 3ms/step - loss: 6856.8179 - val_loss: 14592.3857\n",
      "Epoch 89/150\n",
      "20/20 [==============================] - 0s 3ms/step - loss: 6720.0024 - val_loss: 14491.6113\n",
      "Epoch 90/150\n",
      "20/20 [==============================] - 0s 3ms/step - loss: 6689.5459 - val_loss: 14378.3350\n",
      "Epoch 91/150\n",
      "20/20 [==============================] - 0s 3ms/step - loss: 6587.4155 - val_loss: 14255.1396\n",
      "Epoch 92/150\n",
      "20/20 [==============================] - 0s 3ms/step - loss: 6437.4575 - val_loss: 14118.7344\n",
      "Epoch 93/150\n",
      "20/20 [==============================] - 0s 3ms/step - loss: 6329.8784 - val_loss: 14020.3770\n",
      "Epoch 94/150\n",
      "20/20 [==============================] - 0s 3ms/step - loss: 6216.3931 - val_loss: 13900.5977\n",
      "Epoch 95/150\n",
      "20/20 [==============================] - 0s 3ms/step - loss: 6108.9121 - val_loss: 13801.9521\n",
      "Epoch 96/150\n",
      "20/20 [==============================] - 0s 2ms/step - loss: 6046.4092 - val_loss: 13684.5879\n",
      "Epoch 97/150\n",
      "20/20 [==============================] - 0s 3ms/step - loss: 5945.5410 - val_loss: 13566.9834\n",
      "Epoch 98/150\n",
      "20/20 [==============================] - 0s 2ms/step - loss: 5987.3350 - val_loss: 13456.0186\n",
      "Epoch 99/150\n",
      "20/20 [==============================] - 0s 3ms/step - loss: 5739.6357 - val_loss: 13297.4482\n",
      "Epoch 100/150\n",
      "20/20 [==============================] - 0s 2ms/step - loss: 5725.4155 - val_loss: 13156.1260\n",
      "Epoch 101/150\n",
      "20/20 [==============================] - 0s 4ms/step - loss: 5370.9116 - val_loss: 13059.1973\n",
      "Epoch 102/150\n",
      "20/20 [==============================] - 0s 4ms/step - loss: 5519.9521 - val_loss: 12919.1465\n",
      "Epoch 103/150\n",
      "20/20 [==============================] - 0s 4ms/step - loss: 5280.3364 - val_loss: 12795.6846\n",
      "Epoch 104/150\n",
      "20/20 [==============================] - 0s 3ms/step - loss: 5240.9634 - val_loss: 12730.5293\n",
      "Epoch 105/150\n",
      "20/20 [==============================] - 0s 4ms/step - loss: 4971.9463 - val_loss: 12637.5244\n",
      "Epoch 106/150\n",
      "20/20 [==============================] - 0s 4ms/step - loss: 5151.5952 - val_loss: 12639.2119\n",
      "Epoch 107/150\n",
      "20/20 [==============================] - 0s 5ms/step - loss: 4864.7114 - val_loss: 12493.4502\n",
      "Epoch 108/150\n",
      "20/20 [==============================] - 0s 4ms/step - loss: 4773.8687 - val_loss: 12429.1240\n",
      "Epoch 109/150\n",
      "20/20 [==============================] - 0s 4ms/step - loss: 4667.9297 - val_loss: 12369.9814\n",
      "Epoch 110/150\n",
      "20/20 [==============================] - 0s 4ms/step - loss: 4573.0996 - val_loss: 12291.8877\n",
      "Epoch 111/150\n",
      "20/20 [==============================] - 0s 4ms/step - loss: 4627.4204 - val_loss: 12244.9414\n",
      "Epoch 112/150\n",
      "20/20 [==============================] - 0s 5ms/step - loss: 4356.2661 - val_loss: 12311.7773\n",
      "Epoch 113/150\n",
      "20/20 [==============================] - 0s 4ms/step - loss: 4494.1616 - val_loss: 12196.4043\n",
      "Epoch 114/150\n",
      "20/20 [==============================] - 0s 4ms/step - loss: 4241.3096 - val_loss: 12037.9844\n",
      "Epoch 115/150\n",
      "20/20 [==============================] - 0s 4ms/step - loss: 4137.6499 - val_loss: 11883.1406\n",
      "Epoch 116/150\n",
      "20/20 [==============================] - 0s 4ms/step - loss: 4122.8618 - val_loss: 11722.8213\n",
      "Epoch 117/150\n",
      "20/20 [==============================] - 0s 4ms/step - loss: 4104.1675 - val_loss: 11571.3213\n",
      "Epoch 118/150\n",
      "20/20 [==============================] - 0s 4ms/step - loss: 3894.6331 - val_loss: 11300.1914\n",
      "Epoch 119/150\n",
      "20/20 [==============================] - 0s 4ms/step - loss: 3859.3821 - val_loss: 10855.2900\n",
      "Epoch 120/150\n",
      "20/20 [==============================] - 0s 4ms/step - loss: 3713.5388 - val_loss: 10717.2168\n",
      "Epoch 121/150\n",
      "20/20 [==============================] - 0s 4ms/step - loss: 3575.3591 - val_loss: 10658.2852\n",
      "Epoch 122/150\n",
      "20/20 [==============================] - 0s 4ms/step - loss: 3572.5471 - val_loss: 10555.1963\n",
      "Epoch 123/150\n",
      "20/20 [==============================] - 0s 4ms/step - loss: 3455.5703 - val_loss: 10520.9307\n",
      "Epoch 124/150\n",
      "20/20 [==============================] - 0s 4ms/step - loss: 3256.7991 - val_loss: 10335.5967\n",
      "Epoch 125/150\n",
      "20/20 [==============================] - 0s 4ms/step - loss: 3425.1526 - val_loss: 10181.3750\n",
      "Epoch 126/150\n",
      "20/20 [==============================] - 0s 4ms/step - loss: 3161.2693 - val_loss: 10069.3955\n",
      "Epoch 127/150\n",
      "20/20 [==============================] - 0s 5ms/step - loss: 3143.3640 - val_loss: 9981.6123\n",
      "Epoch 128/150\n",
      "20/20 [==============================] - 0s 4ms/step - loss: 3263.3528 - val_loss: 10049.0879\n",
      "Epoch 129/150\n",
      "20/20 [==============================] - 0s 3ms/step - loss: 3086.8176 - val_loss: 10028.5996\n",
      "Epoch 130/150\n",
      "20/20 [==============================] - 0s 4ms/step - loss: 2919.4775 - val_loss: 10114.0586\n",
      "Epoch 131/150\n",
      "20/20 [==============================] - 0s 4ms/step - loss: 2941.7852 - val_loss: 10060.7324\n",
      "Epoch 132/150\n",
      "20/20 [==============================] - 0s 4ms/step - loss: 2913.1917 - val_loss: 10027.7500\n",
      "Epoch 133/150\n",
      "20/20 [==============================] - 0s 4ms/step - loss: 2825.2698 - val_loss: 10060.0420\n",
      "Epoch 134/150\n",
      "20/20 [==============================] - 0s 5ms/step - loss: 3032.2466 - val_loss: 9973.7412\n",
      "Epoch 135/150\n",
      "20/20 [==============================] - 0s 3ms/step - loss: 2883.0303 - val_loss: 10035.3008\n",
      "Epoch 136/150\n",
      "20/20 [==============================] - 0s 3ms/step - loss: 2839.4460 - val_loss: 10134.8936\n",
      "Epoch 137/150\n",
      "20/20 [==============================] - 0s 4ms/step - loss: 2866.1436 - val_loss: 10201.6533\n",
      "Epoch 138/150\n",
      "20/20 [==============================] - 0s 3ms/step - loss: 2698.5125 - val_loss: 10136.8623\n",
      "Epoch 139/150\n",
      "20/20 [==============================] - 0s 3ms/step - loss: 2737.0562 - val_loss: 10086.1104\n",
      "Epoch 140/150\n",
      "20/20 [==============================] - 0s 4ms/step - loss: 2836.4180 - val_loss: 10154.9268\n",
      "Epoch 141/150\n",
      "20/20 [==============================] - 0s 4ms/step - loss: 2737.9182 - val_loss: 10120.9316\n",
      "Epoch 142/150\n",
      "20/20 [==============================] - 0s 4ms/step - loss: 2651.0066 - val_loss: 10128.1436\n",
      "Epoch 143/150\n",
      "20/20 [==============================] - 0s 4ms/step - loss: 2828.6267 - val_loss: 10087.6025\n",
      "Epoch 144/150\n",
      "20/20 [==============================] - 0s 4ms/step - loss: 2741.5225 - val_loss: 10030.6650\n",
      "Epoch 145/150\n",
      "20/20 [==============================] - 0s 4ms/step - loss: 2667.0344 - val_loss: 10083.3818\n",
      "Epoch 146/150\n",
      "20/20 [==============================] - 0s 3ms/step - loss: 2620.9883 - val_loss: 10129.3613\n",
      "Epoch 147/150\n",
      "20/20 [==============================] - 0s 3ms/step - loss: 2711.1216 - val_loss: 10145.7217\n",
      "Epoch 148/150\n",
      "20/20 [==============================] - 0s 3ms/step - loss: 2604.7231 - val_loss: 10176.8525\n",
      "Epoch 149/150\n",
      "20/20 [==============================] - 0s 3ms/step - loss: 2648.4290 - val_loss: 10289.3164\n",
      "Epoch 150/150\n",
      "20/20 [==============================] - 0s 3ms/step - loss: 2606.0530 - val_loss: 10388.8105\n"
     ]
    },
    {
     "data": {
      "text/plain": [
       "<keras.callbacks.History at 0x2ba48615d90>"
      ]
     },
     "execution_count": 12,
     "metadata": {},
     "output_type": "execute_result"
    }
   ],
   "source": [
    "mod.fit(X_train_preprocessed, y_train, \n",
    "          epochs=150, batch_size=50,\n",
    "          validation_data=[X_val_preprocessed, y_val]\n",
    "          )"
   ]
  },
  {
   "cell_type": "code",
   "execution_count": 13,
   "metadata": {},
   "outputs": [
    {
     "name": "stdout",
     "output_type": "stream",
     "text": [
      "30/30 [==============================] - 0s 1ms/step\n",
      "4/4 [==============================] - 0s 2ms/step\n"
     ]
    },
    {
     "data": {
      "image/png": "[encoded data removed]",
      "text/plain": [
       "<Figure size 640x480 with 2 Axes>"
      ]
     },
     "metadata": {},
     "output_type": "display_data"
    }
   ],
   "source": [
    "train_pred = mod.predict(X_train_preprocessed)\n",
    "val_pred = mod.predict(X_test_preprocessed)\n",
    "# test_pred = mod.predict(X_test_preprocessed)\n",
    "\n",
    "\n",
    "fig,ax = plt.subplots(2)\n",
    "ax[0].plot(y_train, label='Train')\n",
    "ax[0].plot(y_val, label='Valid')\n",
    "ax[0].plot(y_test, label='Test')\n",
    "\n",
    "ax[1].plot(X_train.index, train_pred, label='Train_pred')\n",
    "ax[1].set_xlim(10500,20000)\n",
    "# ax[1].plot(X_val.index, test_pred, label='Test_pred')\n",
    "\n",
    "plt.legend()\n",
    "plt.show()"
   ]
  },
  {
   "cell_type": "code",
   "execution_count": 14,
   "metadata": {},
   "outputs": [],
   "source": [
    "from sklearn.metrics import root_mean_squared_error as RMSE"
   ]
  },
  {
   "cell_type": "code",
   "execution_count": 15,
   "metadata": {},
   "outputs": [
    {
     "data": {
      "text/plain": [
       "4611.131387576781"
      ]
     },
     "execution_count": 15,
     "metadata": {},
     "output_type": "execute_result"
    }
   ],
   "source": [
    "RMSE(train_pred, y_train)"
   ]
  },
  {
   "cell_type": "code",
   "execution_count": null,
   "metadata": {},
   "outputs": [],
   "source": [
    "from sklearn.model_selection import TimeSeriesSplit\n",
    "\n",
    "tscv = TimeSeriesSplit(n_splits=5)"
   ]
  },
  {
   "cell_type": "code",
   "execution_count": null,
   "metadata": {},
   "outputs": [
    {
     "data": {
      "text/plain": [
       "TimeSeriesSplit(gap=0, max_train_size=None, n_splits=5, test_size=None)"
      ]
     },
     "execution_count": 891,
     "metadata": {},
     "output_type": "execute_result"
    }
   ],
   "source": [
    "tscv"
   ]
  }
 ],
 "metadata": {
  "kernelspec": {
   "display_name": "base",
   "language": "python",
   "name": "python3"
  },
  "language_info": {
   "codemirror_mode": {
    "name": "ipython",
    "version": 3
   },
   "file_extension": ".py",
   "mimetype": "text/x-python",
   "name": "python",
   "nbconvert_exporter": "python",
   "pygments_lexer": "ipython3",
   "version": "3.9.13"
  }
 },
 "nbformat": 4,
 "nbformat_minor": 2
}
