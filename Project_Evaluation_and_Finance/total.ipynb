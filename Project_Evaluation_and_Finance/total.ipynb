{
 "cells": [
  {
   "cell_type": "code",
   "execution_count": 2,
   "metadata": {},
   "outputs": [],
   "source": [
    "import numpy as np \n",
    "import pandas as pd\n",
    "import matplotlib.pyplot as plt\n",
    "\n",
    "import scipy.stats as st\n",
    "from scipy.optimize import root_scalar as RS\n",
    "import statsmodels.api as sm\n",
    "\n",
    "import warnings\n",
    "warnings.filterwarnings('ignore')"
   ]
  },
  {
   "cell_type": "markdown",
   "metadata": {},
   "source": [
    "<h1> Class for Black Scholes pricing formula"
   ]
  },
  {
   "cell_type": "code",
   "execution_count": 3,
   "metadata": {},
   "outputs": [],
   "source": [
    "class BlaSchMet:\n",
    "    def __init__(self, S, K, T, rf, div_y, option_type):\n",
    "        self.spot = S\n",
    "        self.strike = K\n",
    "        self.total_time = T\n",
    "        self.risk_free = rf\n",
    "        self.dividend_yield = div_y\n",
    "        self.option_type = option_type\n",
    "        self.volatility = None\n",
    "        self.find_price = None\n",
    "        self.option_price = None\n",
    "        self.d1 = None\n",
    "        self.d2 = None\n",
    "        self.x =  None\n",
    "\n",
    "    \n",
    "    def set_goal(self, find_price=None, vol=None, find_vol=None, price=None):\n",
    "        \n",
    "        if find_price==True:\n",
    "            self.find_price = True\n",
    "            self.volatility = vol\n",
    "        elif find_vol == True:\n",
    "            self.find_vol = True\n",
    "            self.option_price = price\n",
    "        else: \n",
    "            print('*State desired goal')\n",
    "    \n",
    "\n",
    "    def d1_func(self,post=None):\n",
    "        part1 = np.log(self.spot/self.strike)\n",
    "        part2 = (self.risk_free-self.dividend_yield+(1/2)*self.volatility**2)*self.total_time\n",
    "        part3 = self.volatility*np.sqrt(self.total_time)\n",
    "        d1 =  (part1+part2) / part3\n",
    "        self.d1 = d1\n",
    "        if post == True:\n",
    "            return self.d1\n",
    "\n",
    "\n",
    "    def d2_func(self, d1, post=None):\n",
    "        d2 = d1 - self.volatility*np.sqrt(self.total_time)\n",
    "        self.d2 = d2\n",
    "        if post==True:\n",
    "            return self.d2\n",
    "\n",
    "\n",
    "    def call_black_scholes(self,x=None, *args):\n",
    "        if self.x != None:\n",
    "            self.volatility = x\n",
    "        part1 = self.spot*np.e**(-self.dividend_yield*self.total_time)*st.norm.cdf(self.d1_func(post=True))\n",
    "        part2 = self.strike * np.e**(-self.risk_free*self.total_time)*st.norm.cdf(self.d2_func(self.d1,post=True))\n",
    "        call_price = part1-part2\n",
    "        disc_strike = self.strike*np.e**(-self.risk_free*self.total_time)\n",
    "        disc_spot = self.spot*np.e**(-self.dividend_yield*self.total_time)\n",
    "        if self.option_type=='Call':\n",
    "            price = call_price\n",
    "            if self.find_price==True:\n",
    "                return price\n",
    "            if self.find_vol==True:\n",
    "                return price-self.option_price\n",
    "            \n",
    "        elif self.option_type=='Put':\n",
    "            price = call_price+disc_strike-disc_spot\n",
    "            if self.find_price==True:\n",
    "                return price\n",
    "            if self.find_vol==True:\n",
    "                return price-self.option_price\n",
    "        else:\n",
    "            print('*State option_type')\n",
    "\n",
    "\n",
    "    def find_imp_vol(self, x_guess=None):\n",
    "        self.x = x_guess\n",
    "        self.volatility = self.x\n",
    "        result = RS(self.call_black_scholes, args=(self.option_price,), x0=x_guess, bracket=[0.0001, 2])\n",
    "        \n",
    "        return round(result.root,3)\n",
    "    \n",
    "\n",
    "    def vega_calc(self):\n",
    "        part1 = 1/100 *self.spot\n",
    "        part2 = np.e**(-self.dividend_yield*self.total_time) * np.sqrt(self.total_time)\n",
    "        part3 = np.e**((-self.d1_func(post=True)**2)/2)/(np.sqrt(2*np.pi))\n",
    "        result = part1 * part2 *part3\n",
    "        return result"
   ]
  },
  {
   "cell_type": "markdown",
   "metadata": {},
   "source": [
    "<h1> Class for Least Squares Monte Carlo "
   ]
  },
  {
   "cell_type": "code",
   "execution_count": 4,
   "metadata": {},
   "outputs": [],
   "source": [
    "class LeaSquMonCar():\n",
    "    def __init__(self, S, K, T, vol, rf,  div_y, option_type, paths, time_steps):\n",
    "    # def __init__(self, S, K, T, vol, rf,  div_y, option_type, paths, time_steps, df):\n",
    "        self.spot = S\n",
    "        self.strike = K\n",
    "        self.total_time = T\n",
    "        self.volatility = vol\n",
    "        self.risk_free =  rf\n",
    "        self.dividend_yield = div_y\n",
    "        self.paths = paths\n",
    "        self.time_steps = time_steps\n",
    "        self.h =  self.total_time/self.time_steps\n",
    "        self.option_type = option_type\n",
    "        # self.pathdf =  df\n",
    "        self.pathdf = None\n",
    "        self.payoffdf = None\n",
    "        self.xes = None\n",
    "        self.yes = None\n",
    "\n",
    "\n",
    "    def CreatePaths(self,post=None):\n",
    "        path_list = []\n",
    "        for path in range(self.paths):\n",
    "            path_i = [self.spot]\n",
    "            for steps in range(self.time_steps):\n",
    "                part1 = (self.risk_free-self.dividend_yield*(1/2)*self.volatility**2)*self.h\n",
    "                # np.random.seed(path)\n",
    "                part2 = np.random.normal(0,1)\n",
    "                part3 = self.volatility * np.sqrt(self.h)*part2\n",
    "                S_t = path_i[-1]*np.e**(part1+part3)\n",
    "                path_i.append(S_t)\n",
    "            path_list.append(path_i)\n",
    "        pathsdf = pd.DataFrame(path_list).T\n",
    "        self.pathdf = pathsdf\n",
    "        if post == True:\n",
    "            return  pathsdf\n",
    "        \n",
    "    def regress(self, X, Y):\n",
    "        Xsq = X**2\n",
    "        df = pd.DataFrame({'id':np.arange(self.paths),\n",
    "                        'Y':Y,\n",
    "                        'X':X,\n",
    "                        'Xsq':Xsq})\n",
    "        if self.option_type =='Call':\n",
    "            df=df[df['X']>self.strike]\n",
    "        elif self.option_type == 'Put':\n",
    "            df=df[df['X']<self.strike]\n",
    "        else:  \n",
    "            None\n",
    "            \n",
    "        train = sm.add_constant(df[['X','Xsq']])\n",
    "        model = sm.OLS(df['Y'],train).fit()\n",
    "        cond_exp = list(model.params[0]+model.params[1]*train['X']+model.params[2]*train['Xsq'])\n",
    "        if self.option_type == 'Call':\n",
    "            boolean = pd.Series([(cond_exp[i]>(X[i]-self.strike)) for i in range(len(train))])\n",
    "            b = pd.Series(np.where(boolean==True, df['Y'],0), index=df.index)\n",
    "            b1 = pd.Series(np.where(boolean==False,1,0), index=df.index)\n",
    "        if self.option_type == 'Put':\n",
    "            boolean = pd.Series([cond_exp[i]>(self.strike-X[i]) for i in range(len(train))])\n",
    "            b = pd.Series(np.where(boolean==True, Y,0), index=df.index)        \n",
    "            b1 = pd.Series(np.where(boolean==False,1,0), index=df.index)\n",
    "        return [b,b1]\n",
    "        \n",
    "    def LeastSquares(self,post=None):\n",
    "        iddf = self.pathdf.T\n",
    "        iddf['id'] = np.arange(self.paths)\n",
    "        Payoff_df = iddf\n",
    "        disc_r = np.e**((-self.risk_free+self.dividend_yield)*self.h)\n",
    "\n",
    "\n",
    "        for i in range(0,self.time_steps-1,1):\n",
    "            data_retY = iddf[self.time_steps-i]\n",
    "            data_retX = iddf[self.time_steps-(i+1)]\n",
    "            \n",
    "            if self.option_type == 'Call':\n",
    "                if i==0:\n",
    "                    Y =np.where(data_retY-self.strike>0,data_retY-self.strike,0)*disc_r\n",
    "                else:\n",
    "                    Y = Payoff_df[self.time_steps-i]*disc_r\n",
    "                X = np.where(data_retX-self.strike>0,data_retX,0)\n",
    "            ################\n",
    "            if self.option_type == 'Put':\n",
    "                if i == 0:\n",
    "                    Y =np.where(self.strike-data_retY>0,self.strike-data_retY,0)*disc_r\n",
    "                else:\n",
    "                    Y = Payoff_df[self.time_steps-i]*disc_r\n",
    "                X = np.where(self.strike-data_retX>0,data_retX,0)\n",
    "            ################\n",
    "            cond_exp  = self.regress(X,Y)\n",
    "            zeros = pd.Series(np.zeros(self.paths))\n",
    "            zeros.loc[cond_exp[0].index] =  cond_exp[0]/disc_r\n",
    "            Payoff_df[self.time_steps-i] = np.where(zeros>Y,zeros,0)\n",
    "            ###################\n",
    "            zeros = pd.Series(np.zeros(self.paths))\n",
    "            zeros.loc[cond_exp[1].index] =  cond_exp[1]\n",
    "            if self.option_type == 'Call':\n",
    "                rest = np.where(X-self.strike != self.strike, X-self.strike,0)\n",
    "            else:\n",
    "                rest = np.where(self.strike-X != self.strike, self.strike-X,0)\n",
    "            Payoff_df[self.time_steps-(i+1)] = np.where(zeros==1,rest,0)\n",
    "        ###############################\n",
    "        for idx in range(Payoff_df.shape[0]):\n",
    "            row = Payoff_df.iloc[idx,1:]\n",
    "            reset = 0\n",
    "            for val in range(1,Payoff_df.shape[1]-1):\n",
    "                if reset == 0:\n",
    "                    \n",
    "                    if row[val] > 0:\n",
    "                        reset += 1\n",
    "                else:\n",
    "                    row[val] = 0\n",
    "            Payoff_df.iloc[idx,1:] = row\n",
    "        self.payoffdf = Payoff_df\n",
    "        if post==True:\n",
    "            return Payoff_df\n",
    "    \n",
    "    def EarlyExerciseCoordinates(self):\n",
    "        # fig, ax = plt.subplots()\n",
    "        xes = []\n",
    "        yes = []\n",
    "        for i in range(0,len(self.payoffdf),1):\n",
    "            x = np.where(self.payoffdf.iloc[i,1:-1]>0)\n",
    "            y = sum(self.payoffdf.iloc[i,1:-1])\n",
    "            if len(x[0]) != 0:\n",
    "                # if self.option_type == 'Call':\n",
    "                    # ax.scatter(x[0][0]+1, self.strike+y, color='red', alpha=.3)\n",
    "                # else:\n",
    "                    # ax.scatter(x[0][0]+1, self.strike-y, color='red', alpha=.3)\n",
    "                # ax.plot(self.pathdf[i],color='grey',alpha=0.3)\n",
    "                xes.append(x[0][0])\n",
    "                yes.append(y)\n",
    "        self.xes = xes\n",
    "        self.yes = yes\n",
    "        return [xes,yes]\n",
    "    \n",
    "    def OptionPrice(self):\n",
    "        # n_exercises = len(self.paths)\n",
    "        total_npv = []\n",
    "        for i in range(1,len(self.xes),1):\n",
    "            pv_sel = self.yes[i]*(np.e**(-(self.risk_free-self.dividend_yield)))**(self.xes[i]+1)\n",
    "            total_npv.append(pv_sel)\n",
    "        value = sum(total_npv)/self.paths\n",
    "        return value\n",
    "        # print('Call value using LSMC:', round(value,4))\n",
    "        "
   ]
  },
  {
   "cell_type": "markdown",
   "metadata": {},
   "source": [
    "<h1> Class for Binomial Option Pricing Model"
   ]
  },
  {
   "cell_type": "code",
   "execution_count": 5,
   "metadata": {},
   "outputs": [],
   "source": [
    "class BinPriMod:\n",
    "    def __init__(self, S:float, K:float, sigma:float, total_time:float, period_timespan:float, rate_i:float,\n",
    "                 option_type:str, exercise_style:str):\n",
    "        self.spot = S\n",
    "        self.strike = K\n",
    "        self.risk = sigma\n",
    "        self.total_time = total_time\n",
    "        self.period_time_span = period_timespan\n",
    "        self.risk_free = rate_i\n",
    "        self.option_type = option_type\n",
    "        self.exercise_style = exercise_style\n",
    "        self.n_periods = int(self.total_time / self.period_time_span)\n",
    "        self.dividend_yield = None\n",
    "        self.time_single_div = None\n",
    "        self.amount_single_div = None\n",
    "        self.values = None\n",
    "        self.prices = None\n",
    "        self.forwards = None\n",
    "\n",
    "\n",
    "    def help():\n",
    "        print('def __init__(self, S, K, sigma, T, h, rate_i, option_type, exercise_style):')\n",
    "        print('\\n')\n",
    "        print('Attributes:\\n    up_and_down,\\n  storage_values,\\n   option_price')\n",
    "\n",
    "    \n",
    "    def set_dividends(self, cont=None, cont_rate=None, TD=None, amount=None):\n",
    "        if cont == True:\n",
    "            self.dividend_yield = cont_rate\n",
    "        else:\n",
    "            self.dividend_yield = cont_rate\n",
    "            self.time_single_div = TD\n",
    "            self.amount_single_div = amount\n",
    "\n",
    "    def up_and_down(self, spot, t):   \n",
    "        u = np.e**((self.risk_free - self.dividend_yield) * \n",
    "                                self.period_time_span) * np.e**(self.risk*np.sqrt(self.period_time_span))\n",
    "        d = np.e**((self.risk_free -self.dividend_yield) * \n",
    "                                self.period_time_span) *np.e**(-self.risk*np.sqrt(self.period_time_span))\n",
    "        if self.amount_single_div == None:\n",
    "            uS = spot*u\n",
    "            dS = spot*d\n",
    "            return [uS,dS]\n",
    "        else: \n",
    "            pFp = spot - self.amount_single_div*np.e**(-self.risk_free*(self.time_single_div-t))\n",
    "            div_multiplier = np.e**(-self.risk_free*(self.time_single_div-(t+self.period_time_span)))\n",
    "            uS = pFp*u + self.amount_single_div*div_multiplier\n",
    "            dS = pFp*d + self.amount_single_div*div_multiplier\n",
    "            if self.time_single_div >= t and self.time_single_div <t+self.period_time_span:\n",
    "                uS = (spot-self.amount_single_div)*u\n",
    "                dS = (spot-self.amount_single_div)*d\n",
    "            return [uS, dS]\n",
    "\n",
    "\n",
    "    def storage_values(self, post=None):\n",
    "        storage = [[self.spot]]\n",
    "        for i in range(0, self.n_periods,1):\n",
    "            sub_storage = []\n",
    "            for j in range(0, len(storage[i]),2):   \n",
    "                sub_storage.append(np.array(self.up_and_down(storage[i][j],(i)*self.period_time_span)))\n",
    "            if (i+1)>=2:\n",
    "                if (i+1)%2== 0:\n",
    "                    sub_storage.append(np.reshape(self.up_and_down(storage[i][j+1], (i)*self.period_time_span)[1],(1,)))                                            \n",
    "            fixed = np.concatenate(sub_storage)\n",
    "            storage.append(np.round(fixed,3))\n",
    "        self.values = storage\n",
    "        if post == True:\n",
    "            return self.values \n",
    "\n",
    "    \n",
    "    def PrepaidForwad(self, post=None):\n",
    "        prepfor = []\n",
    "        for i in range(len(self.values)-1):\n",
    "            sel_prepfor = []\n",
    "            for j in range(len(self.values[i])):\n",
    "                part0 = -self.risk_free*(self.time_single_div-self.period_time_span*i)\n",
    "\n",
    "                part1 = self.values[i][j] - self.amount_single_div*np.e**(part0)\n",
    "                # part0 = -self.risk_free*(self.time_single_div-self.period_time_span*i)\n",
    "                sel_prepfor.append(round(part1,3))\n",
    "            prepfor.append(sel_prepfor)\n",
    "        prepfor.append(self.values[-1])\n",
    "        self.forwards = prepfor\n",
    "        if post==True:\n",
    "            return prepfor\n",
    "\n",
    "\n",
    "    def option_price(self, \n",
    "                     up, down, alt_spot, org_spot,\n",
    "                     high_optpri, low_optpri):\n",
    "        u = up/alt_spot\n",
    "        d = down/alt_spot\n",
    "        p_part1 = (self.risk_free-self.dividend_yield)*self.period_time_span\n",
    "        p = (np.e**(p_part1)-d) / (u-d)\n",
    "        disc = np.e**(-self.risk_free*self.period_time_span)\n",
    "        def price(p,ou,od,disc):\n",
    "            return (p*ou + (1-p)*od) * disc\n",
    "\n",
    "        opt_price = price(p,high_optpri,low_optpri,disc)\n",
    "\n",
    "        if self.exercise_style == 'European':\n",
    "            opt_price = opt_price\n",
    "        elif self.exercise_style == 'American':\n",
    "            if self.option_type =='Put':\n",
    "                opt_price = max(opt_price, self.strike - org_spot)\n",
    "            else:\n",
    "                opt_price = max(opt_price, org_spot - self.strike)            \n",
    "        else:\n",
    "            print('State exercise style!!!')\n",
    "        return round(opt_price,3)\n",
    "    \n",
    "\n",
    "    def storage_prices(self, post=None):\n",
    "        latest_opt_pri = []\n",
    "        if self.option_type=='Call':\n",
    "            array = np.where(self.values[self.n_periods]-self.strike>0,self.values[self.n_periods]-self.strike,0)\n",
    "        elif self.option_type=='Put':\n",
    "            array = np.where(self.values[self.n_periods]-self.strike<0,self.values[self.n_periods]-self.strike,0)\n",
    "        else:\n",
    "            print('State option type!!!')\n",
    "        latest_opt_pri.append(abs(array))\n",
    "\n",
    "        for i in range(0, self.n_periods, 1): \n",
    "            sub_optpri_storage = []\n",
    "            for j in range(0,self.n_periods-i,1):   #periods- 1\n",
    "                if self.forwards != None:\n",
    "                    relevant = self.forwards\n",
    "                else: \n",
    "                    relevant = self.values\n",
    "                \n",
    "                u = relevant[self.n_periods-i][j]\n",
    "                d = relevant[self.n_periods-i][j+1]\n",
    "                alt_spot =  relevant[self.n_periods-(i+1)][j]\n",
    "\n",
    "                org_spot = self.values[self.n_periods-(i+1)][j]\n",
    "                sub_optpri_storage.append(self.option_price(u, d, alt_spot, org_spot,\n",
    "                                                            latest_opt_pri[i][j], \n",
    "                                                            latest_opt_pri[i][j+1]))\n",
    "            latest_opt_pri.append(np.round(sub_optpri_storage,2))\n",
    "        self.prices = latest_opt_pri\n",
    "        if post == True:\n",
    "            return self.prices\n",
    "        return self.prices\n",
    "         \n",
    "\n",
    "    def plot_tree(self,txt_shift):\n",
    "        fig, ax = plt.subplots(figsize=(6,6))\n",
    "        for i in range(0,int(self.n_periods)+1,1):\n",
    "            ax.scatter(x=np.repeat((i)*1,i+1), y= self.values[i])\n",
    "            for j in range(0,i+1,1):\n",
    "                text_value = 'Value '+ str(self.values[i][j])\n",
    "                text_price = 'Price '+ str(self.prices[self.n_periods-i][j])\n",
    "                ax.annotate(text_value, xy=(i*1, self.values[i][j]+txt_shift))\n",
    "                ax.annotate(text_price, xy=(i*1, self.values[i][j]-txt_shift))\n",
    "                if self.forwards != None:\n",
    "                    text_forward = 'PreF. '+ str(self.forwards[i][j])\n",
    "                    ax.annotate(text_forward, xy=(i*1, self.values[i][j]))\n",
    "\n",
    "            ax.set_xlabel('Periods')\n",
    "        ax.set_ylabel('Price')\n",
    "        plt.xlim(-1,self.n_periods+2*self.period_time_span)\n",
    "        plt.title('Binomial tree for '+self.exercise_style+' '+self.option_type+' option')\n",
    "        plt.show()"
   ]
  },
  {
   "cell_type": "markdown",
   "metadata": {},
   "source": [
    "<h1> Task  1 </h1>\n",
    "<h2> 1.1 Find implied volatility"
   ]
  },
  {
   "cell_type": "code",
   "execution_count": 6,
   "metadata": {},
   "outputs": [
    {
     "name": "stdout",
     "output_type": "stream",
     "text": [
      "Implied volatility: 0.12\n"
     ]
    }
   ],
   "source": [
    "ex1a = BlaSchMet(200,210, 3, 0.05,0.01,'Put')\n",
    "ex1a.set_goal(find_price=False,vol=0,find_vol=True,price=9.74)\n",
    "impvol = ex1a.find_imp_vol(x_guess=0.0001)\n",
    "print('Implied volatility:', round(impvol,20))"
   ]
  },
  {
   "cell_type": "markdown",
   "metadata": {},
   "source": [
    "<h2> 1.2 Find vega</h2> "
   ]
  },
  {
   "cell_type": "code",
   "execution_count": 7,
   "metadata": {},
   "outputs": [
    {
     "name": "stdout",
     "output_type": "stream",
     "text": [
      "Vega: 1.21\n"
     ]
    }
   ],
   "source": [
    "ex1b = BlaSchMet(200,210,3,0.05,0.01, 'Put')\n",
    "ex1b.set_goal(find_price=True, vol=0.12, find_vol=False, price=None)\n",
    "# ex1b.call_black_scholes()\n",
    "vega = ex1b.vega_calc()\n",
    "print('Vega:', round(vega,2))"
   ]
  },
  {
   "cell_type": "markdown",
   "metadata": {},
   "source": [
    "<h2> 1.3 Iterate thorugh implied volatilities</h2>"
   ]
  },
  {
   "cell_type": "code",
   "execution_count": 8,
   "metadata": {},
   "outputs": [
    {
     "data": {
      "text/html": [
       "<div>\n",
       "<style scoped>\n",
       "    .dataframe tbody tr th:only-of-type {\n",
       "        vertical-align: middle;\n",
       "    }\n",
       "\n",
       "    .dataframe tbody tr th {\n",
       "        vertical-align: top;\n",
       "    }\n",
       "\n",
       "    .dataframe thead th {\n",
       "        text-align: right;\n",
       "    }\n",
       "</style>\n",
       "<table border=\"1\" class=\"dataframe\">\n",
       "  <thead>\n",
       "    <tr style=\"text-align: right;\">\n",
       "      <th></th>\n",
       "      <th>Strike</th>\n",
       "      <th>Last Price</th>\n",
       "    </tr>\n",
       "  </thead>\n",
       "  <tbody>\n",
       "    <tr>\n",
       "      <th>0</th>\n",
       "      <td>100.0</td>\n",
       "      <td>0.01</td>\n",
       "    </tr>\n",
       "    <tr>\n",
       "      <th>1</th>\n",
       "      <td>105.0</td>\n",
       "      <td>0.01</td>\n",
       "    </tr>\n",
       "  </tbody>\n",
       "</table>\n",
       "</div>"
      ],
      "text/plain": [
       "   Strike  Last Price\n",
       "0   100.0        0.01\n",
       "1   105.0        0.01"
      ]
     },
     "execution_count": 8,
     "metadata": {},
     "output_type": "execute_result"
    }
   ],
   "source": [
    "df = pd.read_csv('data_ex1.csv')\n",
    "del df['Unnamed: 2']\n",
    "df.head(2)"
   ]
  },
  {
   "cell_type": "code",
   "execution_count": 9,
   "metadata": {},
   "outputs": [
    {
     "data": {
      "image/png": "[encoded data removed]",
      "text/plain": [
       "<Figure size 640x480 with 1 Axes>"
      ]
     },
     "metadata": {},
     "output_type": "display_data"
    }
   ],
   "source": [
    "vol_list = []\n",
    "for i in range(len(df)):\n",
    "    ex1c = BlaSchMet(200,df['Strike'][i],3,0.05,0.01, 'Put')\n",
    "    ex1c.set_goal(find_price=False, vol=None, find_vol=True, price=df['Last Price'][i])\n",
    "    # ex1c.set_goal(find_price=False, vol=None, find_vol=True, price=9)\n",
    "    vol = ex1c.find_imp_vol(x_guess=0.0001)\n",
    "    vol_list.append(vol)\n",
    "\n",
    "\n",
    "fig, ax = plt.subplots()\n",
    "ax.plot(df['Strike'],vol_list, \n",
    "        label='Implied volatility',\n",
    "        color='indianred')\n",
    "ax.set_xlabel('Strike Price')\n",
    "ax.set_ylabel('Implied volatility')\n",
    "plt.grid()\n",
    "plt.legend()\n",
    "plt.show()"
   ]
  },
  {
   "cell_type": "markdown",
   "metadata": {},
   "source": [
    "<h2> 1.4 Iterate thorugh vegas</h2>"
   ]
  },
  {
   "cell_type": "code",
   "execution_count": 10,
   "metadata": {},
   "outputs": [
    {
     "data": {
      "image/png": "[encoded data removed]",
      "text/plain": [
       "<Figure size 640x480 with 1 Axes>"
      ]
     },
     "metadata": {},
     "output_type": "display_data"
    }
   ],
   "source": [
    "vega_list = []\n",
    "for i in range(len(df)):\n",
    "    ex1d = BlaSchMet(200,df['Strike'][i],3,0.05,0.01, 'Put')\n",
    "    ex1d.set_goal(find_price=True, vol=0.12, find_vol=False, price=0)\n",
    "    vega = ex1d.vega_calc()\n",
    "    vega_list.append(vega)\n",
    "\n",
    "fig, ax = plt.subplots()\n",
    "ax.plot(df['Strike'],np.array(vega_list)*4, \n",
    "        label='Vega', color='indianred')\n",
    "ax.set_xlabel('Strike Price')\n",
    "ax.set_ylabel('Vega value')\n",
    "plt.hist(df['Strike'],bins=27)\n",
    "plt.grid()\n",
    "plt.legend()\n",
    "plt.show()\n",
    "# plt.savefig('1d.PNG')"
   ]
  },
  {
   "cell_type": "markdown",
   "metadata": {},
   "source": [
    "<h2> Additional code for task 1"
   ]
  },
  {
   "cell_type": "code",
   "execution_count": 11,
   "metadata": {},
   "outputs": [
    {
     "data": {
      "image/png": "[encoded data removed]",
      "text/plain": [
       "<Figure size 640x480 with 1 Axes>"
      ]
     },
     "metadata": {},
     "output_type": "display_data"
    }
   ],
   "source": [
    "def scale(X):\n",
    "    X = np.array(X)\n",
    "    scaled = (X-X.mean())/X.std()\n",
    "    return scaled\n",
    "\n",
    "fig, ax = plt.subplots()\n",
    "ax.plot(df['Strike'], scale(df['Strike']), label='Strike prices',color='r')\n",
    "ax.plot(df['Strike'], vol_list, label='Implied volatility', color='purple')\n",
    "ax.plot(df['Strike'], scale(vega_list), label='Vega', color='orange')\n",
    "ax.axvline(234,color='black', linestyle='dashed', label='234')\n",
    "ax.axvline(df['Strike'][42], color='black', linestyle='dotted',label=str(230))\n",
    "ax.set_xlabel('Strike prices')\n",
    "ax.set_ylabel('Standardised values')\n",
    "fig.suptitle('Plot over (scaled): Implied volatility, strike-, and option prices')\n",
    "plt.legend()\n",
    "plt.show()"
   ]
  },
  {
   "cell_type": "markdown",
   "metadata": {},
   "source": [
    "<h1> Task 2 </h1>\n",
    "<h2> Task 2a </h2>"
   ]
  },
  {
   "cell_type": "code",
   "execution_count": 12,
   "metadata": {},
   "outputs": [
    {
     "data": {
      "text/html": [
       "<div>\n",
       "<style scoped>\n",
       "    .dataframe tbody tr th:only-of-type {\n",
       "        vertical-align: middle;\n",
       "    }\n",
       "\n",
       "    .dataframe tbody tr th {\n",
       "        vertical-align: top;\n",
       "    }\n",
       "\n",
       "    .dataframe thead th {\n",
       "        text-align: right;\n",
       "    }\n",
       "</style>\n",
       "<table border=\"1\" class=\"dataframe\">\n",
       "  <thead>\n",
       "    <tr style=\"text-align: right;\">\n",
       "      <th></th>\n",
       "      <th>BSM</th>\n",
       "      <th>BOPM</th>\n",
       "    </tr>\n",
       "  </thead>\n",
       "  <tbody>\n",
       "    <tr>\n",
       "      <th>Call</th>\n",
       "      <td>32.979069</td>\n",
       "      <td>33.43</td>\n",
       "    </tr>\n",
       "    <tr>\n",
       "      <th>Put</th>\n",
       "      <td>19.638638</td>\n",
       "      <td>23.53</td>\n",
       "    </tr>\n",
       "  </tbody>\n",
       "</table>\n",
       "</div>"
      ],
      "text/plain": [
       "            BSM   BOPM\n",
       "Call  32.979069  33.43\n",
       "Put   19.638638  23.53"
      ]
     },
     "execution_count": 12,
     "metadata": {},
     "output_type": "execute_result"
    }
   ],
   "source": [
    "#BOPM call\n",
    "ex2ai1 = BinPriMod(200,210,0.2,3,0.3,0.05,'Call','American',)\n",
    "ex2ai1.set_dividends(cont=True, cont_rate=0.01, TD=None, amount=None)\n",
    "ex2ai1.storage_values(False)\n",
    "# ex2ai1.storage_prices()[-1][0]\n",
    "A_ex2ai1 = ex2ai1.storage_prices(True)[-1][0]\n",
    "#BOPM put\n",
    "ex2ai2 = BinPriMod(200, 210, 0.2,3,0.3,0.05,'Put','American',)\n",
    "ex2ai2.set_dividends(cont=True, cont_rate=0.01, TD=None, amount=None)\n",
    "ex2ai2.storage_values(False)\n",
    "A_ex2ai2 = ex2ai2.storage_prices(True)[-1][0]\n",
    "#BSM call\n",
    "ex2aii1 = BlaSchMet(200,210,3,0.05,0.01,'Call')\n",
    "ex2aii1.set_goal(find_price=True,vol=0.2,find_vol=False,price=None)\n",
    "A_ex2aii1 = ex2aii1 .call_black_scholes()\n",
    "#BSM put\n",
    "ex2aii1 = BlaSchMet(200,210,3,0.05,0.01,'Put')\n",
    "ex2aii1.set_goal(find_price=True,vol=0.2,find_vol=False,price=None)\n",
    "A_ex2aii2 = ex2aii1.call_black_scholes()\n",
    "pd.DataFrame({'BSM':[A_ex2aii1,A_ex2aii2],\n",
    "              'BOPM':[A_ex2ai1, A_ex2ai2]}, index=['Call','Put'])"
   ]
  },
  {
   "cell_type": "markdown",
   "metadata": {},
   "source": [
    "<h2> Task 2b </h2>"
   ]
  },
  {
   "cell_type": "code",
   "execution_count": 13,
   "metadata": {},
   "outputs": [
    {
     "name": "stdout",
     "output_type": "stream",
     "text": [
      "Call value using LSMC: 22.7385\n"
     ]
    }
   ],
   "source": [
    "val_list = []\n",
    "for i in range(0,100,1):\n",
    "    ex2bCall  = LeaSquMonCar(200,210,3,0.2,0.05,0.01,'Call',100,10)\n",
    "    ex2bCall.CreatePaths(post=False)\n",
    "    ex2bCall.LeastSquares()\n",
    "    ex2bCall.EarlyExerciseCoordinates()\n",
    "    val = ex2bCall.OptionPrice()\n",
    "    val_list.append(val)\n",
    "print('Call value using LSMC:', round(np.mean(val),4))"
   ]
  },
  {
   "cell_type": "code",
   "execution_count": 14,
   "metadata": {},
   "outputs": [
    {
     "name": "stdout",
     "output_type": "stream",
     "text": [
      "Put value using LSMC: 14.6382\n"
     ]
    }
   ],
   "source": [
    "val_list = []\n",
    "for i in range(0,100,1):\n",
    "    ex2bPut  = LeaSquMonCar(200,210,3,0.2,0.05,0.01,'Put',100,10)\n",
    "    ex2bPut.CreatePaths(post=False)\n",
    "    ex2bPut.LeastSquares()\n",
    "    ex2bPut.EarlyExerciseCoordinates()\n",
    "    val = ex2bPut.OptionPrice()\n",
    "    val_list.append(val)\n",
    "print('Put value using LSMC:', round(val,4))"
   ]
  },
  {
   "cell_type": "markdown",
   "metadata": {},
   "source": [
    "<h2> Task 2c"
   ]
  },
  {
   "cell_type": "code",
   "execution_count": 15,
   "metadata": {},
   "outputs": [],
   "source": [
    "ex2c = LeaSquMonCar(200, 210, 3, 0.2, 0.05, 0.01, 'Call', 10000,100)\n",
    "ex2c.CreatePaths(post=False) \n",
    "ex2c.LeastSquares(post=False)\n",
    "coords = ex2c.EarlyExerciseCoordinates()\n",
    "val = ex2c.OptionPrice()"
   ]
  },
  {
   "cell_type": "code",
   "execution_count": 16,
   "metadata": {},
   "outputs": [
    {
     "name": "stdout",
     "output_type": "stream",
     "text": [
      "Call value using LSMC: 5.757\n",
      "N_early_exercise / n_paths: 0.84\n"
     ]
    }
   ],
   "source": [
    "print('Call value using LSMC:', round(val,4))\n",
    "ratio =len(np.where(np.array(coords[0])<660)[0])/10000\n",
    "print('N_early_exercise / n_paths:', round(ratio,3))"
   ]
  },
  {
   "cell_type": "code",
   "execution_count": 17,
   "metadata": {},
   "outputs": [
    {
     "data": {
      "image/png": "[encoded data removed]",
      "text/plain": [
       "<Figure size 640x480 with 1 Axes>"
      ]
     },
     "metadata": {},
     "output_type": "display_data"
    }
   ],
   "source": [
    "plt.figure()\n",
    "plt.hist(coords[0], color='indianred',label='Early exercise' )\n",
    "plt.xlabel('Exercises')\n",
    "plt.ylabel('Frequency')\n",
    "plt.grid()\n",
    "plt.legend()\n",
    "plt.show()"
   ]
  },
  {
   "cell_type": "markdown",
   "metadata": {},
   "source": [
    "<h2> Task 2d"
   ]
  },
  {
   "cell_type": "code",
   "execution_count": 18,
   "metadata": {},
   "outputs": [
    {
     "data": {
      "image/png": "[encoded data removed]",
      "text/plain": [
       "<Figure size 500x500 with 4 Axes>"
      ]
     },
     "metadata": {},
     "output_type": "display_data"
    }
   ],
   "source": [
    "ex2di = LeaSquMonCar(200, 210, 3, 0.1, 0.05, 0.01, 'Call', 10000, 100)\n",
    "ex2di.CreatePaths(post=False) \n",
    "ex2di.LeastSquares(post=False)\n",
    "coordsA = ex2di.EarlyExerciseCoordinates()\n",
    "\n",
    "ex2dii = LeaSquMonCar(200, 210, 3, 0.3, 0.05, 0.01, 'Call', 10000, 100)\n",
    "ex2dii.CreatePaths(post=False) \n",
    "ex2dii.LeastSquares(post=False)\n",
    "coordsB = ex2dii.EarlyExerciseCoordinates()\n",
    "\n",
    "ex2diii = LeaSquMonCar(200, 210, 3, 0.6, 0.05, 0.01, 'Call', 10000, 100)\n",
    "ex2diii.CreatePaths(post=False) \n",
    "ex2diii.LeastSquares(post=False)\n",
    "coordsC = ex2diii.EarlyExerciseCoordinates()\n",
    "\n",
    "\n",
    "axes = [(0,0),(0,1),(1,0),(1,1)]\n",
    "heights = [coords,coordsA,coordsB,coordsC]\n",
    "sigs = [0.2,0.1,0.3,0.6]\n",
    "fig, ax = plt.subplots(2,2, figsize=(5,5))\n",
    "for i in range(0,4,1):\n",
    "    ax[axes[i]].hist(heights[i][0], color='indianred', label='Sig='+str(sigs[i]))\n",
    "    ax[axes[i]].set_ylim(0,5000)\n",
    "    ax[axes[i]].legend()\n",
    "fig.text(0.01, 0.5, 'Frequency', ha='center', rotation='vertical')\n",
    "fig.text(0.4, 0.01, 'Time of exercise', va='bottom')\n",
    "fig.tight_layout()\n",
    "plt.show()"
   ]
  },
  {
   "cell_type": "markdown",
   "metadata": {},
   "source": [
    "<h2> Additional code for task 2"
   ]
  },
  {
   "cell_type": "code",
   "execution_count": 19,
   "metadata": {},
   "outputs": [],
   "source": [
    "kurt_list = []\n",
    "skew_list = []\n",
    "for i in range(10,60,1):\n",
    "    ex2d = LeaSquMonCar(200, 210, 3, i/100, 0.05, 0.01, 'Call', 1000, 100)\n",
    "    ex2d.CreatePaths(post=True) \n",
    "    ex2d.LeastSquares()\n",
    "    coords = ex2d.EarlyExerciseCoordinates()[0]\n",
    "    kurt_list.append(st.kurtosis(coords))\n",
    "    skew_list.append(st.skew(coords))\n",
    "\n",
    "plt.figure()\n",
    "plt.plot(np.linspace(10,60),skew_list,color='indianred', label='Skewness')\n",
    "plt.plot(np.linspace(10,60), kurt_list, color='green', label='Kurtosis')\n",
    "plt.xlabel('Volatility /100')\n",
    "plt.ylabel('Values for kurtosis and skewness')\n",
    "plt.legend()\n",
    "plt.show()"
   ]
  },
  {
   "cell_type": "markdown",
   "metadata": {},
   "source": [
    "<h1> Task 3b"
   ]
  },
  {
   "cell_type": "code",
   "execution_count": null,
   "metadata": {},
   "outputs": [],
   "source": [
    "# S, K, vol, T, h, rf, option type, exercise style\n",
    "myTree = BinPriMod(100, 95, 0.25, 1, 1/11, 0.05, 'Call', 'American')\n",
    "# boolean, cont_div_y, time single div, amount single div\n",
    "myTree.set_dividends(cont=False, cont_rate=0, TD=2/12, amount=10)\n",
    "myTree.storage_values(False)\n",
    "myTree.PrepaidForwad(False)\n",
    "myTree.storage_prices(False)\n",
    "myTree.plot_tree(2)"
   ]
  },
  {
   "cell_type": "code",
   "execution_count": null,
   "metadata": {},
   "outputs": [],
   "source": [
    "print('Option value:', myTree.storage_prices()[-1][0])"
   ]
  },
  {
   "cell_type": "code",
   "execution_count": null,
   "metadata": {},
   "outputs": [],
   "source": [
    "# S, K, vol, T, h, rf, option type, exercise style\n",
    "myTree = BinPriMod(100, 95, 0.25, 1, 1/11, 0.05, 'Call', 'American')\n",
    "# boolean, cont_div_y, time single div, amount single div\n",
    "myTree.set_dividends(cont=False, cont_rate=0, TD=4/12, amount=10)\n",
    "myTree.storage_values(False)\n",
    "myTree.PrepaidForwad(False)\n",
    "myTree.storage_prices(False)\n",
    "myTree.storage_prices()[-1]"
   ]
  },
  {
   "cell_type": "code",
   "execution_count": null,
   "metadata": {},
   "outputs": [],
   "source": [
    "# S, K, vol, T, h, rf, option type, exercise style\n",
    "myTree = BinPriMod(100, 95, 0.25, 1, 1/11, 0.05, 'Call', 'American')\n",
    "# boolean, cont_div_y, time single div, amount single div\n",
    "myTree.set_dividends(cont=False, cont_rate=0, TD=7/12, amount=10)\n",
    "myTree.storage_values(False)\n",
    "myTree.PrepaidForwad(False)\n",
    "myTree.storage_prices(False)\n",
    "myTree.storage_prices()[-1]"
   ]
  },
  {
   "cell_type": "code",
   "execution_count": null,
   "metadata": {},
   "outputs": [],
   "source": [
    "price_list = []\n",
    "for i in range(1,121,1):\n",
    "    itTree = BinPriMod(100, 95, 0.25, 1, 1/11, 0.05, 'Call', 'American')\n",
    "    itTree.set_dividends(cont=False, cont_rate=0, TD=i/120, amount=10)\n",
    "    itTree.storage_values(False)\n",
    "    itTree.PrepaidForwad(False)\n",
    "    itTree.storage_prices(False)\n",
    "    price_list.append(itTree.storage_prices()[-1])\n",
    "\n",
    "\n",
    "plt.plot(price_list, color='indianred', label='Option Price')\n",
    "plt.xlabel('Dividend payout time in years (x/100)')\n",
    "plt.ylabel('Option prices')\n",
    "plt.legend()\n",
    "plt.show()"
   ]
  }
 ],
 "metadata": {
  "kernelspec": {
   "display_name": "base",
   "language": "python",
   "name": "python3"
  },
  "language_info": {
   "codemirror_mode": {
    "name": "ipython",
    "version": 3
   },
   "file_extension": ".py",
   "mimetype": "text/x-python",
   "name": "python",
   "nbconvert_exporter": "python",
   "pygments_lexer": "ipython3",
   "version": "3.11.7"
  }
 },
 "nbformat": 4,
 "nbformat_minor": 2
}
