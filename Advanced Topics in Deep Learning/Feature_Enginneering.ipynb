{
 "cells": [
  {
   "cell_type": "markdown",
   "metadata": {},
   "source": [
    "<h1> Feature engineering <br>\n",
    "Modelling <br>\n",
    "and Evaluation</h2>\n",
    "<br>\n",
    "<br>\n",
    "<b> This is work in progress! </b> <p> Next up is making the pipeline more automated. Scaling the targets. And finetune  the  LSTM, which architeture should it have. How many lags, how many LSTM units, how many  layers, how many perceptrons, which activation functions, and which special layers to add to the architecture. \n",
    "<br>\n",
    "<br>\n",
    "Radical change: use NIBOR in stead of interest rate, because it is update daily and can give better results.\n",
    "<h4> Readying the forecast dataset </h4>\n",
    "Use Ohrnstein Uhlenbeck process to find Food_index price. Use SSB/NB to find forecasts for policy rate. Find some forecasts or eventually use OU-process to find the FX."
   ]
  },
  {
   "cell_type": "markdown",
   "metadata": {},
   "source": [
    "<!-- <ol>\n",
    "<li>Deterministic process</li>\n",
    "<li>Lagged variables</li>\n",
    "<li> Fourier</li>\n",
    "<li>Seasonal indicators (very important)</li>\n",
    "<li></li>\n",
    "<li></li>\n",
    "<li></li>\n",
    "</ol> -->"
   ]
  },
  {
   "cell_type": "markdown",
   "metadata": {},
   "source": [
    "<h1> 1. Getting started </h1>\n",
    "<h2> 1.1 Importing libraries </h2>"
   ]
  },
  {
   "cell_type": "code",
   "execution_count": 71,
   "metadata": {},
   "outputs": [],
   "source": [
    "import numpy as np\n",
    "import pandas as pd\n",
    "import matplotlib.pyplot as plt\n",
    "import seaborn as sns\n",
    "\n",
    "from sklearn.model_selection import train_test_split\n",
    "from sklearn.preprocessing import StandardScaler\n",
    "from sklearn.pipeline import Pipeline\n",
    "from sklearn.preprocessing import FunctionTransformer\n",
    "from sklearn.compose import ColumnTransformer\n",
    "\n",
    "\n",
    "\n",
    "import tensorflow as tf\n",
    "from tensorflow import keras\n",
    "from keras import Sequential, layers, Input, callbacks\n",
    "from keras.layers import Dense\n",
    "from keras.layers import LSTM\n",
    "from keras.layers import Activation\n",
    "\n",
    "from statsmodels.tsa.deterministic import DeterministicProcess\n",
    "from statsmodels.tsa.deterministic import  CalendarFourier"
   ]
  },
  {
   "cell_type": "markdown",
   "metadata": {},
   "source": [
    "<h2> 1.2 Downloading data </h2>"
   ]
  },
  {
   "cell_type": "code",
   "execution_count": 72,
   "metadata": {},
   "outputs": [],
   "source": [
    "df = pd.read_csv('Preprocessed_data.csv')\n",
    "df.index = pd.to_datetime(df['Date'], format='%Y-%m-%d')\n",
    "df.drop(['Date'], axis=1, inplace=True)"
   ]
  },
  {
   "cell_type": "markdown",
   "metadata": {},
   "source": [
    "<h2> 1.3 Splitting data in 3*2"
   ]
  },
  {
   "cell_type": "code",
   "execution_count": 73,
   "metadata": {},
   "outputs": [],
   "source": [
    "y = df['Salmon_exp_vol']\n",
    "X = df.loc[:,'FX_EURONOK':]\n",
    "\n",
    "X_train, X_eval, y_train, y_eval = train_test_split(X,y, \n",
    "                                                    test_size=0.2,\n",
    "                                                    shuffle=False)\n",
    "X_val, X_test, y_val, y_test = train_test_split(X_eval, y_eval, \n",
    "                                                test_size=0.5,\n",
    "                                                shuffle=False)"
   ]
  },
  {
   "cell_type": "code",
   "execution_count": 109,
   "metadata": {},
   "outputs": [],
   "source": [
    "def seasonal_indicators(X):\n",
    "    weeks = [1,2,3,4,48,49,50,51,52]\n",
    "    indicator_df = pd.DataFrame()\n",
    "    for ind_week in range(len(weeks)):\n",
    "        column = np.where(X.index.isocalendar().week==weeks[ind_week],1,0)\n",
    "        indicator_df['IndWeek'+str(weeks[ind_week])] = column\n",
    "    indicator_df.index = X.index\n",
    "    new_X = pd.concat([X, indicator_df],axis=1)\n",
    "    return new_X\n",
    "indicator_func = FunctionTransformer(func=seasonal_indicators)\n"
   ]
  },
  {
   "cell_type": "markdown",
   "metadata": {},
   "source": [
    "<h1> 2. Feature engineering </h1>"
   ]
  },
  {
   "cell_type": "markdown",
   "metadata": {},
   "source": [
    "<h2> 2.1 Manual imputing </h2>"
   ]
  },
  {
   "cell_type": "code",
   "execution_count": 75,
   "metadata": {},
   "outputs": [],
   "source": [
    "X_train['FX_EURONOK']['2002-10-14'] = 7.34\n",
    "X_train['FX_EURONOK']['2008-08-04'] = 7.9995\n",
    "X_train['FX_EURONOK']['2008-08-08'] = 7.9915\n",
    "X_train['FX_EURONOK']['2008-08-11'] = 7.9975\n",
    "X_train['FX_EURONOK']['2008-08-18'] = 7.9740"
   ]
  },
  {
   "cell_type": "markdown",
   "metadata": {},
   "source": [
    "<h2> 2.2 Time dummy and Fourier  </h2>"
   ]
  },
  {
   "cell_type": "code",
   "execution_count": 76,
   "metadata": {},
   "outputs": [],
   "source": [
    "def det_process(X, startValue=None):\n",
    "    fourier0  =  CalendarFourier(freq='A',  order=3)\n",
    "    fourier1  =  CalendarFourier(freq='6M',  order=3)\n",
    "    fourier2  =  CalendarFourier(freq='Q',  order=3)\n",
    "\n",
    "    dp = DeterministicProcess(\n",
    "        index=X.index,\n",
    "        constant=True,\n",
    "        order=1,\n",
    "        seasonal=True,\n",
    "        additional_terms=[fourier0,fourier1,fourier2],\n",
    "        drop=True\n",
    "    ) \n",
    "    dp = dp.in_sample()\n",
    "    dp['trend'] += startValue\n",
    "    new_X = pd.concat([X,dp], axis=1)\n",
    "    return new_X\n",
    "time_func = FunctionTransformer(func=det_process, \n",
    "                                kw_args={'startValue':None})\n"
   ]
  },
  {
   "cell_type": "markdown",
   "metadata": {},
   "source": [
    "<h2> 2.3  Column specific engineering </h2>\n",
    "<h3> 2.3.1 Log transformation </h3>"
   ]
  },
  {
   "cell_type": "code",
   "execution_count": 77,
   "metadata": {},
   "outputs": [],
   "source": [
    "def log_transformation(X):\n",
    "    X = np.log1p(X)\n",
    "    X = pd.DataFrame(X)\n",
    "    return X\n",
    "log_func = FunctionTransformer(func=log_transformation)"
   ]
  },
  {
   "cell_type": "markdown",
   "metadata": {},
   "source": [
    "<h3> 2.3.2 Lagging variables"
   ]
  },
  {
   "cell_type": "code",
   "execution_count": 78,
   "metadata": {},
   "outputs": [],
   "source": [
    "def lagged_func_org(X, target=None):\n",
    "    X_new =  pd.concat([target, X], axis=1)\n",
    "    # lags = [[1,2,3,4],[13],[1,5],[1,2,3,4]]\n",
    "    # shift_cols = ['Salmon_exp_vol', 'Interest_rate', 'Food_index', 'FX_EURONOK']\n",
    "    lags = [[1]]\n",
    "    shift_cols = ['Salmon_exp_vol']\n",
    "\n",
    "    sec_it = 0\n",
    "    lagged_df = pd.DataFrame()\n",
    "    for n_col in range(len(shift_cols)):\n",
    "        for n_lag  in range(len(lags[n_col])):\n",
    "            sec_it+=1\n",
    "            lagged_df[str(shift_cols[n_col]+\n",
    "                      '_lag'+\n",
    "                      str(lags[n_col][n_lag]))] = X_new[shift_cols[n_col]].shift(lags[n_col][n_lag])\n",
    "    ldf = pd.concat([X,lagged_df],axis=1).dropna()\n",
    "    return ldf\n",
    "\n",
    "lagged_func = FunctionTransformer(func=lagged_func_org, \n",
    "                                  kw_args={'target':None})"
   ]
  },
  {
   "cell_type": "code",
   "execution_count": 79,
   "metadata": {},
   "outputs": [],
   "source": [
    "# lagged_func_org(X_train,target=y_train)"
   ]
  },
  {
   "cell_type": "markdown",
   "metadata": {},
   "source": [
    "<h2> 2.4  Z-scoring </h2>"
   ]
  },
  {
   "cell_type": "code",
   "execution_count": 80,
   "metadata": {},
   "outputs": [],
   "source": [
    "zScore_func = StandardScaler()\n",
    "zScoreTarget_func = StandardScaler()"
   ]
  },
  {
   "cell_type": "markdown",
   "metadata": {},
   "source": [
    "<h2> 2.5 Reshaping 2d->3d array"
   ]
  },
  {
   "cell_type": "code",
   "execution_count": 81,
   "metadata": {},
   "outputs": [],
   "source": [
    "def reshaper(X, timeSteps=None):\n",
    "    X = pd.DataFrame(X)\n",
    "    new_Xs = [np.array(X[timeSteps:])]\n",
    "    print(X.shape)\n",
    "\n",
    "    for i in range(1, timeSteps+1,1):\n",
    "        shift_X  = np.array(X.shift(i))\n",
    "        new_Xs.append(shift_X[timeSteps:])\n",
    "\n",
    "    X_reshaped = np.stack(new_Xs, axis=1)\n",
    "    return X_reshaped\n",
    "\n",
    "reshape_func = FunctionTransformer(func=reshaper, kw_args={'timeSteps':None})\n"
   ]
  },
  {
   "cell_type": "markdown",
   "metadata": {},
   "source": [
    "<h1> 3. LSTM model </h1>"
   ]
  },
  {
   "cell_type": "code",
   "execution_count": 112,
   "metadata": {},
   "outputs": [],
   "source": [
    "model = keras.Sequential([\n",
    "    layers.LSTM(83, input_shape=(14,84)),\n",
    "    layers.BatchNormalization(),\n",
    "    layers.Dropout(0.3),\n",
    "    layers.Dense(516, activation='relu'),\n",
    "    layers.BatchNormalization(),\n",
    "    layers.Dropout(0.3),\n",
    "    layers.Dense(258, activation='LeakyReLU'),\n",
    "    layers.BatchNormalization(),\n",
    "    layers.Dropout(0.3),\n",
    "    layers.Dense(128, activation='gelu'),\n",
    "    layers.Dense(1)\n",
    "])\n",
    "model.compile(optimizer='adam',\n",
    "            #   loss=keras.losses.MeanSquaredError()\n",
    "              loss = 'mae'\n",
    "              )\n",
    "\n",
    "early_stopping = callbacks.EarlyStopping(\n",
    "    min_delta=0.001, # minimium amount of change to count as an improvement\n",
    "    patience=30, # how many epochs to wait before stopping\n",
    "    restore_best_weights=True,\n",
    ")"
   ]
  },
  {
   "cell_type": "markdown",
   "metadata": {},
   "source": [
    "<h1> 4.  Pipelining </h1>\n",
    "<h2> 4.1 Column specific pipeline </h2>"
   ]
  },
  {
   "cell_type": "code",
   "execution_count": 113,
   "metadata": {},
   "outputs": [],
   "source": [
    "engineering_func = ColumnTransformer(\n",
    "    transformers=[\n",
    "        ('loger', log_func, ['FX_EURONOK']),\n",
    "    ], remainder='passthrough')"
   ]
  },
  {
   "cell_type": "markdown",
   "metadata": {},
   "source": [
    "<h2> 4.2 Total pipeline </h2>"
   ]
  },
  {
   "cell_type": "code",
   "execution_count": 114,
   "metadata": {},
   "outputs": [
    {
     "data": {
      "text/plain": [
       "(135, 3)"
      ]
     },
     "execution_count": 114,
     "metadata": {},
     "output_type": "execute_result"
    }
   ],
   "source": [
    "X_val_corr = pd.concat([X_train[-15:],X_val])\n",
    "X_test_corr = pd.concat([X_val[-15:],X_test])\n",
    "X_val_corr.shape"
   ]
  },
  {
   "cell_type": "code",
   "execution_count": 115,
   "metadata": {},
   "outputs": [
    {
     "name": "stdout",
     "output_type": "stream",
     "text": [
      "(959, 84)\n",
      "(119, 84)\n",
      "(119, 84)\n"
     ]
    }
   ],
   "source": [
    "pipe = Pipeline(steps=[\n",
    "    ('det', time_func),\n",
    "    ('ind', indicator_func),\n",
    "    ('lag', lagged_func),\n",
    "    ('Col_spec', engineering_func),\n",
    "    ('zScore_func', zScore_func),\n",
    "    ('res', reshape_func)\n",
    "    # ('lstm', model)\n",
    "])\n",
    "\n",
    "\n",
    "pipe.set_params(\n",
    "                det__kw_args={'startValue':0},\n",
    "                lag__kw_args={'target':y_train},\n",
    "                res__kw_args={'timeSteps':13}\n",
    "                )\n",
    "X_train_preprocessed  = pipe.fit_transform(X_train)\n",
    "\n",
    "pipe.set_params(det__kw_args={'startValue':960}, \n",
    "                lag__kw_args={'target':y_val},\n",
    "                res__kw_args={'timeSteps':13})\n",
    "X_val_preprocessed  = pipe.transform(X_val_corr)\n",
    "\n",
    "pipe.set_params(det__kw_args={'startValue':1080}, \n",
    "                lag__kw_args={'target': y_test},\n",
    "                res__kw_args={'timeSteps':13})\n",
    "X_test_preprocessed  = pipe.transform(X_test_corr)\n"
   ]
  },
  {
   "cell_type": "markdown",
   "metadata": {},
   "source": [
    "<h1> X. Rest are drafts.. </h1>"
   ]
  },
  {
   "cell_type": "code",
   "execution_count": 116,
   "metadata": {},
   "outputs": [],
   "source": [
    "# target_scaler = StandardScaler()\n",
    "# y_train_pre = target_scaler.fit_transform(np.array([y_train[6:]]).T)\n",
    "# y_val_pre = target_scaler.transform(np.array([y_val[6:]]).T)\n",
    "# y_test_pre = target_scaler.transform(np.array([y_test[6:]]).T)\n",
    "\n",
    "y_train_pre = y_train[14:]\n",
    "y_val_pre = y_val[14:]\n",
    "y_test_pre =y_test[14:]"
   ]
  },
  {
   "cell_type": "code",
   "execution_count": 117,
   "metadata": {},
   "outputs": [
    {
     "name": "stdout",
     "output_type": "stream",
     "text": [
      "Epoch 1/500\n"
     ]
    },
    {
     "name": "stdout",
     "output_type": "stream",
     "text": [
      "48/48 [==============================] - 3s 18ms/step - loss: 11691.5361 - val_loss: 18519.8633\n",
      "Epoch 2/500\n",
      "48/48 [==============================] - 1s 11ms/step - loss: 11573.2842 - val_loss: 18335.2070\n",
      "Epoch 3/500\n",
      "48/48 [==============================] - 0s 9ms/step - loss: 11273.5000 - val_loss: 17962.0156\n",
      "Epoch 4/500\n",
      "48/48 [==============================] - 0s 9ms/step - loss: 10749.5410 - val_loss: 17213.3672\n",
      "Epoch 5/500\n",
      "48/48 [==============================] - 1s 11ms/step - loss: 9925.2109 - val_loss: 16101.6299\n",
      "Epoch 6/500\n",
      "48/48 [==============================] - 0s 8ms/step - loss: 8762.9502 - val_loss: 14565.1240\n",
      "Epoch 7/500\n",
      "48/48 [==============================] - 0s 9ms/step - loss: 7285.9170 - val_loss: 11979.8867\n",
      "Epoch 8/500\n",
      "48/48 [==============================] - 0s 8ms/step - loss: 5854.1851 - val_loss: 8613.1709\n",
      "Epoch 9/500\n",
      "48/48 [==============================] - 0s 9ms/step - loss: 4352.8022 - val_loss: 4930.1289\n",
      "Epoch 10/500\n",
      "48/48 [==============================] - 0s 8ms/step - loss: 3202.7375 - val_loss: 3027.3579\n",
      "Epoch 11/500\n",
      "48/48 [==============================] - 0s 8ms/step - loss: 2707.2341 - val_loss: 3116.3821\n",
      "Epoch 12/500\n",
      "48/48 [==============================] - 0s 9ms/step - loss: 2636.9978 - val_loss: 3824.2588\n",
      "Epoch 13/500\n",
      "48/48 [==============================] - 0s 9ms/step - loss: 2535.5969 - val_loss: 2979.4873\n",
      "Epoch 14/500\n",
      "48/48 [==============================] - 0s 10ms/step - loss: 2701.6531 - val_loss: 2617.3037\n",
      "Epoch 15/500\n",
      "48/48 [==============================] - 0s 8ms/step - loss: 2819.5056 - val_loss: 2776.2427\n",
      "Epoch 16/500\n",
      "48/48 [==============================] - 0s 8ms/step - loss: 2763.2705 - val_loss: 4740.7920\n",
      "Epoch 17/500\n",
      "48/48 [==============================] - 0s 8ms/step - loss: 2472.6111 - val_loss: 3698.6675\n",
      "Epoch 18/500\n",
      "48/48 [==============================] - 0s 8ms/step - loss: 2608.7063 - val_loss: 2356.8230\n",
      "Epoch 19/500\n",
      "48/48 [==============================] - 0s 8ms/step - loss: 2386.9709 - val_loss: 2403.5410\n",
      "Epoch 20/500\n",
      "48/48 [==============================] - 0s 8ms/step - loss: 2291.2019 - val_loss: 3203.4458\n",
      "Epoch 21/500\n",
      "48/48 [==============================] - 0s 8ms/step - loss: 2260.4790 - val_loss: 3497.6182\n",
      "Epoch 22/500\n",
      "48/48 [==============================] - 0s 8ms/step - loss: 2268.6091 - val_loss: 2796.0837\n",
      "Epoch 23/500\n",
      "48/48 [==============================] - 0s 8ms/step - loss: 2241.9556 - val_loss: 2444.5444\n",
      "Epoch 24/500\n",
      "48/48 [==============================] - 0s 8ms/step - loss: 2156.1814 - val_loss: 2575.1292\n",
      "Epoch 25/500\n",
      "48/48 [==============================] - 0s 9ms/step - loss: 2179.1123 - val_loss: 2816.9329\n",
      "Epoch 26/500\n",
      "48/48 [==============================] - 0s 8ms/step - loss: 2199.3325 - val_loss: 2505.5393\n",
      "Epoch 27/500\n",
      "48/48 [==============================] - 0s 8ms/step - loss: 2120.8472 - val_loss: 2659.0046\n",
      "Epoch 28/500\n",
      "48/48 [==============================] - 0s 9ms/step - loss: 2129.6912 - val_loss: 2940.6738\n",
      "Epoch 29/500\n",
      "48/48 [==============================] - 0s 8ms/step - loss: 2188.9907 - val_loss: 3701.6848\n",
      "Epoch 30/500\n",
      "48/48 [==============================] - 0s 8ms/step - loss: 2219.6711 - val_loss: 3540.3555\n",
      "Epoch 31/500\n",
      "48/48 [==============================] - 0s 8ms/step - loss: 2036.1057 - val_loss: 3294.0725\n",
      "Epoch 32/500\n",
      "48/48 [==============================] - 0s 8ms/step - loss: 1976.9823 - val_loss: 2909.4426\n",
      "Epoch 33/500\n",
      "48/48 [==============================] - 0s 8ms/step - loss: 2064.7649 - val_loss: 2686.9763\n",
      "Epoch 34/500\n",
      "48/48 [==============================] - 0s 10ms/step - loss: 1862.6323 - val_loss: 3138.8220\n",
      "Epoch 35/500\n",
      "48/48 [==============================] - 0s 8ms/step - loss: 1961.9622 - val_loss: 2842.7424\n",
      "Epoch 36/500\n",
      "48/48 [==============================] - 0s 9ms/step - loss: 1915.3287 - val_loss: 2821.7480\n",
      "Epoch 37/500\n",
      "48/48 [==============================] - 0s 8ms/step - loss: 1779.0278 - val_loss: 3349.0601\n",
      "Epoch 38/500\n",
      "48/48 [==============================] - 0s 8ms/step - loss: 1864.3751 - val_loss: 3076.8071\n",
      "Epoch 39/500\n",
      "48/48 [==============================] - 0s 8ms/step - loss: 1800.1276 - val_loss: 3134.4414\n",
      "Epoch 40/500\n",
      "48/48 [==============================] - 0s 9ms/step - loss: 1823.5342 - val_loss: 2829.6855\n",
      "Epoch 41/500\n",
      "48/48 [==============================] - 0s 9ms/step - loss: 1650.9429 - val_loss: 2511.1489\n",
      "Epoch 42/500\n",
      "48/48 [==============================] - 0s 9ms/step - loss: 1545.1177 - val_loss: 2800.9944\n",
      "Epoch 43/500\n",
      "48/48 [==============================] - 1s 11ms/step - loss: 1731.9714 - val_loss: 2796.4722\n",
      "Epoch 44/500\n",
      "48/48 [==============================] - 0s 8ms/step - loss: 1735.3765 - val_loss: 3056.0139\n",
      "Epoch 45/500\n",
      "48/48 [==============================] - 0s 8ms/step - loss: 1659.8699 - val_loss: 2792.3022\n",
      "Epoch 46/500\n",
      "48/48 [==============================] - 0s 9ms/step - loss: 1592.2191 - val_loss: 2806.0664\n",
      "Epoch 47/500\n",
      "48/48 [==============================] - 0s 8ms/step - loss: 1662.1244 - val_loss: 2652.0200\n",
      "Epoch 48/500\n",
      "48/48 [==============================] - 0s 8ms/step - loss: 1559.9253 - val_loss: 2511.3296\n",
      "30/30 [==============================] - 0s 3ms/step\n",
      "4/4 [==============================] - 0s 3ms/step\n",
      "4/4 [==============================] - 0s 0s/step\n"
     ]
    }
   ],
   "source": [
    "model.fit(X_train_preprocessed,y_train_pre,\n",
    "          epochs=500, batch_size=20,\n",
    "          validation_data=[X_val_preprocessed, y_val_pre],\n",
    "          callbacks=early_stopping)\n",
    "\n",
    "\n",
    "train_pred = model.predict(X_train_preprocessed)\n",
    "val_pred = model.predict(X_val_preprocessed)\n",
    "test_pred = model.predict(X_test_preprocessed)"
   ]
  },
  {
   "cell_type": "code",
   "execution_count": 118,
   "metadata": {},
   "outputs": [],
   "source": [
    "# Good MAPE at un-scaled are: 15%\n",
    "#scaled: 1.25"
   ]
  },
  {
   "cell_type": "code",
   "execution_count": 119,
   "metadata": {},
   "outputs": [
    {
     "data": {
      "image/png": "[encoded data removed]",
      "text/plain": [
       "<Figure size 640x480 with 2 Axes>"
      ]
     },
     "metadata": {},
     "output_type": "display_data"
    }
   ],
   "source": [
    "fig,ax = plt.subplots(2)\n",
    "ax[0].plot(y_train, label='Train')\n",
    "ax[0].plot(y_val, label='Valid')\n",
    "ax[0].plot(y_test, label='Test')\n",
    "\n",
    "ax[1].plot(X_train.index[14:], train_pred, label='Train_pred')\n",
    "ax[1].set_xlim(10500,20000)\n",
    "ax[1].plot(X_val.index[14:], val_pred, label='Test_pred')\n",
    "ax[1].plot(X_test.index[14:], test_pred, label='Test_pred')\n",
    "\n",
    "plt.legend()\n",
    "plt.show()"
   ]
  },
  {
   "cell_type": "code",
   "execution_count": 120,
   "metadata": {},
   "outputs": [],
   "source": [
    "from sklearn.metrics import root_mean_squared_error as RMSE\n",
    "from sklearn.metrics import mean_absolute_percentage_error as MAPE\n",
    "from sklearn.metrics import mean_absolute_error as MAE\n"
   ]
  },
  {
   "cell_type": "code",
   "execution_count": 121,
   "metadata": {},
   "outputs": [
    {
     "data": {
      "text/plain": [
       "1543.9020841247689"
      ]
     },
     "execution_count": 121,
     "metadata": {},
     "output_type": "execute_result"
    }
   ],
   "source": [
    "MAE(train_pred, y_train_pre)"
   ]
  },
  {
   "cell_type": "code",
   "execution_count": 122,
   "metadata": {},
   "outputs": [
    {
     "data": {
      "text/plain": [
       "'2.88 thousands'"
      ]
     },
     "execution_count": 122,
     "metadata": {},
     "output_type": "execute_result"
    }
   ],
   "source": [
    "str(X_train.size/1000)+ ' thousands'"
   ]
  },
  {
   "cell_type": "code",
   "execution_count": 123,
   "metadata": {},
   "outputs": [],
   "source": [
    "# pd.DataFrame(X_train_preprocessed)"
   ]
  },
  {
   "cell_type": "code",
   "execution_count": 124,
   "metadata": {},
   "outputs": [
    {
     "data": {
      "text/plain": [
       "'1.1124960000000002 million'"
      ]
     },
     "execution_count": 124,
     "metadata": {},
     "output_type": "execute_result"
    }
   ],
   "source": [
    "str(X_train_preprocessed.size/1000/1000) +' million'"
   ]
  }
 ],
 "metadata": {
  "kernelspec": {
   "display_name": "base",
   "language": "python",
   "name": "python3"
  },
  "language_info": {
   "codemirror_mode": {
    "name": "ipython",
    "version": 3
   },
   "file_extension": ".py",
   "mimetype": "text/x-python",
   "name": "python",
   "nbconvert_exporter": "python",
   "pygments_lexer": "ipython3",
   "version": "3.9.13"
  }
 },
 "nbformat": 4,
 "nbformat_minor": 2
}
