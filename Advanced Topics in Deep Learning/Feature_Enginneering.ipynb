{
 "cells": [
  {
   "cell_type": "markdown",
   "metadata": {},
   "source": [
    "<h1> Feature engineering <br>\n",
    "Modelling <br>\n",
    "and Evaluation</h2>\n",
    "<br>\n",
    "<br>\n",
    "<b> This is work in progress! </b> <p> Next up is making the pipeline more automated. Scaling the targets. And finetune  the  LSTM, which architeture should it have. How many lags, how many LSTM units, how many  layers, how many perceptrons, which activation functions, and which special layers to add to the architecture. \n",
    "<br>\n",
    "<br>\n",
    "Radical change: use NIBOR in stead of interest rate, because it is update daily and can give better results."
   ]
  },
  {
   "cell_type": "markdown",
   "metadata": {},
   "source": [
    "<!-- <ol>\n",
    "<li>Deterministic process</li>\n",
    "<li>Lagged variables</li>\n",
    "<li> Fourier</li>\n",
    "<li>Seasonal indicators (very important)</li>\n",
    "<li></li>\n",
    "<li></li>\n",
    "<li></li>\n",
    "</ol> -->"
   ]
  },
  {
   "cell_type": "markdown",
   "metadata": {},
   "source": [
    "<h1> 1. Getting started </h1>\n",
    "<h2> 1.1 Importing libraries </h2>"
   ]
  },
  {
   "cell_type": "code",
   "execution_count": 492,
   "metadata": {},
   "outputs": [],
   "source": [
    "import numpy as np\n",
    "import pandas as pd\n",
    "import matplotlib.pyplot as plt\n",
    "import seaborn as sns\n",
    "\n",
    "from sklearn.model_selection import train_test_split\n",
    "from sklearn.preprocessing import StandardScaler\n",
    "from sklearn.pipeline import Pipeline\n",
    "from sklearn.preprocessing import FunctionTransformer\n",
    "from sklearn.compose import ColumnTransformer\n",
    "\n",
    "\n",
    "\n",
    "import tensorflow as tf\n",
    "from tensorflow import keras\n",
    "from keras import Sequential, layers, Input, callbacks\n",
    "from keras.layers import Dense\n",
    "from keras.layers import LSTM\n",
    "from keras.layers import Activation\n",
    "\n",
    "from statsmodels.tsa.deterministic import DeterministicProcess\n",
    "from statsmodels.tsa.deterministic import  CalendarFourier"
   ]
  },
  {
   "cell_type": "markdown",
   "metadata": {},
   "source": [
    "<h2> 1.2 Downloading data </h2>"
   ]
  },
  {
   "cell_type": "code",
   "execution_count": 493,
   "metadata": {},
   "outputs": [],
   "source": [
    "df = pd.read_csv('Preprocessed_data.csv')\n",
    "df.index = pd.to_datetime(df['Date'], format='%Y-%m-%d')\n",
    "df.drop(['Date'], axis=1, inplace=True)"
   ]
  },
  {
   "cell_type": "markdown",
   "metadata": {},
   "source": [
    "<h2> 1.3 Splitting data in 3*2"
   ]
  },
  {
   "cell_type": "code",
   "execution_count": 494,
   "metadata": {},
   "outputs": [],
   "source": [
    "y = df['Salmon_exp_vol']\n",
    "X = df.loc[:,'FX_EURONOK':]\n",
    "\n",
    "X_train, X_eval, y_train, y_eval = train_test_split(X,y, \n",
    "                                                    test_size=0.2,\n",
    "                                                    shuffle=False)\n",
    "X_val, X_test, y_val, y_test = train_test_split(X_eval, y_eval, \n",
    "                                                test_size=0.5,\n",
    "                                                shuffle=False)"
   ]
  },
  {
   "cell_type": "code",
   "execution_count": 495,
   "metadata": {},
   "outputs": [],
   "source": [
    "def seasonal_indicators(X):\n",
    "    weeks = [1,2,3,4,5,48,49,50,51,52]\n",
    "    indicator_df = pd.DataFrame()\n",
    "    for ind_week in range(len(weeks)):\n",
    "        column = np.where(X.index.isocalendar().week==weeks[ind_week],1,0)\n",
    "        indicator_df['IndWeek'+str(weeks[ind_week])] = column\n",
    "    indicator_df.index = X.index\n",
    "    new_X = pd.concat([X, indicator_df],axis=1)\n",
    "    return new_X\n",
    "indicator_func = FunctionTransformer(func=seasonal_indicators)\n"
   ]
  },
  {
   "cell_type": "markdown",
   "metadata": {},
   "source": [
    "<h1> 2. Feature engineering </h1>"
   ]
  },
  {
   "cell_type": "markdown",
   "metadata": {},
   "source": [
    "<h2> 2.1 Manual imputing </h2>"
   ]
  },
  {
   "cell_type": "code",
   "execution_count": 496,
   "metadata": {},
   "outputs": [],
   "source": [
    "X_train['FX_EURONOK']['2002-10-14'] = 7.34\n",
    "X_train['FX_EURONOK']['2008-08-04'] = 7.9995\n",
    "X_train['FX_EURONOK']['2008-08-08'] = 7.9915\n",
    "X_train['FX_EURONOK']['2008-08-11'] = 7.9975\n",
    "X_train['FX_EURONOK']['2008-08-18'] = 7.9740"
   ]
  },
  {
   "cell_type": "markdown",
   "metadata": {},
   "source": [
    "<h2> 2.2 Time dummy and Fourier  </h2>"
   ]
  },
  {
   "cell_type": "code",
   "execution_count": 497,
   "metadata": {},
   "outputs": [],
   "source": [
    "def det_process(X, startValue=None):\n",
    "    fourier0  =  CalendarFourier(freq='A',  order=3)\n",
    "    fourier1  =  CalendarFourier(freq='6M',  order=3)\n",
    "    fourier2  =  CalendarFourier(freq='Q',  order=3)\n",
    "\n",
    "    dp = DeterministicProcess(\n",
    "        index=X.index,\n",
    "        constant=True,\n",
    "        order=1,\n",
    "        seasonal=True,\n",
    "        additional_terms=[fourier0,fourier1,fourier2],\n",
    "        drop=True\n",
    "    ) \n",
    "    dp = dp.in_sample()\n",
    "    dp['trend'] += startValue\n",
    "    new_X = pd.concat([X,dp], axis=1)\n",
    "    return new_X\n",
    "time_func = FunctionTransformer(func=det_process, \n",
    "                                kw_args={'startValue':None})\n"
   ]
  },
  {
   "cell_type": "markdown",
   "metadata": {},
   "source": [
    "<h2> 2.3  Column specific engineering </h2>\n",
    "<h3> 2.3.1 Log transformation </h3>"
   ]
  },
  {
   "cell_type": "code",
   "execution_count": 498,
   "metadata": {},
   "outputs": [],
   "source": [
    "def log_transformation(X):\n",
    "    X = np.log1p(X)\n",
    "    X = pd.DataFrame(X)\n",
    "    return X\n",
    "log_func = FunctionTransformer(func=log_transformation)"
   ]
  },
  {
   "cell_type": "markdown",
   "metadata": {},
   "source": [
    "<h3> 2.3.2 Lagging variables"
   ]
  },
  {
   "cell_type": "code",
   "execution_count": 499,
   "metadata": {},
   "outputs": [],
   "source": [
    "def lagged_func_org(X, target=None):\n",
    "    X_new =  pd.concat([target, X], axis=1)\n",
    "    # lags = [[1,2,3,4],[13],[1,5],[1,2,3,4]]\n",
    "    # shift_cols = ['Salmon_exp_vol', 'Interest_rate', 'Food_index', 'FX_EURONOK']\n",
    "    lags = [[1]]\n",
    "    shift_cols = ['Salmon_exp_vol']\n",
    "\n",
    "    sec_it = 0\n",
    "    lagged_df = pd.DataFrame()\n",
    "    for n_col in range(len(shift_cols)):\n",
    "        for n_lag  in range(len(lags[n_col])):\n",
    "            sec_it+=1\n",
    "            lagged_df[str(shift_cols[n_col]+\n",
    "                      '_lag'+\n",
    "                      str(lags[n_col][n_lag]))] = X_new[shift_cols[n_col]].shift(lags[n_col][n_lag])\n",
    "    ldf = pd.concat([X,lagged_df],axis=1).dropna()\n",
    "    return ldf\n",
    "\n",
    "lagged_func = FunctionTransformer(func=lagged_func_org, \n",
    "                                  kw_args={'target':None})"
   ]
  },
  {
   "cell_type": "code",
   "execution_count": 500,
   "metadata": {},
   "outputs": [],
   "source": [
    "# lagged_func_org(X_train,target=y_train)"
   ]
  },
  {
   "cell_type": "markdown",
   "metadata": {},
   "source": [
    "<h2> 2.4  Z-scoring </h2>"
   ]
  },
  {
   "cell_type": "code",
   "execution_count": 501,
   "metadata": {},
   "outputs": [],
   "source": [
    "zScore_func = StandardScaler()\n",
    "zScoreTarget_func = StandardScaler()"
   ]
  },
  {
   "cell_type": "markdown",
   "metadata": {},
   "source": [
    "<h2> 2.5 Reshaping 2d->3d array"
   ]
  },
  {
   "cell_type": "code",
   "execution_count": 502,
   "metadata": {},
   "outputs": [],
   "source": [
    "def reshaper(X, timeSteps=None):\n",
    "    X = pd.DataFrame(X)\n",
    "    new_Xs = [np.array(X[timeSteps:])]\n",
    "    print(X.shape)\n",
    "\n",
    "    for i in range(1, timeSteps+1,1):\n",
    "        shift_X  = np.array(X.shift(i))\n",
    "        new_Xs.append(shift_X[timeSteps:])\n",
    "\n",
    "    X_reshaped = np.stack(new_Xs, axis=1)\n",
    "    return X_reshaped\n",
    "\n",
    "reshape_func = FunctionTransformer(func=reshaper, kw_args={'timeSteps':None})\n"
   ]
  },
  {
   "cell_type": "markdown",
   "metadata": {},
   "source": [
    "<h1> 3. LSTM model </h1>"
   ]
  },
  {
   "cell_type": "code",
   "execution_count": 522,
   "metadata": {},
   "outputs": [],
   "source": [
    "model = keras.Sequential([\n",
    "    layers.LSTM(83, input_shape=(14,85)),\n",
    "    layers.BatchNormalization(),\n",
    "    layers.Dropout(0.3),\n",
    "    layers.Dense(16, activation='relu'),\n",
    "    layers.BatchNormalization(),\n",
    "    layers.Dropout(0.3),\n",
    "    layers.Dense(64, activation='LeakyReLU'),\n",
    "    # layers.BatchNormalization(),\n",
    "    # layers.Dropout(0.3),\n",
    "    # layers.Dense(8, activation='selu'),\n",
    "    layers.BatchNormalization(),\n",
    "    layers.Dropout(0.3),\n",
    "    layers.Dense(8, activation='gelu'),\n",
    "    layers.Dense(1)\n",
    "])\n",
    "model.compile(optimizer='adam',\n",
    "            #   loss=keras.losses.MeanSquaredError()\n",
    "              loss = 'mae'\n",
    "              )\n",
    "\n",
    "early_stopping = callbacks.EarlyStopping(\n",
    "    min_delta=0.001, # minimium amount of change to count as an improvement\n",
    "    patience=30, # how many epochs to wait before stopping\n",
    "    restore_best_weights=True,\n",
    ")"
   ]
  },
  {
   "cell_type": "markdown",
   "metadata": {},
   "source": [
    "<h1> 4.  Pipelining </h1>\n",
    "<h2> 4.1 Column specific pipeline </h2>"
   ]
  },
  {
   "cell_type": "code",
   "execution_count": 504,
   "metadata": {},
   "outputs": [],
   "source": [
    "engineering_func = ColumnTransformer(\n",
    "    transformers=[\n",
    "        ('loger', log_func, ['FX_EURONOK']),\n",
    "    ], remainder='passthrough')"
   ]
  },
  {
   "cell_type": "markdown",
   "metadata": {},
   "source": [
    "<h2> 4.2 Total pipeline </h2>"
   ]
  },
  {
   "cell_type": "code",
   "execution_count": 505,
   "metadata": {},
   "outputs": [
    {
     "name": "stdout",
     "output_type": "stream",
     "text": [
      "(959, 85)\n",
      "(119, 85)\n",
      "(119, 85)\n"
     ]
    }
   ],
   "source": [
    "pipe = Pipeline(steps=[\n",
    "    ('det', time_func),\n",
    "    ('ind', indicator_func),\n",
    "    ('lag', lagged_func),\n",
    "    ('Col_spec', engineering_func),\n",
    "    ('zScore_func', zScore_func),\n",
    "    ('res', reshape_func)\n",
    "    # ('lstm', model)\n",
    "])\n",
    "\n",
    "\n",
    "pipe.set_params(\n",
    "                det__kw_args={'startValue':0},\n",
    "                lag__kw_args={'target':y_train},\n",
    "                res__kw_args={'timeSteps':13}\n",
    "                )\n",
    "X_train_preprocessed  = pipe.fit_transform(X_train)\n",
    "\n",
    "pipe.set_params(det__kw_args={'startValue':960}, \n",
    "                lag__kw_args={'target':y_val},\n",
    "                res__kw_args={'timeSteps':13})\n",
    "X_val_preprocessed  = pipe.transform(X_val)\n",
    "\n",
    "pipe.set_params(det__kw_args={'startValue':1080}, \n",
    "                lag__kw_args={'target': y_test},\n",
    "                res__kw_args={'timeSteps':13})\n",
    "X_test_preprocessed  = pipe.transform(X_test)\n"
   ]
  },
  {
   "cell_type": "markdown",
   "metadata": {},
   "source": [
    "<h1> X. Rest are drafts.. </h1>"
   ]
  },
  {
   "cell_type": "code",
   "execution_count": 506,
   "metadata": {},
   "outputs": [],
   "source": [
    "# target_scaler = StandardScaler()\n",
    "# y_train_pre = target_scaler.fit_transform(np.array([y_train[6:]]).T)\n",
    "# y_val_pre = target_scaler.transform(np.array([y_val[6:]]).T)\n",
    "# y_test_pre = target_scaler.transform(np.array([y_test[6:]]).T)\n",
    "\n",
    "y_train_pre = y_train[14:]\n",
    "y_val_pre = y_val[14:]\n",
    "y_test_pre =y_test[14:]"
   ]
  },
  {
   "cell_type": "code",
   "execution_count": 523,
   "metadata": {},
   "outputs": [
    {
     "name": "stdout",
     "output_type": "stream",
     "text": [
      "Epoch 1/500\n",
      "48/48 [==============================] - 8s 18ms/step - loss: 11705.9707 - val_loss: 18542.8906\n",
      "Epoch 2/500\n",
      "48/48 [==============================] - 0s 10ms/step - loss: 11704.4189 - val_loss: 18540.5273\n",
      "Epoch 3/500\n",
      "48/48 [==============================] - 0s 9ms/step - loss: 11701.9814 - val_loss: 18534.5723\n",
      "Epoch 4/500\n",
      "48/48 [==============================] - 0s 9ms/step - loss: 11697.0947 - val_loss: 18520.8672\n",
      "Epoch 5/500\n",
      "48/48 [==============================] - 0s 9ms/step - loss: 11688.2822 - val_loss: 18498.8047\n",
      "Epoch 6/500\n",
      "48/48 [==============================] - 0s 10ms/step - loss: 11673.8965 - val_loss: 18466.2578\n",
      "Epoch 7/500\n",
      "48/48 [==============================] - 0s 9ms/step - loss: 11653.1436 - val_loss: 18442.8477\n",
      "Epoch 8/500\n",
      "48/48 [==============================] - 0s 9ms/step - loss: 11624.4561 - val_loss: 18347.6211\n",
      "Epoch 9/500\n",
      "48/48 [==============================] - 0s 10ms/step - loss: 11584.9727 - val_loss: 18333.9102\n",
      "Epoch 10/500\n",
      "48/48 [==============================] - 0s 10ms/step - loss: 11539.2705 - val_loss: 18249.2812\n",
      "Epoch 11/500\n",
      "48/48 [==============================] - 0s 10ms/step - loss: 11476.9316 - val_loss: 18224.9590\n",
      "Epoch 12/500\n",
      "48/48 [==============================] - 0s 9ms/step - loss: 11404.2598 - val_loss: 18116.2090\n",
      "Epoch 13/500\n",
      "48/48 [==============================] - 1s 11ms/step - loss: 11319.0498 - val_loss: 17984.3203\n",
      "Epoch 14/500\n",
      "48/48 [==============================] - 0s 8ms/step - loss: 11221.9775 - val_loss: 17732.1777\n",
      "Epoch 15/500\n",
      "48/48 [==============================] - 0s 9ms/step - loss: 11101.8916 - val_loss: 17722.8086\n",
      "Epoch 16/500\n",
      "48/48 [==============================] - 0s 10ms/step - loss: 10967.2852 - val_loss: 17519.9434\n",
      "Epoch 17/500\n",
      "48/48 [==============================] - 0s 9ms/step - loss: 10826.2070 - val_loss: 17291.9863\n",
      "Epoch 18/500\n",
      "48/48 [==============================] - 0s 9ms/step - loss: 10652.3506 - val_loss: 17198.0020\n",
      "Epoch 19/500\n",
      "48/48 [==============================] - 0s 9ms/step - loss: 10479.2822 - val_loss: 16984.4023\n",
      "Epoch 20/500\n",
      "48/48 [==============================] - 0s 10ms/step - loss: 10263.5898 - val_loss: 16788.1660\n",
      "Epoch 21/500\n",
      "48/48 [==============================] - 0s 10ms/step - loss: 10042.3027 - val_loss: 16561.4570\n",
      "Epoch 22/500\n",
      "48/48 [==============================] - 1s 11ms/step - loss: 9787.3818 - val_loss: 16307.3828\n",
      "Epoch 23/500\n",
      "48/48 [==============================] - 1s 11ms/step - loss: 9535.7920 - val_loss: 15999.7852\n",
      "Epoch 24/500\n",
      "48/48 [==============================] - 1s 11ms/step - loss: 9251.4531 - val_loss: 15675.9551\n",
      "Epoch 25/500\n",
      "48/48 [==============================] - 0s 10ms/step - loss: 8967.6582 - val_loss: 15320.5518\n",
      "Epoch 26/500\n",
      "48/48 [==============================] - 1s 12ms/step - loss: 8623.0693 - val_loss: 14973.1309\n",
      "Epoch 27/500\n",
      "48/48 [==============================] - 1s 12ms/step - loss: 8292.1230 - val_loss: 14494.2207\n",
      "Epoch 28/500\n",
      "48/48 [==============================] - 0s 10ms/step - loss: 7953.6479 - val_loss: 13957.9238\n",
      "Epoch 29/500\n",
      "48/48 [==============================] - 1s 11ms/step - loss: 7658.9785 - val_loss: 13156.1406\n",
      "Epoch 30/500\n",
      "48/48 [==============================] - 0s 10ms/step - loss: 7239.6445 - val_loss: 12375.6387\n",
      "Epoch 31/500\n",
      "48/48 [==============================] - 1s 11ms/step - loss: 6907.5039 - val_loss: 11836.5762\n",
      "Epoch 32/500\n",
      "48/48 [==============================] - 0s 9ms/step - loss: 6526.0566 - val_loss: 10936.6660\n",
      "Epoch 33/500\n",
      "48/48 [==============================] - 0s 10ms/step - loss: 6135.6421 - val_loss: 10117.2217\n",
      "Epoch 34/500\n",
      "48/48 [==============================] - 0s 9ms/step - loss: 5692.9922 - val_loss: 9630.1924\n",
      "Epoch 35/500\n",
      "48/48 [==============================] - 0s 9ms/step - loss: 5364.6875 - val_loss: 8454.0928\n",
      "Epoch 36/500\n",
      "48/48 [==============================] - 0s 9ms/step - loss: 4871.0923 - val_loss: 7939.6875\n",
      "Epoch 37/500\n",
      "48/48 [==============================] - 0s 9ms/step - loss: 4576.8306 - val_loss: 7298.2148\n",
      "Epoch 38/500\n",
      "48/48 [==============================] - 0s 9ms/step - loss: 4235.6514 - val_loss: 6869.3276\n",
      "Epoch 39/500\n",
      "48/48 [==============================] - 0s 9ms/step - loss: 3954.4788 - val_loss: 7868.4346\n",
      "Epoch 40/500\n",
      "48/48 [==============================] - 0s 10ms/step - loss: 3586.3130 - val_loss: 4643.3438\n",
      "Epoch 41/500\n",
      "48/48 [==============================] - 0s 9ms/step - loss: 3097.3486 - val_loss: 4887.2803\n",
      "Epoch 42/500\n",
      "48/48 [==============================] - 0s 9ms/step - loss: 2903.3267 - val_loss: 4032.1675\n",
      "Epoch 43/500\n",
      "48/48 [==============================] - 0s 10ms/step - loss: 2670.5251 - val_loss: 4340.1880\n",
      "Epoch 44/500\n",
      "48/48 [==============================] - 0s 10ms/step - loss: 2502.8301 - val_loss: 3366.6162\n",
      "Epoch 45/500\n",
      "48/48 [==============================] - 1s 11ms/step - loss: 2529.4304 - val_loss: 3840.0862\n",
      "Epoch 46/500\n",
      "48/48 [==============================] - 0s 9ms/step - loss: 2214.5691 - val_loss: 3495.2439\n",
      "Epoch 47/500\n",
      "48/48 [==============================] - 0s 9ms/step - loss: 2397.6733 - val_loss: 3325.2888\n",
      "Epoch 48/500\n",
      "48/48 [==============================] - 0s 9ms/step - loss: 2393.4495 - val_loss: 3430.4895\n",
      "Epoch 49/500\n",
      "48/48 [==============================] - 0s 9ms/step - loss: 2303.5662 - val_loss: 3371.7832\n",
      "Epoch 50/500\n",
      "48/48 [==============================] - 0s 10ms/step - loss: 2286.4668 - val_loss: 3549.2031\n",
      "Epoch 51/500\n",
      "48/48 [==============================] - 0s 9ms/step - loss: 2286.3269 - val_loss: 3404.5127\n",
      "Epoch 52/500\n",
      "48/48 [==============================] - 1s 11ms/step - loss: 2401.3184 - val_loss: 3493.6338\n",
      "Epoch 53/500\n",
      "48/48 [==============================] - 0s 9ms/step - loss: 2220.9890 - val_loss: 3418.8250\n",
      "Epoch 54/500\n",
      "48/48 [==============================] - 0s 9ms/step - loss: 2158.9380 - val_loss: 3333.1965\n",
      "Epoch 55/500\n",
      "48/48 [==============================] - 0s 9ms/step - loss: 2151.8782 - val_loss: 3359.7083\n",
      "Epoch 56/500\n",
      "48/48 [==============================] - 0s 9ms/step - loss: 2146.0579 - val_loss: 3310.0005\n",
      "Epoch 57/500\n",
      "48/48 [==============================] - 0s 9ms/step - loss: 2190.4331 - val_loss: 3399.1274\n",
      "Epoch 58/500\n",
      "48/48 [==============================] - 0s 9ms/step - loss: 2128.5952 - val_loss: 3506.3110\n",
      "Epoch 59/500\n",
      "48/48 [==============================] - 0s 10ms/step - loss: 2037.3191 - val_loss: 3670.8079\n",
      "Epoch 60/500\n",
      "48/48 [==============================] - 0s 10ms/step - loss: 2069.9111 - val_loss: 3188.6875\n",
      "Epoch 61/500\n",
      "48/48 [==============================] - 0s 9ms/step - loss: 2117.0291 - val_loss: 3287.2100\n",
      "Epoch 62/500\n",
      "48/48 [==============================] - 0s 9ms/step - loss: 2114.2754 - val_loss: 3310.0686\n",
      "Epoch 63/500\n",
      "48/48 [==============================] - 0s 9ms/step - loss: 1966.7017 - val_loss: 3448.4299\n",
      "Epoch 64/500\n",
      "48/48 [==============================] - 0s 9ms/step - loss: 2111.0229 - val_loss: 3371.1169\n",
      "Epoch 65/500\n",
      "48/48 [==============================] - 0s 9ms/step - loss: 2116.9993 - val_loss: 3169.8633\n",
      "Epoch 66/500\n",
      "48/48 [==============================] - 0s 10ms/step - loss: 1933.7555 - val_loss: 3130.9634\n",
      "Epoch 67/500\n",
      "48/48 [==============================] - 0s 9ms/step - loss: 2123.9072 - val_loss: 3557.1409\n",
      "Epoch 68/500\n",
      "48/48 [==============================] - 0s 9ms/step - loss: 2096.5071 - val_loss: 3431.8730\n",
      "Epoch 69/500\n",
      "48/48 [==============================] - 0s 9ms/step - loss: 2001.3398 - val_loss: 3077.6211\n",
      "Epoch 70/500\n",
      "48/48 [==============================] - 0s 10ms/step - loss: 1843.8971 - val_loss: 3240.1716\n",
      "Epoch 71/500\n",
      "48/48 [==============================] - 1s 11ms/step - loss: 1969.0176 - val_loss: 3318.2605\n",
      "Epoch 72/500\n",
      "48/48 [==============================] - 1s 12ms/step - loss: 2051.9412 - val_loss: 3254.0000\n",
      "Epoch 73/500\n",
      "48/48 [==============================] - 0s 11ms/step - loss: 2053.0339 - val_loss: 3242.0842\n",
      "Epoch 74/500\n",
      "48/48 [==============================] - 0s 9ms/step - loss: 2066.7898 - val_loss: 3243.8704\n",
      "Epoch 75/500\n",
      "48/48 [==============================] - 0s 9ms/step - loss: 2111.5164 - val_loss: 3617.9929\n",
      "Epoch 76/500\n",
      "48/48 [==============================] - 0s 9ms/step - loss: 2116.0178 - val_loss: 3556.5256\n",
      "Epoch 77/500\n",
      "48/48 [==============================] - 0s 9ms/step - loss: 2121.6824 - val_loss: 3207.6753\n",
      "Epoch 78/500\n",
      "48/48 [==============================] - 0s 10ms/step - loss: 1984.9128 - val_loss: 3077.9270\n",
      "Epoch 79/500\n",
      "48/48 [==============================] - 1s 11ms/step - loss: 2102.3257 - val_loss: 3054.1064\n",
      "Epoch 80/500\n",
      "48/48 [==============================] - 0s 10ms/step - loss: 2032.4050 - val_loss: 3094.8745\n",
      "Epoch 81/500\n",
      "48/48 [==============================] - 0s 9ms/step - loss: 2078.5500 - val_loss: 3104.0090\n",
      "Epoch 82/500\n",
      "48/48 [==============================] - 0s 9ms/step - loss: 2060.1521 - val_loss: 2765.3879\n",
      "Epoch 83/500\n",
      "48/48 [==============================] - 0s 9ms/step - loss: 1998.0143 - val_loss: 3053.7556\n",
      "Epoch 84/500\n",
      "48/48 [==============================] - 0s 9ms/step - loss: 1896.2313 - val_loss: 2943.6204\n",
      "Epoch 85/500\n",
      "48/48 [==============================] - 0s 10ms/step - loss: 1871.1615 - val_loss: 3067.0271\n",
      "Epoch 86/500\n",
      "48/48 [==============================] - 0s 9ms/step - loss: 1910.6476 - val_loss: 2985.6387\n",
      "Epoch 87/500\n",
      "48/48 [==============================] - 0s 9ms/step - loss: 1964.9023 - val_loss: 3124.1560\n",
      "Epoch 88/500\n",
      "48/48 [==============================] - 0s 10ms/step - loss: 1894.7939 - val_loss: 2886.7292\n",
      "Epoch 89/500\n",
      "48/48 [==============================] - 0s 9ms/step - loss: 1803.9766 - val_loss: 3059.8362\n",
      "Epoch 90/500\n",
      "48/48 [==============================] - 0s 10ms/step - loss: 1917.6459 - val_loss: 3026.4287\n",
      "Epoch 91/500\n",
      "48/48 [==============================] - 0s 10ms/step - loss: 1871.6428 - val_loss: 3093.3740\n",
      "Epoch 92/500\n",
      "48/48 [==============================] - 0s 10ms/step - loss: 1891.6245 - val_loss: 2912.8140\n",
      "Epoch 93/500\n",
      "48/48 [==============================] - 0s 9ms/step - loss: 1951.4594 - val_loss: 3188.3008\n",
      "Epoch 94/500\n",
      "48/48 [==============================] - 0s 9ms/step - loss: 1883.5192 - val_loss: 3148.8506\n",
      "Epoch 95/500\n",
      "48/48 [==============================] - 0s 9ms/step - loss: 1992.7854 - val_loss: 3103.0884\n",
      "Epoch 96/500\n",
      "48/48 [==============================] - 0s 9ms/step - loss: 1923.1812 - val_loss: 2878.1528\n",
      "Epoch 97/500\n",
      "48/48 [==============================] - 0s 9ms/step - loss: 1899.6217 - val_loss: 3041.8779\n",
      "Epoch 98/500\n",
      "48/48 [==============================] - 0s 10ms/step - loss: 1901.5612 - val_loss: 3072.1892\n",
      "Epoch 99/500\n",
      "48/48 [==============================] - 0s 9ms/step - loss: 1788.1058 - val_loss: 2991.0337\n",
      "Epoch 100/500\n",
      "48/48 [==============================] - 0s 9ms/step - loss: 1954.5542 - val_loss: 2868.4890\n",
      "Epoch 101/500\n",
      "48/48 [==============================] - 0s 9ms/step - loss: 1940.4359 - val_loss: 2966.3862\n",
      "Epoch 102/500\n",
      "48/48 [==============================] - 0s 9ms/step - loss: 1908.0476 - val_loss: 2787.1616\n",
      "Epoch 103/500\n",
      "48/48 [==============================] - 0s 9ms/step - loss: 1940.9178 - val_loss: 2892.6990\n",
      "Epoch 104/500\n",
      "48/48 [==============================] - 0s 10ms/step - loss: 1841.6836 - val_loss: 2963.1724\n",
      "Epoch 105/500\n",
      "48/48 [==============================] - 0s 10ms/step - loss: 1807.0006 - val_loss: 2986.2700\n",
      "Epoch 106/500\n",
      "48/48 [==============================] - 0s 9ms/step - loss: 1958.8279 - val_loss: 2884.1079\n",
      "Epoch 107/500\n",
      "48/48 [==============================] - 0s 9ms/step - loss: 1977.1102 - val_loss: 2806.7510\n",
      "Epoch 108/500\n",
      "48/48 [==============================] - 0s 9ms/step - loss: 1929.6909 - val_loss: 3015.4343\n",
      "Epoch 109/500\n",
      "48/48 [==============================] - 0s 9ms/step - loss: 1896.9723 - val_loss: 2847.3271\n",
      "Epoch 110/500\n",
      "48/48 [==============================] - 0s 9ms/step - loss: 1879.8350 - val_loss: 2841.4404\n",
      "Epoch 111/500\n",
      "48/48 [==============================] - 0s 10ms/step - loss: 1930.2617 - val_loss: 3069.1890\n",
      "Epoch 112/500\n",
      "48/48 [==============================] - 0s 9ms/step - loss: 1942.4885 - val_loss: 2980.9294\n",
      "30/30 [==============================] - 1s 6ms/step\n",
      "4/4 [==============================] - 0s 6ms/step\n",
      "4/4 [==============================] - 0s 7ms/step\n"
     ]
    }
   ],
   "source": [
    "model.fit(X_train_preprocessed,y_train_pre,\n",
    "          epochs=500, batch_size=20,\n",
    "          validation_data=[X_val_preprocessed, y_val_pre],\n",
    "          callbacks=early_stopping)\n",
    "\n",
    "\n",
    "train_pred = model.predict(X_train_preprocessed)\n",
    "val_pred = model.predict(X_val_preprocessed)\n",
    "test_pred = model.predict(X_test_preprocessed)"
   ]
  },
  {
   "cell_type": "code",
   "execution_count": 508,
   "metadata": {},
   "outputs": [],
   "source": [
    "# Good MAPE at un-scaled are: 15%\n",
    "#scaled: 1.25"
   ]
  },
  {
   "cell_type": "code",
   "execution_count": 524,
   "metadata": {},
   "outputs": [
    {
     "data": {
      "image/png": "[encoded data removed]",
      "text/plain": [
       "<Figure size 640x480 with 2 Axes>"
      ]
     },
     "metadata": {},
     "output_type": "display_data"
    }
   ],
   "source": [
    "fig,ax = plt.subplots(2)\n",
    "ax[0].plot(y_train, label='Train')\n",
    "ax[0].plot(y_val, label='Valid')\n",
    "ax[0].plot(y_test, label='Test')\n",
    "\n",
    "ax[1].plot(X_train.index[14:], train_pred, label='Train_pred')\n",
    "ax[1].set_xlim(10500,20000)\n",
    "ax[1].plot(X_val.index[14:], val_pred, label='Test_pred')\n",
    "ax[1].plot(X_test.index[14:], test_pred, label='Test_pred')\n",
    "\n",
    "plt.legend()\n",
    "plt.show()"
   ]
  },
  {
   "cell_type": "code",
   "execution_count": 510,
   "metadata": {},
   "outputs": [],
   "source": [
    "from sklearn.metrics import root_mean_squared_error as RMSE\n",
    "from sklearn.metrics import mean_absolute_percentage_error as MAPE\n",
    "from sklearn.metrics import mean_absolute_error as MAE\n"
   ]
  },
  {
   "cell_type": "code",
   "execution_count": 511,
   "metadata": {},
   "outputs": [
    {
     "data": {
      "text/plain": [
       "0.11199331603391"
      ]
     },
     "execution_count": 511,
     "metadata": {},
     "output_type": "execute_result"
    }
   ],
   "source": [
    "MAPE(train_pred, y_train_pre)"
   ]
  },
  {
   "cell_type": "code",
   "execution_count": 525,
   "metadata": {},
   "outputs": [
    {
     "data": {
      "text/html": [
       "<div>\n",
       "<style scoped>\n",
       "    .dataframe tbody tr th:only-of-type {\n",
       "        vertical-align: middle;\n",
       "    }\n",
       "\n",
       "    .dataframe tbody tr th {\n",
       "        vertical-align: top;\n",
       "    }\n",
       "\n",
       "    .dataframe thead th {\n",
       "        text-align: right;\n",
       "    }\n",
       "</style>\n",
       "<table border=\"1\" class=\"dataframe\">\n",
       "  <thead>\n",
       "    <tr style=\"text-align: right;\">\n",
       "      <th></th>\n",
       "      <th>FX_EURONOK</th>\n",
       "      <th>Interest_rate</th>\n",
       "      <th>Food_index</th>\n",
       "    </tr>\n",
       "    <tr>\n",
       "      <th>Date</th>\n",
       "      <th></th>\n",
       "      <th></th>\n",
       "      <th></th>\n",
       "    </tr>\n",
       "  </thead>\n",
       "  <tbody>\n",
       "    <tr>\n",
       "      <th>2001-01-01</th>\n",
       "      <td>8.27300</td>\n",
       "      <td>5.5</td>\n",
       "      <td>59.936571</td>\n",
       "    </tr>\n",
       "    <tr>\n",
       "      <th>2001-01-08</th>\n",
       "      <td>8.20900</td>\n",
       "      <td>5.5</td>\n",
       "      <td>59.936571</td>\n",
       "    </tr>\n",
       "    <tr>\n",
       "      <th>2001-01-15</th>\n",
       "      <td>8.27250</td>\n",
       "      <td>5.5</td>\n",
       "      <td>59.936571</td>\n",
       "    </tr>\n",
       "    <tr>\n",
       "      <th>2001-01-22</th>\n",
       "      <td>8.20700</td>\n",
       "      <td>5.5</td>\n",
       "      <td>59.936571</td>\n",
       "    </tr>\n",
       "    <tr>\n",
       "      <th>2001-01-29</th>\n",
       "      <td>8.19600</td>\n",
       "      <td>5.5</td>\n",
       "      <td>59.936571</td>\n",
       "    </tr>\n",
       "    <tr>\n",
       "      <th>...</th>\n",
       "      <td>...</td>\n",
       "      <td>...</td>\n",
       "      <td>...</td>\n",
       "    </tr>\n",
       "    <tr>\n",
       "      <th>2019-04-22</th>\n",
       "      <td>9.67820</td>\n",
       "      <td>0.5</td>\n",
       "      <td>95.939067</td>\n",
       "    </tr>\n",
       "    <tr>\n",
       "      <th>2019-04-29</th>\n",
       "      <td>9.78252</td>\n",
       "      <td>0.5</td>\n",
       "      <td>95.939067</td>\n",
       "    </tr>\n",
       "    <tr>\n",
       "      <th>2019-05-06</th>\n",
       "      <td>9.85280</td>\n",
       "      <td>0.5</td>\n",
       "      <td>95.340978</td>\n",
       "    </tr>\n",
       "    <tr>\n",
       "      <th>2019-05-13</th>\n",
       "      <td>9.78153</td>\n",
       "      <td>0.5</td>\n",
       "      <td>95.340978</td>\n",
       "    </tr>\n",
       "    <tr>\n",
       "      <th>2019-05-20</th>\n",
       "      <td>9.73030</td>\n",
       "      <td>0.5</td>\n",
       "      <td>95.340978</td>\n",
       "    </tr>\n",
       "  </tbody>\n",
       "</table>\n",
       "<p>960 rows × 3 columns</p>\n",
       "</div>"
      ],
      "text/plain": [
       "            FX_EURONOK  Interest_rate  Food_index\n",
       "Date                                             \n",
       "2001-01-01     8.27300            5.5   59.936571\n",
       "2001-01-08     8.20900            5.5   59.936571\n",
       "2001-01-15     8.27250            5.5   59.936571\n",
       "2001-01-22     8.20700            5.5   59.936571\n",
       "2001-01-29     8.19600            5.5   59.936571\n",
       "...                ...            ...         ...\n",
       "2019-04-22     9.67820            0.5   95.939067\n",
       "2019-04-29     9.78252            0.5   95.939067\n",
       "2019-05-06     9.85280            0.5   95.340978\n",
       "2019-05-13     9.78153            0.5   95.340978\n",
       "2019-05-20     9.73030            0.5   95.340978\n",
       "\n",
       "[960 rows x 3 columns]"
      ]
     },
     "execution_count": 525,
     "metadata": {},
     "output_type": "execute_result"
    }
   ],
   "source": [
    "X_train"
   ]
  },
  {
   "cell_type": "code",
   "execution_count": 512,
   "metadata": {},
   "outputs": [
    {
     "data": {
      "text/plain": [
       "'2.88 thousands'"
      ]
     },
     "execution_count": 512,
     "metadata": {},
     "output_type": "execute_result"
    }
   ],
   "source": [
    "str(X_train.size/1000)+ ' thousands'"
   ]
  },
  {
   "cell_type": "code",
   "execution_count": 528,
   "metadata": {},
   "outputs": [],
   "source": [
    "# pd.DataFrame(X_train_preprocessed)"
   ]
  },
  {
   "cell_type": "code",
   "execution_count": 513,
   "metadata": {},
   "outputs": [
    {
     "data": {
      "text/plain": [
       "'1.12574 million'"
      ]
     },
     "execution_count": 513,
     "metadata": {},
     "output_type": "execute_result"
    }
   ],
   "source": [
    "str(X_train_preprocessed.size/1000/1000) +' million'"
   ]
  },
  {
   "cell_type": "code",
   "execution_count": 514,
   "metadata": {},
   "outputs": [
    {
     "data": {
      "text/plain": [
       "390.88194444444446"
      ]
     },
     "execution_count": 514,
     "metadata": {},
     "output_type": "execute_result"
    }
   ],
   "source": [
    "1125740/2880"
   ]
  }
 ],
 "metadata": {
  "kernelspec": {
   "display_name": "base",
   "language": "python",
   "name": "python3"
  },
  "language_info": {
   "codemirror_mode": {
    "name": "ipython",
    "version": 3
   },
   "file_extension": ".py",
   "mimetype": "text/x-python",
   "name": "python",
   "nbconvert_exporter": "python",
   "pygments_lexer": "ipython3",
   "version": "3.9.13"
  }
 },
 "nbformat": 4,
 "nbformat_minor": 2
}
