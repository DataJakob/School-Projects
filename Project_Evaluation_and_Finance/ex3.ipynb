{
 "cells": [
  {
   "cell_type": "markdown",
   "metadata": {},
   "source": [
    "<h1> Task 3, Binomial Pricing Model"
   ]
  },
  {
   "cell_type": "markdown",
   "metadata": {},
   "source": [
    "Fix correct option prices when there is discrete dividends. Fix prepaid prices"
   ]
  },
  {
   "cell_type": "code",
   "execution_count": 8,
   "metadata": {},
   "outputs": [],
   "source": [
    "import numpy as np \n",
    "import matplotlib.pyplot as plt\n",
    "\n",
    "class BinPriMod:\n",
    "    def __init__(self, S:float, K:float, sigma:float, total_time:float, period_timespan:float, rate_i:float,\n",
    "                 option_type:str, exercise_style:str):\n",
    "        self.spot = S\n",
    "        self.strike = K\n",
    "        self.risk = sigma\n",
    "        self.total_time = total_time\n",
    "        self.period_time_span = period_timespan\n",
    "        self.risk_free = rate_i\n",
    "        self.option_type = option_type\n",
    "        self.exercise_style = exercise_style\n",
    "        self.n_periods = int(self.total_time / self.period_time_span)\n",
    "        self.dividend_yield = None\n",
    "        self.time_single_div = None\n",
    "        self.amount_single_div = None\n",
    "        self.values = None\n",
    "        self.prices = None\n",
    "\n",
    "\n",
    "    def help():\n",
    "        print('def __init__(self, S, K, sigma, T, h, rate_i, option_type, exercise_style):')\n",
    "        print('\\n')\n",
    "        print('Attributes:\\n    up_and_down,\\n  storage_values,\\n   option_price')\n",
    "\n",
    "    \n",
    "    def set_dividends(self, cont=None, cont_rate=None, TD=None, amount=None):\n",
    "        if cont == True:\n",
    "            self.dividend_yield = cont_rate\n",
    "        else:\n",
    "            self.dividend_yield = cont_rate\n",
    "            self.time_single_div = TD\n",
    "            self.amount_single_div = amount\n",
    "\n",
    "    def up_and_down(self, spot, t):   \n",
    "        u = np.e**((self.risk_free - self.dividend_yield) * \n",
    "                                self.period_time_span) * np.e**(self.risk*np.sqrt(self.period_time_span))\n",
    "        d = np.e**((self.risk_free -self.dividend_yield) * \n",
    "                                self.period_time_span) *np.e**(-self.risk*np.sqrt(self.period_time_span))\n",
    "        if self.amount_single_div == None:\n",
    "            uS = spot*u\n",
    "            dS = spot*d\n",
    "            return [uS,dS]\n",
    "        else: \n",
    "            pFp = spot - self.amount_single_div*np.e**(-self.risk_free*(self.time_single_div-t))\n",
    "            div_multiplier = np.e**(-self.risk_free*(self.time_single_div-(t+self.period_time_span)))\n",
    "            uS = pFp*u + self.amount_single_div*div_multiplier\n",
    "            dS = pFp*d + self.amount_single_div*div_multiplier\n",
    "            if self.time_single_div >= t and self.time_single_div <t+self.period_time_span:\n",
    "                uS = (spot-self.amount_single_div)*u\n",
    "                dS = (spot-self.amount_single_div)*d\n",
    "            return [uS, dS]\n",
    "\n",
    "\n",
    "    def storage_values(self, post=None):\n",
    "        storage = [[self.spot]]\n",
    "        for i in range(0, self.n_periods,1):\n",
    "            sub_storage = []\n",
    "            for j in range(0, len(storage[i]),2):   \n",
    "                sub_storage.append(np.array(self.up_and_down(storage[i][j],(i)*self.period_time_span)))\n",
    "            if (i+1)>=2:\n",
    "                if (i+1)%2== 0:\n",
    "                    sub_storage.append(np.reshape(self.up_and_down(storage[i][j+1], (i)*self.period_time_span)[1],(1,)))                                            \n",
    "            fixed = np.concatenate(sub_storage)\n",
    "            storage.append(np.round(fixed,3))\n",
    "        self.values = storage\n",
    "        if post == True:\n",
    "            return self.values \n",
    "\n",
    "\n",
    "    def option_price(self, \n",
    "                     up, down, alt_spot,\n",
    "                     high_optpri, low_optpri):\n",
    "        u = up/alt_spot\n",
    "        d = down/alt_spot\n",
    "        p = (np.e**((self.risk_free-self.dividend_yield)*self.period_time_span)-d)/(u-d)\n",
    "\n",
    "        opt_price = np.e**(-self.risk_free*self.period_time_span)*((high_optpri*p)+(low_optpri*(1-p)))\n",
    "\n",
    "        if self.exercise_style == 'European':\n",
    "            opt_price = opt_price\n",
    "        elif self.exercise_style == 'American':\n",
    "            if self.option_type =='Put':\n",
    "                opt_price = max(opt_price, self.strike - alt_spot)\n",
    "            else:\n",
    "                opt_price = max(opt_price, alt_spot-self.strike)            \n",
    "        else:\n",
    "            print('State exercise style!!!')\n",
    "        return round(opt_price,3)\n",
    "    \n",
    "\n",
    "    def storage_prices(self, post=None):\n",
    "        latest_opt_pri = []\n",
    "        if self.option_type=='Call':\n",
    "            array = np.where(self.values[self.n_periods]-self.strike>0,self.values[self.n_periods]-self.strike,0)\n",
    "        elif self.option_type=='Put':\n",
    "            array = np.where(self.values[self.n_periods]-self.strike<0,self.values[self.n_periods]-self.strike,0)\n",
    "        else:\n",
    "            print('State option type!!!')\n",
    "        latest_opt_pri.append(abs(array))\n",
    "\n",
    "        for i in range(0, self.n_periods, 1): \n",
    "            sub_optpri_storage = []\n",
    "            for j in range(0,self.n_periods-i,1):   #periods- 1\n",
    "                sub_optpri_storage.append(self.option_price(self.values[self.n_periods-i][j], \n",
    "                                                            self.values[self.n_periods-i][j+1],\n",
    "                                                            self.values[self.n_periods-(i+1)][j],\n",
    "                                                            latest_opt_pri[i][j], \n",
    "                                                            latest_opt_pri[i][j+1]))\n",
    "            latest_opt_pri.append(np.round(sub_optpri_storage,2))\n",
    "        # self.prices = np.flip(latest_opt_pri)\n",
    "        self.prices = latest_opt_pri\n",
    "        if post == True:\n",
    "            return self.prices\n",
    "        return self.prices\n",
    "         \n",
    "\n",
    "    def plot_tree(self,txt_shift):\n",
    "        fig, ax = plt.subplots(figsize=(6,6))\n",
    "        for i in range(0,int(self.n_periods)+1,1):\n",
    "            ax.scatter(x=np.repeat((i)*1,i+1), y= self.values[i])\n",
    "            for j in range(0,i+1,1):\n",
    "                text_value = 'Value '+ str(self.values[i][j])\n",
    "                text_price = 'Price '+ str(self.prices[self.n_periods-i][j])\n",
    "                ax.annotate(text_value, xy=(i*1, self.values[i][j]+txt_shift))\n",
    "                ax.annotate(text_price, xy=(i*1, self.values[i][j]-txt_shift))\n",
    "            ax.set_xlabel('Periods')\n",
    "        ax.set_ylabel('Price')\n",
    "        plt.xlim(-1,self.n_periods+2*self.period_time_span)\n",
    "        plt.title('Binomial tree for '+self.exercise_style+' '+self.option_type+' option')\n",
    "        plt.show()\n",
    "\n"
   ]
  },
  {
   "cell_type": "markdown",
   "metadata": {},
   "source": [
    "up, down, spot, highopt, lowpot"
   ]
  },
  {
   "cell_type": "code",
   "execution_count": 9,
   "metadata": {},
   "outputs": [
    {
     "data": {
      "image/png": "[encoded data removed]",
      "text/plain": [
       "<Figure size 600x600 with 1 Axes>"
      ]
     },
     "metadata": {},
     "output_type": "display_data"
    }
   ],
   "source": [
    "myTree = BinPriMod(110, 100, 0.3, 1, (1/3), 0.05, 'Call', 'American')\n",
    "myTree.set_dividends(cont=True, cont_rate=0.035, TD=None, amount=None)\n",
    "myTree.storage_values(False)\n",
    "myTree.storage_prices(True)\n",
    "myTree.plot_tree(2)"
   ]
  },
  {
   "cell_type": "code",
   "execution_count": 10,
   "metadata": {},
   "outputs": [
    {
     "data": {
      "text/plain": [
       "[array([30.684,  7.777,  0.   ,  0.   ]),\n",
       " array([22.64,  5.93,  0.  ]),\n",
       " array([13.12,  2.6 ]),\n",
       " array([7.15])]"
      ]
     },
     "execution_count": 10,
     "metadata": {},
     "output_type": "execute_result"
    }
   ],
   "source": [
    "myTree = BinPriMod(41, 40, 0.3392, 1, 1/3, 0.08, 'Call', 'American')\n",
    "myTree.set_dividends(cont=False, cont_rate=0, TD=8/12, amount=5)\n",
    "myTree.storage_values(False)\n",
    "myTree.storage_prices(False)\n",
    "# myTree.plot_tree(1)"
   ]
  },
  {
   "cell_type": "code",
   "execution_count": 11,
   "metadata": {},
   "outputs": [],
   "source": [
    "def price(up,down,opthigh,optlow,spot):\n",
    "    upr = up/spot\n",
    "    downr = down/spot\n",
    "    p = (np.e**(0.08*1/3)-downr)/(upr-downr)\n",
    "    price = np.e**(-0.08*1/3)*((opthigh*p)+(optlow*(1-p)))\n",
    "    # print(p)\n",
    "    return price"
   ]
  },
  {
   "cell_type": "code",
   "execution_count": 12,
   "metadata": {},
   "outputs": [
    {
     "data": {
      "text/plain": [
       "18.035570025874186"
      ]
     },
     "execution_count": 12,
     "metadata": {},
     "output_type": "execute_result"
    }
   ],
   "source": [
    "price(70.686, 47.777, 30.686, 7.777, 61.583-4.6)"
   ]
  },
  {
   "cell_type": "code",
   "execution_count": 13,
   "metadata": {},
   "outputs": [],
   "source": [
    "s = 61.583\n",
    "e = np.e**(0.08*0.333)\n",
    "u = 70.684/s\n",
    "d = 47.777/s\n",
    "oppe = 30.683*((e-u)/(d-u))\n",
    "nede = 7.777*((d-e)/(d-u))\n",
    "\n",
    "# np.e**(-0.08*0.333)*(oppe+nede)\n"
   ]
  },
  {
   "cell_type": "code",
   "execution_count": 14,
   "metadata": {},
   "outputs": [
    {
     "ename": "TypeError",
     "evalue": "can't multiply sequence by non-int of type 'float'",
     "output_type": "error",
     "traceback": [
      "\u001b[1;31m---------------------------------------------------------------------------\u001b[0m",
      "\u001b[1;31mTypeError\u001b[0m                                 Traceback (most recent call last)",
      "Cell \u001b[1;32mIn[14], line 1\u001b[0m\n\u001b[1;32m----> 1\u001b[0m e\u001b[38;5;241m*\u001b[39m(()\u001b[38;5;241m+\u001b[39m())\n",
      "\u001b[1;31mTypeError\u001b[0m: can't multiply sequence by non-int of type 'float'"
     ]
    }
   ],
   "source": [
    "e*(()+())"
   ]
  },
  {
   "cell_type": "code",
   "execution_count": null,
   "metadata": {},
   "outputs": [],
   "source": [
    "# boy.storage_prices()"
   ]
  },
  {
   "cell_type": "code",
   "execution_count": null,
   "metadata": {},
   "outputs": [
    {
     "data": {
      "text/plain": [
       "49.773083960233926"
      ]
     },
     "execution_count": 7,
     "metadata": {},
     "output_type": "execute_result"
    }
   ],
   "source": [
    "40*np.e**(0.08*0.33+0.33*(0.3392)**0.5)"
   ]
  },
  {
   "cell_type": "code",
   "execution_count": null,
   "metadata": {},
   "outputs": [
    {
     "data": {
      "text/plain": [
       "51.210845455473915"
      ]
     },
     "execution_count": 8,
     "metadata": {},
     "output_type": "execute_result"
    }
   ],
   "source": [
    "41*np.e**(0.08*0.333) * np.e**(0.3392*(0.333)**0.5)"
   ]
  }
 ],
 "metadata": {
  "kernelspec": {
   "display_name": "base",
   "language": "python",
   "name": "python3"
  },
  "language_info": {
   "codemirror_mode": {
    "name": "ipython",
    "version": 3
   },
   "file_extension": ".py",
   "mimetype": "text/x-python",
   "name": "python",
   "nbconvert_exporter": "python",
   "pygments_lexer": "ipython3",
   "version": "3.11.7"
  }
 },
 "nbformat": 4,
 "nbformat_minor": 2
}
