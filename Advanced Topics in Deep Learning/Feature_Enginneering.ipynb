{
 "cells": [
  {
   "cell_type": "markdown",
   "metadata": {},
   "source": [
    "<h1> Feature engineering <br>\n",
    "Modelling <br>\n",
    "and Evaluation</h2>\n",
    "<br>\n",
    "<br>\n",
    "<b> This is work in progress! </b> <p> We need to add the deterministic process to the training data. We need to find out how to implement lagged variables, we need to discuss whether,we should use future values as well. "
   ]
  },
  {
   "cell_type": "code",
   "execution_count": 492,
   "metadata": {},
   "outputs": [],
   "source": [
    "import numpy as np\n",
    "import pandas as pd\n",
    "import matplotlib.pyplot as plt\n",
    "import seaborn as sns\n",
    "\n",
    "from sklearn.model_selection import train_test_split\n",
    "from sklearn.preprocessing import StandardScaler\n",
    "from sklearn.pipeline import Pipeline\n",
    "from sklearn.preprocessing import FunctionTransformer\n",
    "\n",
    "import tensorflow as tf\n",
    "from tensorflow import keras\n",
    "from keras import Sequential, layers, Input\n",
    "from keras.layers import Dense\n",
    "from keras.layers import LSTM\n",
    "from keras.layers import Activation\n",
    "\n",
    "from statsmodels.tsa.deterministic import DeterministicProcess"
   ]
  },
  {
   "cell_type": "code",
   "execution_count": 541,
   "metadata": {},
   "outputs": [],
   "source": [
    "df = pd.read_csv('Preprocessed_data.csv')\n",
    "\n",
    "\n",
    "df.index = pd.to_datetime(df['Date'], format='%Y-%m-%d')\n",
    "df.drop(['Date', 'Salmon_exp_price'], axis=1, inplace=True)"
   ]
  },
  {
   "cell_type": "code",
   "execution_count": 484,
   "metadata": {},
   "outputs": [],
   "source": [
    "# dp_train = DeterministicProcess(\n",
    "#     index=X_train.index,\n",
    "#     constant=True,\n",
    "#     order=1,\n",
    "#     drop=True\n",
    "# )"
   ]
  },
  {
   "cell_type": "code",
   "execution_count": 485,
   "metadata": {},
   "outputs": [],
   "source": [
    "# dp_train.in_sample()"
   ]
  },
  {
   "cell_type": "code",
   "execution_count": 542,
   "metadata": {},
   "outputs": [],
   "source": [
    "y = df['Salmon_exp_vol']\n",
    "X = df.loc[:,'FX_EURONOK':]\n",
    "\n",
    "X_train, X_test, y_train, y_test = train_test_split(X,y, \n",
    "                                                    test_size=0.2,\n",
    "                                                    shuffle=False)"
   ]
  },
  {
   "cell_type": "code",
   "execution_count": 543,
   "metadata": {},
   "outputs": [],
   "source": [
    "X_train['FX_EURONOK']['2002-10-14'] = 7.34\n",
    "X_train['FX_EURONOK']['2008-08-04'] = 7.9995\n",
    "X_train['FX_EURONOK']['2008-08-08'] = 7.9915\n",
    "X_train['FX_EURONOK']['2008-08-11'] = 7.9975\n",
    "X_train['FX_EURONOK']['2008-08-18'] = 7.9740"
   ]
  },
  {
   "cell_type": "code",
   "execution_count": 483,
   "metadata": {},
   "outputs": [],
   "source": [
    "# def lagged_vars(X):\n",
    "#     vol = [1,2,3,4,5]\n",
    "#     fx = []"
   ]
  },
  {
   "cell_type": "code",
   "execution_count": 556,
   "metadata": {},
   "outputs": [],
   "source": [
    "def det_process(X):\n",
    "    dp = DeterministicProcess(\n",
    "        index=X.index,\n",
    "        constant=True,\n",
    "        order=1,\n",
    "        drop=True\n",
    "    )\n",
    "    new_X = pd.concat([X,dp.in_sample()], axis=1)\n",
    "    return new_X\n",
    "processs = FunctionTransformer(func=det_process)\n",
    "\n",
    "\n",
    "def log_transformation(X):\n",
    "    X['FX_EURONOK'] = np.log1p(X['FX_EURONOK'])\n",
    "    return X\n",
    "loger = FunctionTransformer(func=log_transformation)\n",
    "\n",
    "normalizer = StandardScaler()\n",
    "\n",
    "def reshaper(X):\n",
    "    X_reshaped = X.reshape(X.shape[0], 1, X.shape[1])    \n",
    "    return   X_reshaped\n",
    "reshape = FunctionTransformer(func=reshaper)\n",
    "\n",
    "\n",
    "\n",
    "model = keras.Sequential([\n",
    "    layers.LSTM(3, input_shape=(1,5)),\n",
    "    layers.Dropout(0.4),\n",
    "    layers.Dense(8, activation='relu'),\n",
    "    # layers.BatchNormalization(),\n",
    "    # layers.Dense(2, activation='relu'),\n",
    "    layers.Dense(1)\n",
    "])\n",
    "model.compile(optimizer='adam',\n",
    "              loss='mae')"
   ]
  },
  {
   "cell_type": "code",
   "execution_count": 562,
   "metadata": {},
   "outputs": [
    {
     "data": {
      "text/html": [
       "<div>\n",
       "<style scoped>\n",
       "    .dataframe tbody tr th:only-of-type {\n",
       "        vertical-align: middle;\n",
       "    }\n",
       "\n",
       "    .dataframe tbody tr th {\n",
       "        vertical-align: top;\n",
       "    }\n",
       "\n",
       "    .dataframe thead th {\n",
       "        text-align: right;\n",
       "    }\n",
       "</style>\n",
       "<table border=\"1\" class=\"dataframe\">\n",
       "  <thead>\n",
       "    <tr style=\"text-align: right;\">\n",
       "      <th></th>\n",
       "      <th>FX_EURONOK</th>\n",
       "      <th>Interest_rate</th>\n",
       "      <th>Food_index</th>\n",
       "    </tr>\n",
       "    <tr>\n",
       "      <th>Date</th>\n",
       "      <th></th>\n",
       "      <th></th>\n",
       "      <th></th>\n",
       "    </tr>\n",
       "  </thead>\n",
       "  <tbody>\n",
       "    <tr>\n",
       "      <th>2019-05-27</th>\n",
       "      <td>9.76837</td>\n",
       "      <td>0.50</td>\n",
       "      <td>95.340978</td>\n",
       "    </tr>\n",
       "    <tr>\n",
       "      <th>2019-06-03</th>\n",
       "      <td>9.80312</td>\n",
       "      <td>0.50</td>\n",
       "      <td>95.086631</td>\n",
       "    </tr>\n",
       "    <tr>\n",
       "      <th>2019-06-10</th>\n",
       "      <td>9.76780</td>\n",
       "      <td>0.50</td>\n",
       "      <td>95.086631</td>\n",
       "    </tr>\n",
       "    <tr>\n",
       "      <th>2019-06-17</th>\n",
       "      <td>9.65683</td>\n",
       "      <td>0.50</td>\n",
       "      <td>95.086631</td>\n",
       "    </tr>\n",
       "    <tr>\n",
       "      <th>2019-06-24</th>\n",
       "      <td>9.67580</td>\n",
       "      <td>0.50</td>\n",
       "      <td>95.086631</td>\n",
       "    </tr>\n",
       "    <tr>\n",
       "      <th>...</th>\n",
       "      <td>...</td>\n",
       "      <td>...</td>\n",
       "      <td>...</td>\n",
       "    </tr>\n",
       "    <tr>\n",
       "      <th>2023-11-27</th>\n",
       "      <td>11.61061</td>\n",
       "      <td>2.25</td>\n",
       "      <td>114.626222</td>\n",
       "    </tr>\n",
       "    <tr>\n",
       "      <th>2023-12-04</th>\n",
       "      <td>11.73763</td>\n",
       "      <td>2.50</td>\n",
       "      <td>112.403991</td>\n",
       "    </tr>\n",
       "    <tr>\n",
       "      <th>2023-12-11</th>\n",
       "      <td>11.42400</td>\n",
       "      <td>2.50</td>\n",
       "      <td>112.403991</td>\n",
       "    </tr>\n",
       "    <tr>\n",
       "      <th>2023-12-18</th>\n",
       "      <td>11.23379</td>\n",
       "      <td>2.50</td>\n",
       "      <td>112.403991</td>\n",
       "    </tr>\n",
       "    <tr>\n",
       "      <th>2023-12-25</th>\n",
       "      <td>11.22391</td>\n",
       "      <td>2.50</td>\n",
       "      <td>112.403991</td>\n",
       "    </tr>\n",
       "  </tbody>\n",
       "</table>\n",
       "<p>240 rows × 3 columns</p>\n",
       "</div>"
      ],
      "text/plain": [
       "            FX_EURONOK  Interest_rate  Food_index\n",
       "Date                                             \n",
       "2019-05-27     9.76837           0.50   95.340978\n",
       "2019-06-03     9.80312           0.50   95.086631\n",
       "2019-06-10     9.76780           0.50   95.086631\n",
       "2019-06-17     9.65683           0.50   95.086631\n",
       "2019-06-24     9.67580           0.50   95.086631\n",
       "...                ...            ...         ...\n",
       "2023-11-27    11.61061           2.25  114.626222\n",
       "2023-12-04    11.73763           2.50  112.403991\n",
       "2023-12-11    11.42400           2.50  112.403991\n",
       "2023-12-18    11.23379           2.50  112.403991\n",
       "2023-12-25    11.22391           2.50  112.403991\n",
       "\n",
       "[240 rows x 3 columns]"
      ]
     },
     "execution_count": 562,
     "metadata": {},
     "output_type": "execute_result"
    }
   ],
   "source": [
    "X_test"
   ]
  },
  {
   "cell_type": "code",
   "execution_count": 564,
   "metadata": {},
   "outputs": [
    {
     "data": {
      "text/html": [
       "<div>\n",
       "<style scoped>\n",
       "    .dataframe tbody tr th:only-of-type {\n",
       "        vertical-align: middle;\n",
       "    }\n",
       "\n",
       "    .dataframe tbody tr th {\n",
       "        vertical-align: top;\n",
       "    }\n",
       "\n",
       "    .dataframe thead th {\n",
       "        text-align: right;\n",
       "    }\n",
       "</style>\n",
       "<table border=\"1\" class=\"dataframe\">\n",
       "  <thead>\n",
       "    <tr style=\"text-align: right;\">\n",
       "      <th></th>\n",
       "      <th>FX_EURONOK</th>\n",
       "      <th>Interest_rate</th>\n",
       "      <th>Food_index</th>\n",
       "      <th>const</th>\n",
       "      <th>trend</th>\n",
       "    </tr>\n",
       "    <tr>\n",
       "      <th>Date</th>\n",
       "      <th></th>\n",
       "      <th></th>\n",
       "      <th></th>\n",
       "      <th></th>\n",
       "      <th></th>\n",
       "    </tr>\n",
       "  </thead>\n",
       "  <tbody>\n",
       "    <tr>\n",
       "      <th>2019-05-27</th>\n",
       "      <td>2.376613</td>\n",
       "      <td>0.50</td>\n",
       "      <td>95.340978</td>\n",
       "      <td>1.0</td>\n",
       "      <td>1.0</td>\n",
       "    </tr>\n",
       "    <tr>\n",
       "      <th>2019-06-03</th>\n",
       "      <td>2.379835</td>\n",
       "      <td>0.50</td>\n",
       "      <td>95.086631</td>\n",
       "      <td>1.0</td>\n",
       "      <td>2.0</td>\n",
       "    </tr>\n",
       "    <tr>\n",
       "      <th>2019-06-10</th>\n",
       "      <td>2.376560</td>\n",
       "      <td>0.50</td>\n",
       "      <td>95.086631</td>\n",
       "      <td>1.0</td>\n",
       "      <td>3.0</td>\n",
       "    </tr>\n",
       "    <tr>\n",
       "      <th>2019-06-17</th>\n",
       "      <td>2.366201</td>\n",
       "      <td>0.50</td>\n",
       "      <td>95.086631</td>\n",
       "      <td>1.0</td>\n",
       "      <td>4.0</td>\n",
       "    </tr>\n",
       "    <tr>\n",
       "      <th>2019-06-24</th>\n",
       "      <td>2.367979</td>\n",
       "      <td>0.50</td>\n",
       "      <td>95.086631</td>\n",
       "      <td>1.0</td>\n",
       "      <td>5.0</td>\n",
       "    </tr>\n",
       "    <tr>\n",
       "      <th>...</th>\n",
       "      <td>...</td>\n",
       "      <td>...</td>\n",
       "      <td>...</td>\n",
       "      <td>...</td>\n",
       "      <td>...</td>\n",
       "    </tr>\n",
       "    <tr>\n",
       "      <th>2023-11-27</th>\n",
       "      <td>2.534539</td>\n",
       "      <td>2.25</td>\n",
       "      <td>114.626222</td>\n",
       "      <td>1.0</td>\n",
       "      <td>236.0</td>\n",
       "    </tr>\n",
       "    <tr>\n",
       "      <th>2023-12-04</th>\n",
       "      <td>2.544561</td>\n",
       "      <td>2.50</td>\n",
       "      <td>112.403991</td>\n",
       "      <td>1.0</td>\n",
       "      <td>237.0</td>\n",
       "    </tr>\n",
       "    <tr>\n",
       "      <th>2023-12-11</th>\n",
       "      <td>2.519630</td>\n",
       "      <td>2.50</td>\n",
       "      <td>112.403991</td>\n",
       "      <td>1.0</td>\n",
       "      <td>238.0</td>\n",
       "    </tr>\n",
       "    <tr>\n",
       "      <th>2023-12-18</th>\n",
       "      <td>2.504202</td>\n",
       "      <td>2.50</td>\n",
       "      <td>112.403991</td>\n",
       "      <td>1.0</td>\n",
       "      <td>239.0</td>\n",
       "    </tr>\n",
       "    <tr>\n",
       "      <th>2023-12-25</th>\n",
       "      <td>2.503394</td>\n",
       "      <td>2.50</td>\n",
       "      <td>112.403991</td>\n",
       "      <td>1.0</td>\n",
       "      <td>240.0</td>\n",
       "    </tr>\n",
       "  </tbody>\n",
       "</table>\n",
       "<p>240 rows × 5 columns</p>\n",
       "</div>"
      ],
      "text/plain": [
       "            FX_EURONOK  Interest_rate  Food_index  const  trend\n",
       "Date                                                           \n",
       "2019-05-27    2.376613           0.50   95.340978    1.0    1.0\n",
       "2019-06-03    2.379835           0.50   95.086631    1.0    2.0\n",
       "2019-06-10    2.376560           0.50   95.086631    1.0    3.0\n",
       "2019-06-17    2.366201           0.50   95.086631    1.0    4.0\n",
       "2019-06-24    2.367979           0.50   95.086631    1.0    5.0\n",
       "...                ...            ...         ...    ...    ...\n",
       "2023-11-27    2.534539           2.25  114.626222    1.0  236.0\n",
       "2023-12-04    2.544561           2.50  112.403991    1.0  237.0\n",
       "2023-12-11    2.519630           2.50  112.403991    1.0  238.0\n",
       "2023-12-18    2.504202           2.50  112.403991    1.0  239.0\n",
       "2023-12-25    2.503394           2.50  112.403991    1.0  240.0\n",
       "\n",
       "[240 rows x 5 columns]"
      ]
     },
     "execution_count": 564,
     "metadata": {},
     "output_type": "execute_result"
    }
   ],
   "source": [
    "pred"
   ]
  },
  {
   "cell_type": "code",
   "execution_count": 563,
   "metadata": {},
   "outputs": [],
   "source": [
    "my_pipe = Pipeline(steps=[\n",
    "    ('pro', processs),\n",
    "    ('log', loger),\n",
    "    # ('scaler', normalizer),\n",
    "    # ('res', reshape),\n",
    "    # ('lstm', model)\n",
    "])\n",
    "\n",
    "# my_pipe.fit(X_train, y_train, lstm__epochs=20, lstm__batch_size=100)\n",
    "# train_pred = my_pipe.predict(X_train)\n",
    "# test_pred = my_pipe.predict(X_test)\n",
    "\n",
    "my_pipe.fit(X_train, y_train)\n",
    "pred = my_pipe.transform(X_test)"
   ]
  },
  {
   "cell_type": "code",
   "execution_count": 558,
   "metadata": {},
   "outputs": [
    {
     "data": {
      "image/png": "[encoded data removed]",
      "text/plain": [
       "<Figure size 640x480 with 2 Axes>"
      ]
     },
     "metadata": {},
     "output_type": "display_data"
    }
   ],
   "source": [
    "fig,ax = plt.subplots(2)\n",
    "ax[0].plot(y_train, label='Train')\n",
    "ax[0].plot(y_test, label='Test')\n",
    "\n",
    "ax[1].plot(X_train.index, train_pred, label='Train_pred')\n",
    "ax[1].set_xlim(10500,20000)\n",
    "ax[1].plot(X_test.index, test_pred, label='Test_pred')\n",
    "\n",
    "plt.legend()\n",
    "plt.show()"
   ]
  },
  {
   "cell_type": "code",
   "execution_count": 538,
   "metadata": {},
   "outputs": [
    {
     "data": {
      "text/plain": [
       "0      0\n",
       "1      0\n",
       "2      0\n",
       "3      0\n",
       "4      0\n",
       "      ..\n",
       "955    0\n",
       "956    0\n",
       "957    0\n",
       "958    0\n",
       "959    0\n",
       "Length: 960, dtype: int64"
      ]
     },
     "execution_count": 538,
     "metadata": {},
     "output_type": "execute_result"
    }
   ],
   "source": [
    "cols = ['a','b','c']\n",
    "a =  [pred[i][0][0] for i in range(0,len(pred),1)]\n",
    "b =  [pred[i][0][1] for i in range(0,len(pred),1)]\n",
    "c =  [pred[i][0][2] for i in range(0,len(pred),1)]\n",
    "\n",
    "new_df =  pd.DataFrame([a,b,c])\n",
    "new_df.isnull().sum()"
   ]
  },
  {
   "cell_type": "code",
   "execution_count": 539,
   "metadata": {},
   "outputs": [],
   "source": [
    "bol = new_df.isnull().sum()"
   ]
  },
  {
   "cell_type": "code",
   "execution_count": 540,
   "metadata": {},
   "outputs": [
    {
     "data": {
      "text/plain": [
       "[<matplotlib.lines.Line2D at 0x1afbac1b910>]"
      ]
     },
     "execution_count": 540,
     "metadata": {},
     "output_type": "execute_result"
    },
    {
     "data": {
      "image/png": "[encoded data removed]",
      "text/plain": [
       "<Figure size 640x480 with 1 Axes>"
      ]
     },
     "metadata": {},
     "output_type": "display_data"
    }
   ],
   "source": [
    "plt.plot(bol)"
   ]
  }
 ],
 "metadata": {
  "kernelspec": {
   "display_name": "base",
   "language": "python",
   "name": "python3"
  },
  "language_info": {
   "codemirror_mode": {
    "name": "ipython",
    "version": 3
   },
   "file_extension": ".py",
   "mimetype": "text/x-python",
   "name": "python",
   "nbconvert_exporter": "python",
   "pygments_lexer": "ipython3",
   "version": "3.9.13"
  }
 },
 "nbformat": 4,
 "nbformat_minor": 2
}
